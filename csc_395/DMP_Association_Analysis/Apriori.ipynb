{
 "nbformat": 4,
 "nbformat_minor": 0,
 "metadata": {
  "colab": {
   "name": "Apriori.ipynb",
   "provenance": [],
   "authorship_tag": "ABX9TyNYIh3fL4Y/9zBz34QtjkRJ"
  },
  "kernelspec": {
   "name": "python3",
   "display_name": "Python 3"
  },
  "language_info": {
   "name": "python"
  }
 },
 "cells": [
  {
   "cell_type": "markdown",
   "metadata": {
    "id": "jymFNqiq9SSl",
    "pycharm": {
     "name": "#%% md\n"
    }
   },
   "source": [
    "Imports"
   ]
  },
  {
   "cell_type": "code",
   "metadata": {
    "id": "Hg1lNQ6pArRZ",
    "executionInfo": {
     "status": "ok",
     "timestamp": 1635491634941,
     "user_tz": 240,
     "elapsed": 179,
     "user": {
      "displayName": "Jack Mayr",
      "photoUrl": "https://lh3.googleusercontent.com/a/default-user=s64",
      "userId": "14391554172767483827"
     }
    },
    "pycharm": {
     "name": "#%%\n"
    }
   },
   "source": [
    "import math\n",
    "import csv\n",
    "import pandas as pd\n",
    "import numpy as np\n",
    "import itertools\n",
    "# from google.colab import files"
   ],
   "execution_count": 1,
   "outputs": []
  },
  {
   "cell_type": "markdown",
   "metadata": {
    "id": "cBgGtzZJ9UMf",
    "pycharm": {
     "name": "#%% md\n"
    }
   },
   "source": [
    "Mounting drive to retrieve data"
   ]
  },
  {
   "cell_type": "code",
   "metadata": {
    "id": "tzKtGu61BAZ0",
    "colab": {
     "base_uri": "https://localhost:8080/"
    },
    "executionInfo": {
     "status": "ok",
     "timestamp": 1635489928974,
     "user_tz": 240,
     "elapsed": 25144,
     "user": {
      "displayName": "Jack Mayr",
      "photoUrl": "https://lh3.googleusercontent.com/a/default-user=s64",
      "userId": "14391554172767483827"
     }
    },
    "outputId": "39d2c431-8470-4dd9-a35b-b59991d6dd1a",
    "pycharm": {
     "name": "#%%\n"
    }
   },
   "source": [
    "# from google.colab import drive\n",
    "# drive.mount('/content/drive')\n",
    "\n",
    "\n",
    "\n"
   ],
   "execution_count": 3,
   "outputs": []
  },
  {
   "cell_type": "markdown",
   "metadata": {
    "id": "mYcdBjCT9Wun",
    "pycharm": {
     "name": "#%% md\n"
    }
   },
   "source": [
    "read in data"
   ]
  },
  {
   "cell_type": "code",
   "metadata": {
    "colab": {
     "base_uri": "https://localhost:8080/",
     "height": 419
    },
    "id": "r-PsHBiG7s6I",
    "executionInfo": {
     "status": "ok",
     "timestamp": 1635489929612,
     "user_tz": 240,
     "elapsed": 413,
     "user": {
      "displayName": "Jack Mayr",
      "photoUrl": "https://lh3.googleusercontent.com/a/default-user=s64",
      "userId": "14391554172767483827"
     }
    },
    "outputId": "bb33a2c4-b65e-40d8-95bf-5e68046af265",
    "pycharm": {
     "name": "#%%\n"
    }
   },
   "source": [
    "trans_data = pd.read_csv('/Users/jackmayr/PycharmProjects/my_juypter_notebooks/csc_395/data/Assoc_Analysis_Vidhya.dat.csv', header = None)\n",
    "trans_data = trans_data.drop(columns = [0])\n",
    "trans_data"
   ],
   "execution_count": 9,
   "outputs": [
    {
     "data": {
      "text/plain": "          1       2       3       4       5       6       7\n0     Bread    Wine    Eggs    Meat  Cheese  Pencil  Diaper\n1     Bread  Cheese    Meat  Diaper    Wine    Milk  Pencil\n2    Cheese    Meat    Eggs    Milk    Wine     NaN     NaN\n3    Cheese    Meat    Eggs    Milk    Wine     NaN     NaN\n4      Meat  Pencil    Wine     NaN     NaN     NaN     NaN\n..      ...     ...     ...     ...     ...     ...     ...\n310   Bread    Eggs  Cheese     NaN     NaN     NaN     NaN\n311    Meat    Milk  Pencil     NaN     NaN     NaN     NaN\n312   Bread  Cheese    Eggs    Meat  Pencil  Diaper    Wine\n313    Meat  Cheese     NaN     NaN     NaN     NaN     NaN\n314    Eggs    Wine   Bagel   Bread    Meat     NaN     NaN\n\n[315 rows x 7 columns]",
      "text/html": "<div>\n<style scoped>\n    .dataframe tbody tr th:only-of-type {\n        vertical-align: middle;\n    }\n\n    .dataframe tbody tr th {\n        vertical-align: top;\n    }\n\n    .dataframe thead th {\n        text-align: right;\n    }\n</style>\n<table border=\"1\" class=\"dataframe\">\n  <thead>\n    <tr style=\"text-align: right;\">\n      <th></th>\n      <th>1</th>\n      <th>2</th>\n      <th>3</th>\n      <th>4</th>\n      <th>5</th>\n      <th>6</th>\n      <th>7</th>\n    </tr>\n  </thead>\n  <tbody>\n    <tr>\n      <th>0</th>\n      <td>Bread</td>\n      <td>Wine</td>\n      <td>Eggs</td>\n      <td>Meat</td>\n      <td>Cheese</td>\n      <td>Pencil</td>\n      <td>Diaper</td>\n    </tr>\n    <tr>\n      <th>1</th>\n      <td>Bread</td>\n      <td>Cheese</td>\n      <td>Meat</td>\n      <td>Diaper</td>\n      <td>Wine</td>\n      <td>Milk</td>\n      <td>Pencil</td>\n    </tr>\n    <tr>\n      <th>2</th>\n      <td>Cheese</td>\n      <td>Meat</td>\n      <td>Eggs</td>\n      <td>Milk</td>\n      <td>Wine</td>\n      <td>NaN</td>\n      <td>NaN</td>\n    </tr>\n    <tr>\n      <th>3</th>\n      <td>Cheese</td>\n      <td>Meat</td>\n      <td>Eggs</td>\n      <td>Milk</td>\n      <td>Wine</td>\n      <td>NaN</td>\n      <td>NaN</td>\n    </tr>\n    <tr>\n      <th>4</th>\n      <td>Meat</td>\n      <td>Pencil</td>\n      <td>Wine</td>\n      <td>NaN</td>\n      <td>NaN</td>\n      <td>NaN</td>\n      <td>NaN</td>\n    </tr>\n    <tr>\n      <th>...</th>\n      <td>...</td>\n      <td>...</td>\n      <td>...</td>\n      <td>...</td>\n      <td>...</td>\n      <td>...</td>\n      <td>...</td>\n    </tr>\n    <tr>\n      <th>310</th>\n      <td>Bread</td>\n      <td>Eggs</td>\n      <td>Cheese</td>\n      <td>NaN</td>\n      <td>NaN</td>\n      <td>NaN</td>\n      <td>NaN</td>\n    </tr>\n    <tr>\n      <th>311</th>\n      <td>Meat</td>\n      <td>Milk</td>\n      <td>Pencil</td>\n      <td>NaN</td>\n      <td>NaN</td>\n      <td>NaN</td>\n      <td>NaN</td>\n    </tr>\n    <tr>\n      <th>312</th>\n      <td>Bread</td>\n      <td>Cheese</td>\n      <td>Eggs</td>\n      <td>Meat</td>\n      <td>Pencil</td>\n      <td>Diaper</td>\n      <td>Wine</td>\n    </tr>\n    <tr>\n      <th>313</th>\n      <td>Meat</td>\n      <td>Cheese</td>\n      <td>NaN</td>\n      <td>NaN</td>\n      <td>NaN</td>\n      <td>NaN</td>\n      <td>NaN</td>\n    </tr>\n    <tr>\n      <th>314</th>\n      <td>Eggs</td>\n      <td>Wine</td>\n      <td>Bagel</td>\n      <td>Bread</td>\n      <td>Meat</td>\n      <td>NaN</td>\n      <td>NaN</td>\n    </tr>\n  </tbody>\n</table>\n<p>315 rows × 7 columns</p>\n</div>"
     },
     "execution_count": 9,
     "metadata": {},
     "output_type": "execute_result"
    }
   ]
  },
  {
   "cell_type": "markdown",
   "metadata": {
    "id": "jSXixnY39dLd",
    "pycharm": {
     "name": "#%% md\n"
    }
   },
   "source": [
    "getting a list of all unique items in an itemset"
   ]
  },
  {
   "cell_type": "code",
   "metadata": {
    "colab": {
     "base_uri": "https://localhost:8080/"
    },
    "id": "b9qhbgVU-bwt",
    "executionInfo": {
     "status": "ok",
     "timestamp": 1635489929613,
     "user_tz": 240,
     "elapsed": 8,
     "user": {
      "displayName": "Jack Mayr",
      "photoUrl": "https://lh3.googleusercontent.com/a/default-user=s64",
      "userId": "14391554172767483827"
     }
    },
    "outputId": "e1104f53-73d3-4785-b288-212a7c5761d5",
    "pycharm": {
     "name": "#%%\n"
    }
   },
   "source": [
    "col_idx = []\n",
    "\n",
    "for i in range(len(trans_data.columns)-1):\n",
    "  col_idx.append(i+1)\n",
    "items = (pd.unique(trans_data[col_idx].values.ravel('K')))\n",
    "items = pd.DataFrame(items)\n",
    "items = items.dropna()\n",
    "\n",
    "items = items[0].tolist()\n",
    "items"
   ],
   "execution_count": 10,
   "outputs": [
    {
     "data": {
      "text/plain": "['Bread',\n 'Cheese',\n 'Meat',\n 'Eggs',\n 'Wine',\n 'Bagel',\n 'Pencil',\n 'Diaper',\n 'Milk']"
     },
     "execution_count": 10,
     "metadata": {},
     "output_type": "execute_result"
    }
   ]
  },
  {
   "cell_type": "markdown",
   "metadata": {
    "id": "2Q8ZGcuGwZ5k",
    "pycharm": {
     "name": "#%% md\n"
    }
   },
   "source": [
    "Function to calculate the support for subsets"
   ]
  },
  {
   "cell_type": "code",
   "metadata": {
    "id": "K36RmVt5sN1n",
    "executionInfo": {
     "status": "ok",
     "timestamp": 1635489929616,
     "user_tz": 240,
     "elapsed": 8,
     "user": {
      "displayName": "Jack Mayr",
      "photoUrl": "https://lh3.googleusercontent.com/a/default-user=s64",
      "userId": "14391554172767483827"
     }
    },
    "pycharm": {
     "name": "#%%\n"
    }
   },
   "source": [
    "def support_calc(data, obj_list):\n",
    "  sup_val = 0\n",
    "  for i in range(len(data)):\n",
    "    if(set(obj_list).issubset(set(list(data.loc[i])))):\n",
    "      sup_val += 1\n",
    "  return sup_val / len(data)\n"
   ],
   "execution_count": 11,
   "outputs": []
  },
  {
   "cell_type": "markdown",
   "metadata": {
    "id": "eiURdpQrVqHw",
    "pycharm": {
     "name": "#%% md\n"
    }
   },
   "source": [
    "function to prune subsets that don't meet the minimum support"
   ]
  },
  {
   "cell_type": "code",
   "metadata": {
    "id": "vFf5DJ7aATbh",
    "executionInfo": {
     "status": "ok",
     "timestamp": 1635489929616,
     "user_tz": 240,
     "elapsed": 8,
     "user": {
      "displayName": "Jack Mayr",
      "photoUrl": "https://lh3.googleusercontent.com/a/default-user=s64",
      "userId": "14391554172767483827"
     }
    },
    "pycharm": {
     "name": "#%%\n"
    }
   },
   "source": [
    "def pruning(subset_dict, min_support):\n",
    "  keys_to_delete = []\n",
    "  for key in subset_dict:\n",
    "    if subset_dict[key] < min_support:\n",
    "      keys_to_delete.append(list(key))\n",
    "  for i in keys_to_delete:\n",
    "    del subset_dict[tuple(i)]\n",
    "  return subset_dict\n",
    "\n"
   ],
   "execution_count": 12,
   "outputs": []
  },
  {
   "cell_type": "markdown",
   "metadata": {
    "id": "_4ED_K4i9o4o",
    "pycharm": {
     "name": "#%% md\n"
    }
   },
   "source": [
    "The function one_item_subset creates all possible one item subsets of the unique items found in our transaction data.  It then calculates the support for each of these subsets. \n",
    "\n",
    "The function multi_item_subset creates a list of all possible combinations for for a certain number of items in a subset, and then looks back at dictionary with subsets of one less item to see if we should evaluate this subsetset going forward.  We then generate a dictionary with all subsets we deem okay and then prune ones that don't meet minimum support.  This dictionary becomes the value to the key of the item number of each subset in this dictionary.  \n",
    "\n",
    "The all_subsets dictionary is organized by having the outermost keys as the number of items in subsets \n",
    "\n",
    "{1: {('Bread'): 0.4, ('Wine') 0.3} 2:{('Bread', 'Wine'): 0.2}} etc\n",
    "\n",
    "This way, I can easily look at subsets of one size smaller to see what are valid subsets to look at"
   ]
  },
  {
   "cell_type": "code",
   "metadata": {
    "id": "a4u3d10YbTNw",
    "executionInfo": {
     "status": "ok",
     "timestamp": 1635489929617,
     "user_tz": 240,
     "elapsed": 8,
     "user": {
      "displayName": "Jack Mayr",
      "photoUrl": "https://lh3.googleusercontent.com/a/default-user=s64",
      "userId": "14391554172767483827"
     }
    },
    "pycharm": {
     "name": "#%%\n"
    }
   },
   "source": [
    "def one_item_subset(item_list, transaction_data):\n",
    "  sing_subset_dict = {}\n",
    "  for i in range(len(item_list)):\n",
    "    key = tuple([item_list[i]])\n",
    "    #print(key)\n",
    "    sup_val = round(support_calc(transaction_data, list(key)), 4)\n",
    "    sing_subset_dict[key] = sup_val\n",
    "  return sing_subset_dict\n",
    "\n",
    "def multi_item_subset(item_list, transaction_data, support_dict, min_support):\n",
    "  for i in range(2,len(item_list)):\n",
    "    local_sup_dict = {}\n",
    "    subset_size = i\n",
    "    subset_list = []\n",
    "    for subset in itertools.combinations(item_list, i):\n",
    "      subset_list.append(list(subset))\n",
    "\n",
    "    \n",
    "    for j in range(len(subset_list)):\n",
    "     \n",
    "      for k in support_dict[i-1]:\n",
    "        \n",
    "        #print(subset_list[j], list(k), support_dict[i-1][k])\n",
    "        if (set(list(k)).issubset(set(list(subset_list[j])))):\n",
    "          key = tuple(subset_list[j])\n",
    "          #print(key)\n",
    "          sup_val = round(support_calc(transaction_data, key), 4)\n",
    "          local_sup_dict[key] = sup_val\n",
    "    local_sup_dict = pruning(local_sup_dict, min_support)\n",
    "    support_dict[i] = local_sup_dict\n",
    "  return support_dict\n"
   ],
   "execution_count": 13,
   "outputs": []
  },
  {
   "cell_type": "code",
   "metadata": {
    "id": "AnRX8wEJe5TE",
    "colab": {
     "base_uri": "https://localhost:8080/"
    },
    "executionInfo": {
     "status": "ok",
     "timestamp": 1635489965595,
     "user_tz": 240,
     "elapsed": 35986,
     "user": {
      "displayName": "Jack Mayr",
      "photoUrl": "https://lh3.googleusercontent.com/a/default-user=s64",
      "userId": "14391554172767483827"
     }
    },
    "outputId": "3a8fca45-17e9-4076-c84f-028fc6e6378a",
    "pycharm": {
     "name": "#%%\n"
    }
   },
   "source": [
    "all_subsets = {}\n",
    "min_support = 0.05\n",
    "added = one_item_subset(items, trans_data)\n",
    "all_subsets[1] = added\n",
    "#print(all_subsets[1]['Bread'])\n",
    "all_subsets = multi_item_subset(items, trans_data, all_subsets, min_support)\n",
    "all_subsets"
   ],
   "execution_count": 14,
   "outputs": [
    {
     "data": {
      "text/plain": "{1: {('Bread',): 0.5048,\n  ('Cheese',): 0.5016,\n  ('Meat',): 0.4762,\n  ('Eggs',): 0.4381,\n  ('Wine',): 0.4381,\n  ('Bagel',): 0.4254,\n  ('Pencil',): 0.3619,\n  ('Diaper',): 0.4063,\n  ('Milk',): 0.5016},\n 2: {('Bread', 'Cheese'): 0.2381,\n  ('Bread', 'Meat'): 0.2063,\n  ('Bread', 'Eggs'): 0.1873,\n  ('Bread', 'Wine'): 0.2444,\n  ('Bread', 'Bagel'): 0.2794,\n  ('Bread', 'Pencil'): 0.2,\n  ('Bread', 'Diaper'): 0.2317,\n  ('Bread', 'Milk'): 0.2794,\n  ('Cheese', 'Meat'): 0.3238,\n  ('Cheese', 'Eggs'): 0.2984,\n  ('Cheese', 'Wine'): 0.2698,\n  ('Cheese', 'Bagel'): 0.1937,\n  ('Cheese', 'Pencil'): 0.2,\n  ('Cheese', 'Diaper'): 0.2,\n  ('Cheese', 'Milk'): 0.3048,\n  ('Meat', 'Eggs'): 0.2667,\n  ('Meat', 'Wine'): 0.2508,\n  ('Meat', 'Bagel'): 0.1905,\n  ('Meat', 'Pencil'): 0.1778,\n  ('Meat', 'Diaper'): 0.1937,\n  ('Meat', 'Milk'): 0.2444,\n  ('Eggs', 'Wine'): 0.2413,\n  ('Eggs', 'Bagel'): 0.1524,\n  ('Eggs', 'Pencil'): 0.1651,\n  ('Eggs', 'Diaper'): 0.1619,\n  ('Eggs', 'Milk'): 0.2444,\n  ('Wine', 'Bagel'): 0.1714,\n  ('Wine', 'Pencil'): 0.2,\n  ('Wine', 'Diaper'): 0.2349,\n  ('Wine', 'Milk'): 0.219,\n  ('Bagel', 'Pencil'): 0.1587,\n  ('Bagel', 'Diaper'): 0.1841,\n  ('Bagel', 'Milk'): 0.2254,\n  ('Pencil', 'Diaper'): 0.1714,\n  ('Pencil', 'Milk'): 0.1714,\n  ('Diaper', 'Milk'): 0.1556},\n 3: {('Bread', 'Cheese', 'Meat'): 0.1429,\n  ('Bread', 'Cheese', 'Eggs'): 0.1175,\n  ('Bread', 'Cheese', 'Wine'): 0.1429,\n  ('Bread', 'Cheese', 'Bagel'): 0.1048,\n  ('Bread', 'Cheese', 'Pencil'): 0.1238,\n  ('Bread', 'Cheese', 'Diaper'): 0.1365,\n  ('Bread', 'Cheese', 'Milk'): 0.1302,\n  ('Bread', 'Meat', 'Eggs'): 0.0921,\n  ('Bread', 'Meat', 'Wine'): 0.1333,\n  ('Bread', 'Meat', 'Bagel'): 0.1143,\n  ('Bread', 'Meat', 'Pencil'): 0.1111,\n  ('Bread', 'Meat', 'Diaper'): 0.1206,\n  ('Bread', 'Meat', 'Milk'): 0.1048,\n  ('Bread', 'Eggs', 'Wine'): 0.1206,\n  ('Bread', 'Eggs', 'Bagel'): 0.0857,\n  ('Bread', 'Eggs', 'Pencil'): 0.0984,\n  ('Bread', 'Eggs', 'Diaper'): 0.0889,\n  ('Bread', 'Eggs', 'Milk'): 0.1048,\n  ('Bread', 'Wine', 'Bagel'): 0.1016,\n  ('Bread', 'Wine', 'Pencil'): 0.1143,\n  ('Bread', 'Wine', 'Diaper'): 0.1492,\n  ('Bread', 'Wine', 'Milk'): 0.1302,\n  ('Bread', 'Bagel', 'Pencil'): 0.0889,\n  ('Bread', 'Bagel', 'Diaper'): 0.1206,\n  ('Bread', 'Bagel', 'Milk'): 0.1714,\n  ('Bread', 'Pencil', 'Diaper'): 0.1048,\n  ('Bread', 'Pencil', 'Milk'): 0.1079,\n  ('Bread', 'Diaper', 'Milk'): 0.1143,\n  ('Cheese', 'Meat', 'Eggs'): 0.2159,\n  ('Cheese', 'Meat', 'Wine'): 0.1683,\n  ('Cheese', 'Meat', 'Bagel'): 0.1206,\n  ('Cheese', 'Meat', 'Pencil'): 0.1048,\n  ('Cheese', 'Meat', 'Diaper'): 0.1143,\n  ('Cheese', 'Meat', 'Milk'): 0.2032,\n  ('Cheese', 'Eggs', 'Wine'): 0.1651,\n  ('Cheese', 'Eggs', 'Bagel'): 0.0921,\n  ('Cheese', 'Eggs', 'Pencil'): 0.1079,\n  ('Cheese', 'Eggs', 'Diaper'): 0.1016,\n  ('Cheese', 'Eggs', 'Milk'): 0.1968,\n  ('Cheese', 'Wine', 'Bagel'): 0.1079,\n  ('Cheese', 'Wine', 'Pencil'): 0.127,\n  ('Cheese', 'Wine', 'Diaper'): 0.1365,\n  ('Cheese', 'Wine', 'Milk'): 0.1619,\n  ('Cheese', 'Bagel', 'Pencil'): 0.0889,\n  ('Cheese', 'Bagel', 'Diaper'): 0.1079,\n  ('Cheese', 'Bagel', 'Milk'): 0.0889,\n  ('Cheese', 'Pencil', 'Diaper'): 0.0889,\n  ('Cheese', 'Pencil', 'Milk'): 0.1016,\n  ('Cheese', 'Diaper', 'Milk'): 0.0952,\n  ('Meat', 'Eggs', 'Wine'): 0.1492,\n  ('Meat', 'Eggs', 'Bagel'): 0.0921,\n  ('Meat', 'Eggs', 'Pencil'): 0.0794,\n  ('Meat', 'Eggs', 'Diaper'): 0.0857,\n  ('Meat', 'Eggs', 'Milk'): 0.1778,\n  ('Meat', 'Wine', 'Bagel'): 0.1048,\n  ('Meat', 'Wine', 'Pencil'): 0.1143,\n  ('Meat', 'Wine', 'Diaper'): 0.1238,\n  ('Meat', 'Wine', 'Milk'): 0.127,\n  ('Meat', 'Bagel', 'Pencil'): 0.0857,\n  ('Meat', 'Bagel', 'Diaper'): 0.1048,\n  ('Meat', 'Bagel', 'Milk'): 0.0762,\n  ('Meat', 'Pencil', 'Diaper'): 0.0825,\n  ('Meat', 'Pencil', 'Milk'): 0.0794,\n  ('Meat', 'Diaper', 'Milk'): 0.0635,\n  ('Eggs', 'Wine', 'Bagel'): 0.0921,\n  ('Eggs', 'Wine', 'Pencil'): 0.1206,\n  ('Eggs', 'Wine', 'Diaper'): 0.1111,\n  ('Eggs', 'Wine', 'Milk'): 0.1365,\n  ('Eggs', 'Bagel', 'Pencil'): 0.073,\n  ('Eggs', 'Bagel', 'Diaper'): 0.0698,\n  ('Eggs', 'Bagel', 'Milk'): 0.0635,\n  ('Eggs', 'Pencil', 'Diaper'): 0.0825,\n  ('Eggs', 'Pencil', 'Milk'): 0.0857,\n  ('Eggs', 'Diaper', 'Milk'): 0.073,\n  ('Wine', 'Bagel', 'Pencil'): 0.0825,\n  ('Wine', 'Bagel', 'Diaper'): 0.1016,\n  ('Wine', 'Bagel', 'Milk'): 0.0889,\n  ('Wine', 'Pencil', 'Diaper'): 0.1079,\n  ('Wine', 'Pencil', 'Milk'): 0.0952,\n  ('Wine', 'Diaper', 'Milk'): 0.0921,\n  ('Bagel', 'Pencil', 'Diaper'): 0.0825,\n  ('Bagel', 'Pencil', 'Milk'): 0.0698,\n  ('Bagel', 'Diaper', 'Milk'): 0.0794,\n  ('Pencil', 'Diaper', 'Milk'): 0.073},\n 4: {('Bread', 'Cheese', 'Meat', 'Eggs'): 0.0635,\n  ('Bread', 'Cheese', 'Meat', 'Wine'): 0.0889,\n  ('Bread', 'Cheese', 'Meat', 'Bagel'): 0.0667,\n  ('Bread', 'Cheese', 'Meat', 'Pencil'): 0.0794,\n  ('Bread', 'Cheese', 'Meat', 'Diaper'): 0.0794,\n  ('Bread', 'Cheese', 'Meat', 'Milk'): 0.0762,\n  ('Bread', 'Cheese', 'Eggs', 'Wine'): 0.073,\n  ('Bread', 'Cheese', 'Eggs', 'Pencil'): 0.0667,\n  ('Bread', 'Cheese', 'Eggs', 'Diaper'): 0.0571,\n  ('Bread', 'Cheese', 'Eggs', 'Milk'): 0.073,\n  ('Bread', 'Cheese', 'Wine', 'Bagel'): 0.0571,\n  ('Bread', 'Cheese', 'Wine', 'Pencil'): 0.073,\n  ('Bread', 'Cheese', 'Wine', 'Diaper'): 0.0857,\n  ('Bread', 'Cheese', 'Wine', 'Milk'): 0.0857,\n  ('Bread', 'Cheese', 'Bagel', 'Pencil'): 0.054,\n  ('Bread', 'Cheese', 'Bagel', 'Diaper'): 0.0667,\n  ('Bread', 'Cheese', 'Pencil', 'Diaper'): 0.0571,\n  ('Bread', 'Cheese', 'Pencil', 'Milk'): 0.0635,\n  ('Bread', 'Cheese', 'Diaper', 'Milk'): 0.0667,\n  ('Bread', 'Meat', 'Eggs', 'Wine'): 0.0635,\n  ('Bread', 'Meat', 'Eggs', 'Milk'): 0.0603,\n  ('Bread', 'Meat', 'Wine', 'Bagel'): 0.0603,\n  ('Bread', 'Meat', 'Wine', 'Pencil'): 0.073,\n  ('Bread', 'Meat', 'Wine', 'Diaper'): 0.0762,\n  ('Bread', 'Meat', 'Wine', 'Milk'): 0.0762,\n  ('Bread', 'Meat', 'Bagel', 'Diaper'): 0.0698,\n  ('Bread', 'Meat', 'Pencil', 'Diaper'): 0.0571,\n  ('Bread', 'Meat', 'Pencil', 'Milk'): 0.0571,\n  ('Bread', 'Meat', 'Diaper', 'Milk'): 0.054,\n  ('Bread', 'Eggs', 'Wine', 'Bagel'): 0.0508,\n  ('Bread', 'Eggs', 'Wine', 'Pencil'): 0.0667,\n  ('Bread', 'Eggs', 'Wine', 'Diaper'): 0.0635,\n  ('Bread', 'Eggs', 'Wine', 'Milk'): 0.0762,\n  ('Bread', 'Eggs', 'Pencil', 'Milk'): 0.0635,\n  ('Bread', 'Eggs', 'Diaper', 'Milk'): 0.0508,\n  ('Bread', 'Wine', 'Bagel', 'Diaper'): 0.0635,\n  ('Bread', 'Wine', 'Bagel', 'Milk'): 0.0571,\n  ('Bread', 'Wine', 'Pencil', 'Diaper'): 0.0571,\n  ('Bread', 'Wine', 'Pencil', 'Milk'): 0.073,\n  ('Bread', 'Wine', 'Diaper', 'Milk'): 0.0667,\n  ('Bread', 'Bagel', 'Diaper', 'Milk'): 0.0571,\n  ('Bread', 'Pencil', 'Diaper', 'Milk'): 0.0508,\n  ('Cheese', 'Meat', 'Eggs', 'Wine'): 0.1111,\n  ('Cheese', 'Meat', 'Eggs', 'Bagel'): 0.0635,\n  ('Cheese', 'Meat', 'Eggs', 'Pencil'): 0.054,\n  ('Cheese', 'Meat', 'Eggs', 'Diaper'): 0.0603,\n  ('Cheese', 'Meat', 'Eggs', 'Milk'): 0.1524,\n  ('Cheese', 'Meat', 'Wine', 'Bagel'): 0.0635,\n  ('Cheese', 'Meat', 'Wine', 'Pencil'): 0.073,\n  ('Cheese', 'Meat', 'Wine', 'Diaper'): 0.073,\n  ('Cheese', 'Meat', 'Wine', 'Milk'): 0.1016,\n  ('Cheese', 'Meat', 'Bagel', 'Diaper'): 0.0698,\n  ('Cheese', 'Meat', 'Bagel', 'Milk'): 0.0508,\n  ('Cheese', 'Eggs', 'Wine', 'Bagel'): 0.0571,\n  ('Cheese', 'Eggs', 'Wine', 'Pencil'): 0.0857,\n  ('Cheese', 'Eggs', 'Wine', 'Diaper'): 0.0698,\n  ('Cheese', 'Eggs', 'Wine', 'Milk'): 0.1048,\n  ('Cheese', 'Eggs', 'Bagel', 'Diaper'): 0.0508,\n  ('Cheese', 'Eggs', 'Pencil', 'Milk'): 0.0508,\n  ('Cheese', 'Wine', 'Bagel', 'Pencil'): 0.054,\n  ('Cheese', 'Wine', 'Bagel', 'Diaper'): 0.0667,\n  ('Cheese', 'Wine', 'Bagel', 'Milk'): 0.0571,\n  ('Cheese', 'Wine', 'Pencil', 'Diaper'): 0.0635,\n  ('Cheese', 'Wine', 'Pencil', 'Milk'): 0.0635,\n  ('Cheese', 'Wine', 'Diaper', 'Milk'): 0.0667,\n  ('Meat', 'Eggs', 'Wine', 'Bagel'): 0.0571,\n  ('Meat', 'Eggs', 'Wine', 'Pencil'): 0.0603,\n  ('Meat', 'Eggs', 'Wine', 'Diaper'): 0.0571,\n  ('Meat', 'Eggs', 'Wine', 'Milk'): 0.0921,\n  ('Meat', 'Eggs', 'Bagel', 'Diaper'): 0.0508,\n  ('Meat', 'Wine', 'Bagel', 'Diaper'): 0.054,\n  ('Meat', 'Wine', 'Pencil', 'Diaper'): 0.0603,\n  ('Meat', 'Wine', 'Pencil', 'Milk'): 0.0508,\n  ('Eggs', 'Wine', 'Bagel', 'Pencil'): 0.0508,\n  ('Eggs', 'Wine', 'Pencil', 'Diaper'): 0.0635,\n  ('Eggs', 'Wine', 'Pencil', 'Milk'): 0.0571},\n 5: {('Bread', 'Cheese', 'Meat', 'Wine', 'Pencil'): 0.054,\n  ('Bread', 'Cheese', 'Meat', 'Wine', 'Milk'): 0.054,\n  ('Bread', 'Cheese', 'Eggs', 'Wine', 'Milk'): 0.0508,\n  ('Cheese', 'Meat', 'Eggs', 'Wine', 'Milk'): 0.073},\n 6: {},\n 7: {},\n 8: {}}"
     },
     "execution_count": 14,
     "metadata": {},
     "output_type": "execute_result"
    }
   ]
  },
  {
   "cell_type": "code",
   "metadata": {
    "id": "5UcYHEoY4xbT",
    "executionInfo": {
     "status": "ok",
     "timestamp": 1635490771637,
     "user_tz": 240,
     "elapsed": 163,
     "user": {
      "displayName": "Jack Mayr",
      "photoUrl": "https://lh3.googleusercontent.com/a/default-user=s64",
      "userId": "14391554172767483827"
     }
    },
    "pycharm": {
     "name": "#%%\n"
    }
   },
   "source": [
    "def gen_confidence(itemsets_dict):\n",
    "  confidence_df = pd.DataFrame(columns = ['Antecedent','Item Added', 'Current Set', 'Support', 'Confidence'])\n",
    "  for i in range(2, len(itemsets_dict)):\n",
    "    set_size = i\n",
    "    antecendent_size = i-1\n",
    "    for key1 in itemsets_dict[set_size]:\n",
    "      for key2 in itemsets_dict[antecendent_size]:\n",
    "        if (set(list(key2)).issubset(set(list(key1)))):\n",
    "          curr_sup = itemsets_dict[set_size][key1]\n",
    "          antecedent_sup = itemsets_dict[antecendent_size][key2]\n",
    "          diff = tuple(set(list(key1)) - set(list(key2)))\n",
    "          conf_calc = curr_sup / antecedent_sup\n",
    "          row = [key2, diff, key1, curr_sup, conf_calc]\n",
    "          confidence_df.loc[len(confidence_df.index)] = row\n",
    "\n",
    "\n",
    "  return confidence_df\n",
    "\n",
    "\n",
    "\n"
   ],
   "execution_count": 15,
   "outputs": []
  },
  {
   "cell_type": "code",
   "metadata": {
    "id": "Q5HwYtpR_PCU",
    "executionInfo": {
     "status": "ok",
     "timestamp": 1635490776428,
     "user_tz": 240,
     "elapsed": 2388,
     "user": {
      "displayName": "Jack Mayr",
      "photoUrl": "https://lh3.googleusercontent.com/a/default-user=s64",
      "userId": "14391554172767483827"
     }
    },
    "pycharm": {
     "name": "#%%\n"
    }
   },
   "source": [
    "output_df = gen_confidence(all_subsets)"
   ],
   "execution_count": 16,
   "outputs": []
  },
  {
   "cell_type": "code",
   "metadata": {
    "colab": {
     "base_uri": "https://localhost:8080/",
     "height": 669
    },
    "id": "RpFmVyTG02a1",
    "executionInfo": {
     "status": "ok",
     "timestamp": 1635490778579,
     "user_tz": 240,
     "elapsed": 220,
     "user": {
      "displayName": "Jack Mayr",
      "photoUrl": "https://lh3.googleusercontent.com/a/default-user=s64",
      "userId": "14391554172767483827"
     }
    },
    "outputId": "290ab36b-bec8-4b9f-d56a-027a64760e37",
    "pycharm": {
     "name": "#%%\n"
    }
   },
   "source": [
    "output_df = output_df.sort_values(by = 'Confidence', ascending=False)\n",
    "output_df[:20]"
   ],
   "execution_count": 17,
   "outputs": [
    {
     "data": {
      "text/plain": "                        Antecedent Item Added  \\\n511             (Meat, Eggs, Milk)  (Cheese,)   \n439           (Meat, Diaper, Milk)   (Bread,)   \n173                   (Meat, Milk)  (Cheese,)   \n158                   (Meat, Eggs)  (Cheese,)   \n188                   (Eggs, Milk)  (Cheese,)   \n527             (Meat, Wine, Milk)  (Cheese,)   \n541         (Cheese, Eggs, Pencil)    (Wine,)   \n647       (Meat, Eggs, Wine, Milk)  (Cheese,)   \n510           (Cheese, Eggs, Milk)    (Meat,)   \n622         (Eggs, Pencil, Diaper)    (Wine,)   \n551             (Eggs, Wine, Milk)  (Cheese,)   \n479           (Wine, Pencil, Milk)   (Bread,)   \n146                  (Bagel, Milk)   (Bread,)   \n589           (Meat, Eggs, Pencil)    (Wine,)   \n339         (Cheese, Meat, Pencil)   (Bread,)   \n509           (Cheese, Meat, Milk)    (Eggs,)   \n495             (Meat, Eggs, Wine)  (Cheese,)   \n459           (Eggs, Pencil, Milk)   (Bread,)   \n630  (Bread, Cheese, Wine, Pencil)    (Meat,)   \n631    (Bread, Meat, Wine, Pencil)  (Cheese,)   \n\n                             Current Set  Support  Confidence  \n511           (Cheese, Meat, Eggs, Milk)   0.1524    0.857143  \n439          (Bread, Meat, Diaper, Milk)   0.0540    0.850394  \n173                 (Cheese, Meat, Milk)   0.2032    0.831424  \n158                 (Cheese, Meat, Eggs)   0.2159    0.809524  \n188                 (Cheese, Eggs, Milk)   0.1968    0.805237  \n527           (Cheese, Meat, Wine, Milk)   0.1016    0.800000  \n541         (Cheese, Eggs, Wine, Pencil)   0.0857    0.794254  \n647     (Cheese, Meat, Eggs, Wine, Milk)   0.0730    0.792617  \n510           (Cheese, Meat, Eggs, Milk)   0.1524    0.774390  \n622         (Eggs, Wine, Pencil, Diaper)   0.0635    0.769697  \n551           (Cheese, Eggs, Wine, Milk)   0.1048    0.767766  \n479          (Bread, Wine, Pencil, Milk)   0.0730    0.766807  \n146                 (Bread, Bagel, Milk)   0.1714    0.760426  \n589           (Meat, Eggs, Wine, Pencil)   0.0603    0.759446  \n339        (Bread, Cheese, Meat, Pencil)   0.0794    0.757634  \n509           (Cheese, Meat, Eggs, Milk)   0.1524    0.750000  \n495           (Cheese, Meat, Eggs, Wine)   0.1111    0.744638  \n459          (Bread, Eggs, Pencil, Milk)   0.0635    0.740957  \n630  (Bread, Cheese, Meat, Wine, Pencil)   0.0540    0.739726  \n631  (Bread, Cheese, Meat, Wine, Pencil)   0.0540    0.739726  ",
      "text/html": "<div>\n<style scoped>\n    .dataframe tbody tr th:only-of-type {\n        vertical-align: middle;\n    }\n\n    .dataframe tbody tr th {\n        vertical-align: top;\n    }\n\n    .dataframe thead th {\n        text-align: right;\n    }\n</style>\n<table border=\"1\" class=\"dataframe\">\n  <thead>\n    <tr style=\"text-align: right;\">\n      <th></th>\n      <th>Antecedent</th>\n      <th>Item Added</th>\n      <th>Current Set</th>\n      <th>Support</th>\n      <th>Confidence</th>\n    </tr>\n  </thead>\n  <tbody>\n    <tr>\n      <th>511</th>\n      <td>(Meat, Eggs, Milk)</td>\n      <td>(Cheese,)</td>\n      <td>(Cheese, Meat, Eggs, Milk)</td>\n      <td>0.1524</td>\n      <td>0.857143</td>\n    </tr>\n    <tr>\n      <th>439</th>\n      <td>(Meat, Diaper, Milk)</td>\n      <td>(Bread,)</td>\n      <td>(Bread, Meat, Diaper, Milk)</td>\n      <td>0.0540</td>\n      <td>0.850394</td>\n    </tr>\n    <tr>\n      <th>173</th>\n      <td>(Meat, Milk)</td>\n      <td>(Cheese,)</td>\n      <td>(Cheese, Meat, Milk)</td>\n      <td>0.2032</td>\n      <td>0.831424</td>\n    </tr>\n    <tr>\n      <th>158</th>\n      <td>(Meat, Eggs)</td>\n      <td>(Cheese,)</td>\n      <td>(Cheese, Meat, Eggs)</td>\n      <td>0.2159</td>\n      <td>0.809524</td>\n    </tr>\n    <tr>\n      <th>188</th>\n      <td>(Eggs, Milk)</td>\n      <td>(Cheese,)</td>\n      <td>(Cheese, Eggs, Milk)</td>\n      <td>0.1968</td>\n      <td>0.805237</td>\n    </tr>\n    <tr>\n      <th>527</th>\n      <td>(Meat, Wine, Milk)</td>\n      <td>(Cheese,)</td>\n      <td>(Cheese, Meat, Wine, Milk)</td>\n      <td>0.1016</td>\n      <td>0.800000</td>\n    </tr>\n    <tr>\n      <th>541</th>\n      <td>(Cheese, Eggs, Pencil)</td>\n      <td>(Wine,)</td>\n      <td>(Cheese, Eggs, Wine, Pencil)</td>\n      <td>0.0857</td>\n      <td>0.794254</td>\n    </tr>\n    <tr>\n      <th>647</th>\n      <td>(Meat, Eggs, Wine, Milk)</td>\n      <td>(Cheese,)</td>\n      <td>(Cheese, Meat, Eggs, Wine, Milk)</td>\n      <td>0.0730</td>\n      <td>0.792617</td>\n    </tr>\n    <tr>\n      <th>510</th>\n      <td>(Cheese, Eggs, Milk)</td>\n      <td>(Meat,)</td>\n      <td>(Cheese, Meat, Eggs, Milk)</td>\n      <td>0.1524</td>\n      <td>0.774390</td>\n    </tr>\n    <tr>\n      <th>622</th>\n      <td>(Eggs, Pencil, Diaper)</td>\n      <td>(Wine,)</td>\n      <td>(Eggs, Wine, Pencil, Diaper)</td>\n      <td>0.0635</td>\n      <td>0.769697</td>\n    </tr>\n    <tr>\n      <th>551</th>\n      <td>(Eggs, Wine, Milk)</td>\n      <td>(Cheese,)</td>\n      <td>(Cheese, Eggs, Wine, Milk)</td>\n      <td>0.1048</td>\n      <td>0.767766</td>\n    </tr>\n    <tr>\n      <th>479</th>\n      <td>(Wine, Pencil, Milk)</td>\n      <td>(Bread,)</td>\n      <td>(Bread, Wine, Pencil, Milk)</td>\n      <td>0.0730</td>\n      <td>0.766807</td>\n    </tr>\n    <tr>\n      <th>146</th>\n      <td>(Bagel, Milk)</td>\n      <td>(Bread,)</td>\n      <td>(Bread, Bagel, Milk)</td>\n      <td>0.1714</td>\n      <td>0.760426</td>\n    </tr>\n    <tr>\n      <th>589</th>\n      <td>(Meat, Eggs, Pencil)</td>\n      <td>(Wine,)</td>\n      <td>(Meat, Eggs, Wine, Pencil)</td>\n      <td>0.0603</td>\n      <td>0.759446</td>\n    </tr>\n    <tr>\n      <th>339</th>\n      <td>(Cheese, Meat, Pencil)</td>\n      <td>(Bread,)</td>\n      <td>(Bread, Cheese, Meat, Pencil)</td>\n      <td>0.0794</td>\n      <td>0.757634</td>\n    </tr>\n    <tr>\n      <th>509</th>\n      <td>(Cheese, Meat, Milk)</td>\n      <td>(Eggs,)</td>\n      <td>(Cheese, Meat, Eggs, Milk)</td>\n      <td>0.1524</td>\n      <td>0.750000</td>\n    </tr>\n    <tr>\n      <th>495</th>\n      <td>(Meat, Eggs, Wine)</td>\n      <td>(Cheese,)</td>\n      <td>(Cheese, Meat, Eggs, Wine)</td>\n      <td>0.1111</td>\n      <td>0.744638</td>\n    </tr>\n    <tr>\n      <th>459</th>\n      <td>(Eggs, Pencil, Milk)</td>\n      <td>(Bread,)</td>\n      <td>(Bread, Eggs, Pencil, Milk)</td>\n      <td>0.0635</td>\n      <td>0.740957</td>\n    </tr>\n    <tr>\n      <th>630</th>\n      <td>(Bread, Cheese, Wine, Pencil)</td>\n      <td>(Meat,)</td>\n      <td>(Bread, Cheese, Meat, Wine, Pencil)</td>\n      <td>0.0540</td>\n      <td>0.739726</td>\n    </tr>\n    <tr>\n      <th>631</th>\n      <td>(Bread, Meat, Wine, Pencil)</td>\n      <td>(Cheese,)</td>\n      <td>(Bread, Cheese, Meat, Wine, Pencil)</td>\n      <td>0.0540</td>\n      <td>0.739726</td>\n    </tr>\n  </tbody>\n</table>\n</div>"
     },
     "execution_count": 17,
     "metadata": {},
     "output_type": "execute_result"
    }
   ]
  },
  {
   "cell_type": "markdown",
   "metadata": {
    "id": "fLB1f5m4gNAe",
    "pycharm": {
     "name": "#%% md\n"
    }
   },
   "source": [
    "Create dictionaries with the number of subsets of each size, as well as average support for each subset size"
   ]
  },
  {
   "cell_type": "code",
   "metadata": {
    "colab": {
     "base_uri": "https://localhost:8080/"
    },
    "id": "TKgM1olzbX_h",
    "executionInfo": {
     "status": "ok",
     "timestamp": 1635490115183,
     "user_tz": 240,
     "elapsed": 185,
     "user": {
      "displayName": "Jack Mayr",
      "photoUrl": "https://lh3.googleusercontent.com/a/default-user=s64",
      "userId": "14391554172767483827"
     }
    },
    "outputId": "63efaa7b-315d-425f-b319-f485037e6de7",
    "pycharm": {
     "name": "#%%\n"
    }
   },
   "source": [
    "total_dict = {}\n",
    "for i in range(1, len(all_subsets)):\n",
    "  total_dict[i] = len(all_subsets[i])\n",
    "total_dict\n",
    "\n",
    "avg_supp_dict = {}\n",
    "for i in range(1, len(all_subsets)):\n",
    "  if total_dict[i] >0:\n",
    "    avg_supp_dict[i] = round(sum(all_subsets[i].values()) / float(total_dict[i]), 4)\n",
    "  else:\n",
    "    avg_supp_dict[i] = 0\n",
    "avg_supp_dict"
   ],
   "execution_count": 18,
   "outputs": [
    {
     "data": {
      "text/plain": "{1: 0.4504, 2: 0.2177, 3: 0.1107, 4: 0.067, 5: 0.058, 6: 0, 7: 0}"
     },
     "execution_count": 18,
     "metadata": {},
     "output_type": "execute_result"
    }
   ]
  },
  {
   "cell_type": "code",
   "metadata": {
    "id": "s4d5DHf4eyp2",
    "executionInfo": {
     "status": "ok",
     "timestamp": 1635490117047,
     "user_tz": 240,
     "elapsed": 188,
     "user": {
      "displayName": "Jack Mayr",
      "photoUrl": "https://lh3.googleusercontent.com/a/default-user=s64",
      "userId": "14391554172767483827"
     }
    },
    "pycharm": {
     "name": "#%%\n"
    }
   },
   "source": [
    "import matplotlib.pyplot as plt"
   ],
   "execution_count": 20,
   "outputs": []
  },
  {
   "cell_type": "code",
   "metadata": {
    "colab": {
     "base_uri": "https://localhost:8080/",
     "height": 295
    },
    "id": "8HwvJTyke3nr",
    "executionInfo": {
     "status": "ok",
     "timestamp": 1635491643980,
     "user_tz": 240,
     "elapsed": 519,
     "user": {
      "displayName": "Jack Mayr",
      "photoUrl": "https://lh3.googleusercontent.com/a/default-user=s64",
      "userId": "14391554172767483827"
     }
    },
    "outputId": "208fff6f-09b1-4e92-84af-758a4316506b",
    "pycharm": {
     "name": "#%%\n"
    }
   },
   "source": [
    "plt.bar(total_dict.keys(), total_dict.values(), color='g')\n",
    "plt.xlabel('Number of items')\n",
    "plt.ylabel('Number of sets')\n",
    "plt.title('Frequent Itemsets by Length')\n",
    "# plt.savefig(\"/content/drive/My Drive/CSC373_DMP_Mayr_Jack/DMP_Association_Analysis/num_frequent_itemsets.png\")\n",
    "# files.download(\"/content/drive/My Drive/CSC373_DMP_Mayr_Jack/DMP_Association_Analysis/num_frequent_itemsets.png\")"
   ],
   "execution_count": 21,
   "outputs": [
    {
     "data": {
      "text/plain": "Text(0.5, 1.0, 'Frequent Itemsets by Length')"
     },
     "execution_count": 21,
     "metadata": {},
     "output_type": "execute_result"
    },
    {
     "data": {
      "text/plain": "<Figure size 640x480 with 1 Axes>",
      "image/png": "[encoded data removed]"
     },
     "metadata": {},
     "output_type": "display_data"
    }
   ]
  },
  {
   "cell_type": "code",
   "metadata": {
    "colab": {
     "base_uri": "https://localhost:8080/",
     "height": 295
    },
    "id": "0CwJ7QZhfMUg",
    "executionInfo": {
     "status": "ok",
     "timestamp": 1635491648406,
     "user_tz": 240,
     "elapsed": 544,
     "user": {
      "displayName": "Jack Mayr",
      "photoUrl": "https://lh3.googleusercontent.com/a/default-user=s64",
      "userId": "14391554172767483827"
     }
    },
    "outputId": "bb3f5eaa-fd64-4c5f-f5b4-11136f97abfc",
    "pycharm": {
     "name": "#%%\n"
    }
   },
   "source": [
    "plt.bar(avg_supp_dict.keys(), avg_supp_dict.values(), color='b')\n",
    "plt.xlabel('Number of items')\n",
    "plt.ylabel('Average support')\n",
    "plt.title('Frequent Itemset Support by Length')\n",
    "plt.savefig(\"/content/drive/My Drive/CSC373_DMP_Mayr_Jack/DMP_Association_Analysis/frequent_itemsets_support.png\")\n",
    "files.download(\"/content/drive/My Drive/CSC373_DMP_Mayr_Jack/DMP_Association_Analysis/frequent_itemsets_support.png\")"
   ],
   "execution_count": 22,
   "outputs": [
    {
     "ename": "FileNotFoundError",
     "evalue": "[Errno 2] No such file or directory: '/content/drive/My Drive/CSC373_DMP_Mayr_Jack/DMP_Association_Analysis/frequent_itemsets_support.png'",
     "output_type": "error",
     "traceback": [
      "\u001B[0;31m---------------------------------------------------------------------------\u001B[0m",
      "\u001B[0;31mFileNotFoundError\u001B[0m                         Traceback (most recent call last)",
      "Cell \u001B[0;32mIn[22], line 5\u001B[0m\n\u001B[1;32m      3\u001B[0m plt\u001B[38;5;241m.\u001B[39mylabel(\u001B[38;5;124m'\u001B[39m\u001B[38;5;124mAverage support\u001B[39m\u001B[38;5;124m'\u001B[39m)\n\u001B[1;32m      4\u001B[0m plt\u001B[38;5;241m.\u001B[39mtitle(\u001B[38;5;124m'\u001B[39m\u001B[38;5;124mFrequent Itemset Support by Length\u001B[39m\u001B[38;5;124m'\u001B[39m)\n\u001B[0;32m----> 5\u001B[0m \u001B[43mplt\u001B[49m\u001B[38;5;241;43m.\u001B[39;49m\u001B[43msavefig\u001B[49m\u001B[43m(\u001B[49m\u001B[38;5;124;43m\"\u001B[39;49m\u001B[38;5;124;43m/content/drive/My Drive/CSC373_DMP_Mayr_Jack/DMP_Association_Analysis/frequent_itemsets_support.png\u001B[39;49m\u001B[38;5;124;43m\"\u001B[39;49m\u001B[43m)\u001B[49m\n\u001B[1;32m      6\u001B[0m files\u001B[38;5;241m.\u001B[39mdownload(\u001B[38;5;124m\"\u001B[39m\u001B[38;5;124m/content/drive/My Drive/CSC373_DMP_Mayr_Jack/DMP_Association_Analysis/frequent_itemsets_support.png\u001B[39m\u001B[38;5;124m\"\u001B[39m)\n",
      "File \u001B[0;32m~/PycharmProjects/my_juypter_notebooks/venv/lib/python3.11/site-packages/matplotlib/pyplot.py:1023\u001B[0m, in \u001B[0;36msavefig\u001B[0;34m(*args, **kwargs)\u001B[0m\n\u001B[1;32m   1020\u001B[0m \u001B[38;5;129m@_copy_docstring_and_deprecators\u001B[39m(Figure\u001B[38;5;241m.\u001B[39msavefig)\n\u001B[1;32m   1021\u001B[0m \u001B[38;5;28;01mdef\u001B[39;00m \u001B[38;5;21msavefig\u001B[39m(\u001B[38;5;241m*\u001B[39margs, \u001B[38;5;241m*\u001B[39m\u001B[38;5;241m*\u001B[39mkwargs):\n\u001B[1;32m   1022\u001B[0m     fig \u001B[38;5;241m=\u001B[39m gcf()\n\u001B[0;32m-> 1023\u001B[0m     res \u001B[38;5;241m=\u001B[39m \u001B[43mfig\u001B[49m\u001B[38;5;241;43m.\u001B[39;49m\u001B[43msavefig\u001B[49m\u001B[43m(\u001B[49m\u001B[38;5;241;43m*\u001B[39;49m\u001B[43margs\u001B[49m\u001B[43m,\u001B[49m\u001B[43m \u001B[49m\u001B[38;5;241;43m*\u001B[39;49m\u001B[38;5;241;43m*\u001B[39;49m\u001B[43mkwargs\u001B[49m\u001B[43m)\u001B[49m\n\u001B[1;32m   1024\u001B[0m     fig\u001B[38;5;241m.\u001B[39mcanvas\u001B[38;5;241m.\u001B[39mdraw_idle()  \u001B[38;5;66;03m# Need this if 'transparent=True', to reset colors.\u001B[39;00m\n\u001B[1;32m   1025\u001B[0m     \u001B[38;5;28;01mreturn\u001B[39;00m res\n",
      "File \u001B[0;32m~/PycharmProjects/my_juypter_notebooks/venv/lib/python3.11/site-packages/matplotlib/figure.py:3343\u001B[0m, in \u001B[0;36mFigure.savefig\u001B[0;34m(self, fname, transparent, **kwargs)\u001B[0m\n\u001B[1;32m   3339\u001B[0m     \u001B[38;5;28;01mfor\u001B[39;00m ax \u001B[38;5;129;01min\u001B[39;00m \u001B[38;5;28mself\u001B[39m\u001B[38;5;241m.\u001B[39maxes:\n\u001B[1;32m   3340\u001B[0m         stack\u001B[38;5;241m.\u001B[39menter_context(\n\u001B[1;32m   3341\u001B[0m             ax\u001B[38;5;241m.\u001B[39mpatch\u001B[38;5;241m.\u001B[39m_cm_set(facecolor\u001B[38;5;241m=\u001B[39m\u001B[38;5;124m'\u001B[39m\u001B[38;5;124mnone\u001B[39m\u001B[38;5;124m'\u001B[39m, edgecolor\u001B[38;5;241m=\u001B[39m\u001B[38;5;124m'\u001B[39m\u001B[38;5;124mnone\u001B[39m\u001B[38;5;124m'\u001B[39m))\n\u001B[0;32m-> 3343\u001B[0m \u001B[38;5;28;43mself\u001B[39;49m\u001B[38;5;241;43m.\u001B[39;49m\u001B[43mcanvas\u001B[49m\u001B[38;5;241;43m.\u001B[39;49m\u001B[43mprint_figure\u001B[49m\u001B[43m(\u001B[49m\u001B[43mfname\u001B[49m\u001B[43m,\u001B[49m\u001B[43m \u001B[49m\u001B[38;5;241;43m*\u001B[39;49m\u001B[38;5;241;43m*\u001B[39;49m\u001B[43mkwargs\u001B[49m\u001B[43m)\u001B[49m\n",
      "File \u001B[0;32m~/PycharmProjects/my_juypter_notebooks/venv/lib/python3.11/site-packages/matplotlib/backend_bases.py:2366\u001B[0m, in \u001B[0;36mFigureCanvasBase.print_figure\u001B[0;34m(self, filename, dpi, facecolor, edgecolor, orientation, format, bbox_inches, pad_inches, bbox_extra_artists, backend, **kwargs)\u001B[0m\n\u001B[1;32m   2362\u001B[0m \u001B[38;5;28;01mtry\u001B[39;00m:\n\u001B[1;32m   2363\u001B[0m     \u001B[38;5;66;03m# _get_renderer may change the figure dpi (as vector formats\u001B[39;00m\n\u001B[1;32m   2364\u001B[0m     \u001B[38;5;66;03m# force the figure dpi to 72), so we need to set it again here.\u001B[39;00m\n\u001B[1;32m   2365\u001B[0m     \u001B[38;5;28;01mwith\u001B[39;00m cbook\u001B[38;5;241m.\u001B[39m_setattr_cm(\u001B[38;5;28mself\u001B[39m\u001B[38;5;241m.\u001B[39mfigure, dpi\u001B[38;5;241m=\u001B[39mdpi):\n\u001B[0;32m-> 2366\u001B[0m         result \u001B[38;5;241m=\u001B[39m \u001B[43mprint_method\u001B[49m\u001B[43m(\u001B[49m\n\u001B[1;32m   2367\u001B[0m \u001B[43m            \u001B[49m\u001B[43mfilename\u001B[49m\u001B[43m,\u001B[49m\n\u001B[1;32m   2368\u001B[0m \u001B[43m            \u001B[49m\u001B[43mfacecolor\u001B[49m\u001B[38;5;241;43m=\u001B[39;49m\u001B[43mfacecolor\u001B[49m\u001B[43m,\u001B[49m\n\u001B[1;32m   2369\u001B[0m \u001B[43m            \u001B[49m\u001B[43medgecolor\u001B[49m\u001B[38;5;241;43m=\u001B[39;49m\u001B[43medgecolor\u001B[49m\u001B[43m,\u001B[49m\n\u001B[1;32m   2370\u001B[0m \u001B[43m            \u001B[49m\u001B[43morientation\u001B[49m\u001B[38;5;241;43m=\u001B[39;49m\u001B[43morientation\u001B[49m\u001B[43m,\u001B[49m\n\u001B[1;32m   2371\u001B[0m \u001B[43m            \u001B[49m\u001B[43mbbox_inches_restore\u001B[49m\u001B[38;5;241;43m=\u001B[39;49m\u001B[43m_bbox_inches_restore\u001B[49m\u001B[43m,\u001B[49m\n\u001B[1;32m   2372\u001B[0m \u001B[43m            \u001B[49m\u001B[38;5;241;43m*\u001B[39;49m\u001B[38;5;241;43m*\u001B[39;49m\u001B[43mkwargs\u001B[49m\u001B[43m)\u001B[49m\n\u001B[1;32m   2373\u001B[0m \u001B[38;5;28;01mfinally\u001B[39;00m:\n\u001B[1;32m   2374\u001B[0m     \u001B[38;5;28;01mif\u001B[39;00m bbox_inches \u001B[38;5;129;01mand\u001B[39;00m restore_bbox:\n",
      "File \u001B[0;32m~/PycharmProjects/my_juypter_notebooks/venv/lib/python3.11/site-packages/matplotlib/backend_bases.py:2232\u001B[0m, in \u001B[0;36mFigureCanvasBase._switch_canvas_and_return_print_method.<locals>.<lambda>\u001B[0;34m(*args, **kwargs)\u001B[0m\n\u001B[1;32m   2228\u001B[0m     optional_kws \u001B[38;5;241m=\u001B[39m {  \u001B[38;5;66;03m# Passed by print_figure for other renderers.\u001B[39;00m\n\u001B[1;32m   2229\u001B[0m         \u001B[38;5;124m\"\u001B[39m\u001B[38;5;124mdpi\u001B[39m\u001B[38;5;124m\"\u001B[39m, \u001B[38;5;124m\"\u001B[39m\u001B[38;5;124mfacecolor\u001B[39m\u001B[38;5;124m\"\u001B[39m, \u001B[38;5;124m\"\u001B[39m\u001B[38;5;124medgecolor\u001B[39m\u001B[38;5;124m\"\u001B[39m, \u001B[38;5;124m\"\u001B[39m\u001B[38;5;124morientation\u001B[39m\u001B[38;5;124m\"\u001B[39m,\n\u001B[1;32m   2230\u001B[0m         \u001B[38;5;124m\"\u001B[39m\u001B[38;5;124mbbox_inches_restore\u001B[39m\u001B[38;5;124m\"\u001B[39m}\n\u001B[1;32m   2231\u001B[0m     skip \u001B[38;5;241m=\u001B[39m optional_kws \u001B[38;5;241m-\u001B[39m {\u001B[38;5;241m*\u001B[39minspect\u001B[38;5;241m.\u001B[39msignature(meth)\u001B[38;5;241m.\u001B[39mparameters}\n\u001B[0;32m-> 2232\u001B[0m     print_method \u001B[38;5;241m=\u001B[39m functools\u001B[38;5;241m.\u001B[39mwraps(meth)(\u001B[38;5;28;01mlambda\u001B[39;00m \u001B[38;5;241m*\u001B[39margs, \u001B[38;5;241m*\u001B[39m\u001B[38;5;241m*\u001B[39mkwargs: \u001B[43mmeth\u001B[49m\u001B[43m(\u001B[49m\n\u001B[1;32m   2233\u001B[0m \u001B[43m        \u001B[49m\u001B[38;5;241;43m*\u001B[39;49m\u001B[43margs\u001B[49m\u001B[43m,\u001B[49m\u001B[43m \u001B[49m\u001B[38;5;241;43m*\u001B[39;49m\u001B[38;5;241;43m*\u001B[39;49m\u001B[43m{\u001B[49m\u001B[43mk\u001B[49m\u001B[43m:\u001B[49m\u001B[43m \u001B[49m\u001B[43mv\u001B[49m\u001B[43m \u001B[49m\u001B[38;5;28;43;01mfor\u001B[39;49;00m\u001B[43m \u001B[49m\u001B[43mk\u001B[49m\u001B[43m,\u001B[49m\u001B[43m \u001B[49m\u001B[43mv\u001B[49m\u001B[43m \u001B[49m\u001B[38;5;129;43;01min\u001B[39;49;00m\u001B[43m \u001B[49m\u001B[43mkwargs\u001B[49m\u001B[38;5;241;43m.\u001B[39;49m\u001B[43mitems\u001B[49m\u001B[43m(\u001B[49m\u001B[43m)\u001B[49m\u001B[43m \u001B[49m\u001B[38;5;28;43;01mif\u001B[39;49;00m\u001B[43m \u001B[49m\u001B[43mk\u001B[49m\u001B[43m \u001B[49m\u001B[38;5;129;43;01mnot\u001B[39;49;00m\u001B[43m \u001B[49m\u001B[38;5;129;43;01min\u001B[39;49;00m\u001B[43m \u001B[49m\u001B[43mskip\u001B[49m\u001B[43m}\u001B[49m\u001B[43m)\u001B[49m)\n\u001B[1;32m   2234\u001B[0m \u001B[38;5;28;01melse\u001B[39;00m:  \u001B[38;5;66;03m# Let third-parties do as they see fit.\u001B[39;00m\n\u001B[1;32m   2235\u001B[0m     print_method \u001B[38;5;241m=\u001B[39m meth\n",
      "File \u001B[0;32m~/PycharmProjects/my_juypter_notebooks/venv/lib/python3.11/site-packages/matplotlib/backends/backend_agg.py:509\u001B[0m, in \u001B[0;36mFigureCanvasAgg.print_png\u001B[0;34m(self, filename_or_obj, metadata, pil_kwargs)\u001B[0m\n\u001B[1;32m    462\u001B[0m \u001B[38;5;28;01mdef\u001B[39;00m \u001B[38;5;21mprint_png\u001B[39m(\u001B[38;5;28mself\u001B[39m, filename_or_obj, \u001B[38;5;241m*\u001B[39m, metadata\u001B[38;5;241m=\u001B[39m\u001B[38;5;28;01mNone\u001B[39;00m, pil_kwargs\u001B[38;5;241m=\u001B[39m\u001B[38;5;28;01mNone\u001B[39;00m):\n\u001B[1;32m    463\u001B[0m \u001B[38;5;250m    \u001B[39m\u001B[38;5;124;03m\"\"\"\u001B[39;00m\n\u001B[1;32m    464\u001B[0m \u001B[38;5;124;03m    Write the figure to a PNG file.\u001B[39;00m\n\u001B[1;32m    465\u001B[0m \n\u001B[0;32m   (...)\u001B[0m\n\u001B[1;32m    507\u001B[0m \u001B[38;5;124;03m        *metadata*, including the default 'Software' key.\u001B[39;00m\n\u001B[1;32m    508\u001B[0m \u001B[38;5;124;03m    \"\"\"\u001B[39;00m\n\u001B[0;32m--> 509\u001B[0m     \u001B[38;5;28;43mself\u001B[39;49m\u001B[38;5;241;43m.\u001B[39;49m\u001B[43m_print_pil\u001B[49m\u001B[43m(\u001B[49m\u001B[43mfilename_or_obj\u001B[49m\u001B[43m,\u001B[49m\u001B[43m \u001B[49m\u001B[38;5;124;43m\"\u001B[39;49m\u001B[38;5;124;43mpng\u001B[39;49m\u001B[38;5;124;43m\"\u001B[39;49m\u001B[43m,\u001B[49m\u001B[43m \u001B[49m\u001B[43mpil_kwargs\u001B[49m\u001B[43m,\u001B[49m\u001B[43m \u001B[49m\u001B[43mmetadata\u001B[49m\u001B[43m)\u001B[49m\n",
      "File \u001B[0;32m~/PycharmProjects/my_juypter_notebooks/venv/lib/python3.11/site-packages/matplotlib/backends/backend_agg.py:458\u001B[0m, in \u001B[0;36mFigureCanvasAgg._print_pil\u001B[0;34m(self, filename_or_obj, fmt, pil_kwargs, metadata)\u001B[0m\n\u001B[1;32m    453\u001B[0m \u001B[38;5;250m\u001B[39m\u001B[38;5;124;03m\"\"\"\u001B[39;00m\n\u001B[1;32m    454\u001B[0m \u001B[38;5;124;03mDraw the canvas, then save it using `.image.imsave` (to which\u001B[39;00m\n\u001B[1;32m    455\u001B[0m \u001B[38;5;124;03m*pil_kwargs* and *metadata* are forwarded).\u001B[39;00m\n\u001B[1;32m    456\u001B[0m \u001B[38;5;124;03m\"\"\"\u001B[39;00m\n\u001B[1;32m    457\u001B[0m FigureCanvasAgg\u001B[38;5;241m.\u001B[39mdraw(\u001B[38;5;28mself\u001B[39m)\n\u001B[0;32m--> 458\u001B[0m \u001B[43mmpl\u001B[49m\u001B[38;5;241;43m.\u001B[39;49m\u001B[43mimage\u001B[49m\u001B[38;5;241;43m.\u001B[39;49m\u001B[43mimsave\u001B[49m\u001B[43m(\u001B[49m\n\u001B[1;32m    459\u001B[0m \u001B[43m    \u001B[49m\u001B[43mfilename_or_obj\u001B[49m\u001B[43m,\u001B[49m\u001B[43m \u001B[49m\u001B[38;5;28;43mself\u001B[39;49m\u001B[38;5;241;43m.\u001B[39;49m\u001B[43mbuffer_rgba\u001B[49m\u001B[43m(\u001B[49m\u001B[43m)\u001B[49m\u001B[43m,\u001B[49m\u001B[43m \u001B[49m\u001B[38;5;28;43mformat\u001B[39;49m\u001B[38;5;241;43m=\u001B[39;49m\u001B[43mfmt\u001B[49m\u001B[43m,\u001B[49m\u001B[43m \u001B[49m\u001B[43morigin\u001B[49m\u001B[38;5;241;43m=\u001B[39;49m\u001B[38;5;124;43m\"\u001B[39;49m\u001B[38;5;124;43mupper\u001B[39;49m\u001B[38;5;124;43m\"\u001B[39;49m\u001B[43m,\u001B[49m\n\u001B[1;32m    460\u001B[0m \u001B[43m    \u001B[49m\u001B[43mdpi\u001B[49m\u001B[38;5;241;43m=\u001B[39;49m\u001B[38;5;28;43mself\u001B[39;49m\u001B[38;5;241;43m.\u001B[39;49m\u001B[43mfigure\u001B[49m\u001B[38;5;241;43m.\u001B[39;49m\u001B[43mdpi\u001B[49m\u001B[43m,\u001B[49m\u001B[43m \u001B[49m\u001B[43mmetadata\u001B[49m\u001B[38;5;241;43m=\u001B[39;49m\u001B[43mmetadata\u001B[49m\u001B[43m,\u001B[49m\u001B[43m \u001B[49m\u001B[43mpil_kwargs\u001B[49m\u001B[38;5;241;43m=\u001B[39;49m\u001B[43mpil_kwargs\u001B[49m\u001B[43m)\u001B[49m\n",
      "File \u001B[0;32m~/PycharmProjects/my_juypter_notebooks/venv/lib/python3.11/site-packages/matplotlib/image.py:1689\u001B[0m, in \u001B[0;36mimsave\u001B[0;34m(fname, arr, vmin, vmax, cmap, format, origin, dpi, metadata, pil_kwargs)\u001B[0m\n\u001B[1;32m   1687\u001B[0m pil_kwargs\u001B[38;5;241m.\u001B[39msetdefault(\u001B[38;5;124m\"\u001B[39m\u001B[38;5;124mformat\u001B[39m\u001B[38;5;124m\"\u001B[39m, \u001B[38;5;28mformat\u001B[39m)\n\u001B[1;32m   1688\u001B[0m pil_kwargs\u001B[38;5;241m.\u001B[39msetdefault(\u001B[38;5;124m\"\u001B[39m\u001B[38;5;124mdpi\u001B[39m\u001B[38;5;124m\"\u001B[39m, (dpi, dpi))\n\u001B[0;32m-> 1689\u001B[0m \u001B[43mimage\u001B[49m\u001B[38;5;241;43m.\u001B[39;49m\u001B[43msave\u001B[49m\u001B[43m(\u001B[49m\u001B[43mfname\u001B[49m\u001B[43m,\u001B[49m\u001B[43m \u001B[49m\u001B[38;5;241;43m*\u001B[39;49m\u001B[38;5;241;43m*\u001B[39;49m\u001B[43mpil_kwargs\u001B[49m\u001B[43m)\u001B[49m\n",
      "File \u001B[0;32m~/PycharmProjects/my_juypter_notebooks/venv/lib/python3.11/site-packages/PIL/Image.py:2428\u001B[0m, in \u001B[0;36mImage.save\u001B[0;34m(self, fp, format, **params)\u001B[0m\n\u001B[1;32m   2426\u001B[0m         fp \u001B[38;5;241m=\u001B[39m builtins\u001B[38;5;241m.\u001B[39mopen(filename, \u001B[38;5;124m\"\u001B[39m\u001B[38;5;124mr+b\u001B[39m\u001B[38;5;124m\"\u001B[39m)\n\u001B[1;32m   2427\u001B[0m     \u001B[38;5;28;01melse\u001B[39;00m:\n\u001B[0;32m-> 2428\u001B[0m         fp \u001B[38;5;241m=\u001B[39m \u001B[43mbuiltins\u001B[49m\u001B[38;5;241;43m.\u001B[39;49m\u001B[43mopen\u001B[49m\u001B[43m(\u001B[49m\u001B[43mfilename\u001B[49m\u001B[43m,\u001B[49m\u001B[43m \u001B[49m\u001B[38;5;124;43m\"\u001B[39;49m\u001B[38;5;124;43mw+b\u001B[39;49m\u001B[38;5;124;43m\"\u001B[39;49m\u001B[43m)\u001B[49m\n\u001B[1;32m   2430\u001B[0m \u001B[38;5;28;01mtry\u001B[39;00m:\n\u001B[1;32m   2431\u001B[0m     save_handler(\u001B[38;5;28mself\u001B[39m, fp, filename)\n",
      "\u001B[0;31mFileNotFoundError\u001B[0m: [Errno 2] No such file or directory: '/content/drive/My Drive/CSC373_DMP_Mayr_Jack/DMP_Association_Analysis/frequent_itemsets_support.png'"
     ]
    },
    {
     "data": {
      "text/plain": "<Figure size 640x480 with 1 Axes>",
      "image/png": "[encoded data removed]"
     },
     "metadata": {},
     "output_type": "display_data"
    }
   ]
  },
  {
   "cell_type": "code",
   "metadata": {
    "colab": {
     "base_uri": "https://localhost:8080/",
     "height": 295
    },
    "id": "_gd9lLIEztqT",
    "executionInfo": {
     "status": "ok",
     "timestamp": 1635491653639,
     "user_tz": 240,
     "elapsed": 567,
     "user": {
      "displayName": "Jack Mayr",
      "photoUrl": "https://lh3.googleusercontent.com/a/default-user=s64",
      "userId": "14391554172767483827"
     }
    },
    "outputId": "56d4dd71-4bf4-4e14-8449-b3820d16677b",
    "pycharm": {
     "name": "#%%\n"
    }
   },
   "source": [
    "plt.scatter(output_df['Support'], output_df['Confidence'], color='c')\n",
    "plt.xlabel('Support')\n",
    "plt.ylabel('Confidence')\n",
    "plt.title('Support vs Confidence Scatterplot')\n",
    "# plt.savefig(\"/content/drive/My Drive/CSC373_DMP_Mayr_Jack/DMP_Association_Analysis/support_vs_confidence.png\")\n",
    "# files.download(\"/content/drive/My Drive/CSC373_DMP_Mayr_Jack/DMP_Association_Analysis/support_vs_confidence.png\")"
   ],
   "execution_count": 23,
   "outputs": [
    {
     "data": {
      "text/plain": "Text(0.5, 1.0, 'Support vs Confidence Scatterplot')"
     },
     "execution_count": 23,
     "metadata": {},
     "output_type": "execute_result"
    },
    {
     "data": {
      "text/plain": "<Figure size 640x480 with 1 Axes>",
      "image/png": "[encoded data removed]"
     },
     "metadata": {},
     "output_type": "display_data"
    }
   ]
  },
  {
   "cell_type": "code",
   "execution_count": 24,
   "outputs": [],
   "source": [
    "# output_df[:20].to_csv('apriori_output.csv')\n",
    "# !cp apriori_output.csv \"/content/drive/My Drive/CSC373_DMP_Mayr_Jack/DMP_Association_Analysis/\""
   ],
   "metadata": {
    "collapsed": false,
    "pycharm": {
     "name": "#%%\n"
    }
   }
  },
  {
   "cell_type": "code",
   "execution_count": null,
   "outputs": [],
   "source": [],
   "metadata": {
    "collapsed": false,
    "pycharm": {
     "name": "#%%\n"
    }
   }
  }
 ]
}