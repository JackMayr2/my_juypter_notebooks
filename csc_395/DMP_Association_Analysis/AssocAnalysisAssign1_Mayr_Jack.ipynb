{
 "nbformat": 4,
 "nbformat_minor": 0,
 "metadata": {
  "colab": {
   "name": "AssocAnalysisAssign1_Mayr_Jack.ipynb",
   "provenance": [
    {
     "file_id": "1gVgkgY7FvWlrL8JIWOTtFuZtVEJc3_BT",
     "timestamp": 1633359834587
    }
   ]
  },
  "kernelspec": {
   "name": "python3",
   "display_name": "Python 3"
  },
  "language_info": {
   "name": "python"
  }
 },
 "cells": [
  {
   "cell_type": "markdown",
   "metadata": {
    "id": "GcW7DX4yBJhr",
    "pycharm": {
     "name": "#%% md\n"
    }
   },
   "source": [
    "NOTE: This code was written by my professor\n",
    "\n",
    "Implement the a priori algorithm. Apply to datasets indicated in code below.\n",
    "You may work togehter, but you should make your own code. Share ideas about data structures and flow.\n",
    "\n",
    "**A priori algorthm**\n",
    "\n",
    "```\n",
    "F_k: frequent k-itemsets\n",
    "\n",
    "L_k: candidate k-itemsets\n",
    "\n",
    "Algorithm\n",
    "* Let k=1\n",
    "* Generate F_1 = {frequent 1-itemsets}\n",
    "* Repeat until F_k is empty\n",
    " * Candidate Generation: Generate L_(k+1) from F_k\n",
    " * Candidate Pruning: eliminate candidate itemsets in L_k+1 containing subsets of length k that are infrequent \n",
    " * Support Counting: Count the support of each candidate in L_(k+1) by scanning the DB (or use a more efficient hash method)\n",
    " * Candidate Elimination: Eliminate candidates in L_(k+1) that are infrequent, leaving only those that are frequent => F_(k+1)\n",
    "```\n",
    "\n",
    "\n",
    "\n"
   ]
  },
  {
   "cell_type": "code",
   "metadata": {
    "colab": {
     "base_uri": "https://localhost:8080/"
    },
    "id": "K3BNm9Xu8O0n",
    "executionInfo": {
     "status": "ok",
     "timestamp": 1635489893343,
     "user_tz": 240,
     "elapsed": 6424,
     "user": {
      "displayName": "Jack Mayr",
      "photoUrl": "https://lh3.googleusercontent.com/a/default-user=s64",
      "userId": "14391554172767483827"
     }
    },
    "outputId": "ecd1a18d-87bc-4f2e-c31d-917d66eeb724",
    "pycharm": {
     "name": "#%%\n"
    }
   },
   "source": [
    "# %pip install mlxtend --upgrade"
   ],
   "execution_count": 19,
   "outputs": []
  },
  {
   "cell_type": "code",
   "metadata": {
    "id": "fnd8wz-LBC8j",
    "executionInfo": {
     "status": "ok",
     "timestamp": 1635489894043,
     "user_tz": 240,
     "elapsed": 705,
     "user": {
      "displayName": "Jack Mayr",
      "photoUrl": "https://lh3.googleusercontent.com/a/default-user=s64",
      "userId": "14391554172767483827"
     }
    },
    "pycharm": {
     "name": "#%%\n"
    }
   },
   "source": [
    "#Functions and imports\n",
    "#I had functions for candidate generation, candidate pruning, support count, and candidate elimination.\n",
    "from csv import reader\n",
    "import pandas as pd\n",
    "import numpy as np\n",
    "from mlxtend.preprocessing import TransactionEncoder\n",
    "from mlxtend.frequent_patterns import association_rules\n",
    "from mlxtend.frequent_patterns import apriori, fpmax, fpgrowth"
   ],
   "execution_count": 4,
   "outputs": []
  },
  {
   "cell_type": "code",
   "metadata": {
    "id": "86c3gdjkBI2Y",
    "colab": {
     "base_uri": "https://localhost:8080/"
    },
    "executionInfo": {
     "status": "ok",
     "timestamp": 1635489894044,
     "user_tz": 240,
     "elapsed": 7,
     "user": {
      "displayName": "Jack Mayr",
      "photoUrl": "https://lh3.googleusercontent.com/a/default-user=s64",
      "userId": "14391554172767483827"
     }
    },
    "outputId": "f5ea2090-e430-4dfa-851d-083d02fa040d",
    "pycharm": {
     "name": "#%%\n"
    }
   },
   "source": [
    "#Main program. Some things below you may or may not want.\n",
    "\n",
    "\n",
    "if __name__ == \"__main__\":\n",
    "\n",
    "  #Transaction file name\n",
    "  #trans_file_name = '/content/drive/MyDrive/CS Classes/CSC_373_Data_Mining/CSC_373_Student_Files/Data/GroceryStoreStacked.csv'\n",
    "  #trans_file_name = '/content/drive/MyDrive/CS Classes/CSC_373_Data_Mining/CSC_373_Student_Files/Data/GroceryStoreStacked_sub.csv'\n",
    "  #trans_file_name = '/content/drive/MyDrive/CS Classes/CSC_373_Data_Mining/CSC_373_Student_Files/Data/Table_5_1.txt'\n",
    "  trans_file_name = '/Users/jackmayr/PycharmProjects/my_juypter_notebooks/csc_395/data/Assoc_Analysis_Vidhya.dat.csv'\n",
    "\n",
    "\n",
    "  print(\"Transaction file:\", trans_file_name)\n",
    "  #Set min_sup\n",
    "  MIN_SUP = 2\n",
    "  print(\"\\nmin_sup\",MIN_SUP)\n",
    "\n",
    "  #My overall code flow followed the algorithm. I did build in some efficiencies\n",
    "  #  for candidate generation.\n"
   ],
   "execution_count": 8,
   "outputs": [
    {
     "name": "stdout",
     "output_type": "stream",
     "text": [
      "Transaction file: /Users/jackmayr/PycharmProjects/my_juypter_notebooks/csc_395/data/Assoc_Analysis_Vidhya.dat.csv\n",
      "\n",
      "min_sup 2\n"
     ]
    }
   ]
  },
  {
   "cell_type": "code",
   "metadata": {
    "id": "ynMe0gXEA8lN",
    "executionInfo": {
     "status": "ok",
     "timestamp": 1635489894235,
     "user_tz": 240,
     "elapsed": 195,
     "user": {
      "displayName": "Jack Mayr",
      "photoUrl": "https://lh3.googleusercontent.com/a/default-user=s64",
      "userId": "14391554172767483827"
     }
    },
    "pycharm": {
     "name": "#%%\n"
    }
   },
   "source": [
    "def clean_dataset(df):\n",
    "    assert isinstance(df, pd.DataFrame), \"df needs to be a pd.DataFrame\"\n",
    "    df.dropna(inplace=True)\n",
    "    indices_to_keep = ~df.isin([np.nan, np.inf, -np.inf]).any(1)\n",
    "    return df[indices_to_keep].astype(str)"
   ],
   "execution_count": 14,
   "outputs": []
  },
  {
   "cell_type": "code",
   "metadata": {
    "id": "z86ViRyf9V2b",
    "pycharm": {
     "name": "#%%\n"
    }
   },
   "source": [
    "# from google.colab import drive\n",
    "# drive.mount('/content/drive')\n",
    "df = pd.read_csv(trans_file_name, delimiter=',')\n",
    "df = df.iloc[: , 1:]\n",
    "df = clean_dataset(df)\n",
    "# User list comprehension to create a list of lists from Dataframe rows\n",
    "data_list = [list(row) for row in df.values]\n",
    "# Print list of lists i.e. rows\n",
    "print(data_list)\n",
    "#data_matrix = pd.read_csv(trans_file_name)\n"
   ],
   "execution_count": 15,
   "outputs": [
    {
     "name": "stdout",
     "output_type": "stream",
     "text": [
      "[['Bread', 'Cheese', 'Meat', 'Diaper', 'Wine', 'Milk', 'Pencil'], ['Eggs', 'Bread', 'Wine', 'Pencil', 'Milk', 'Diaper', 'Bagel'], ['Bagel', 'Wine', 'Diaper', 'Meat', 'Pencil', 'Eggs', 'Cheese'], ['Bagel', 'Eggs', 'Meat', 'Bread', 'Diaper', 'Wine', 'Milk'], ['Cheese', 'Eggs', 'Wine', 'Bread', 'Milk', 'Pencil', 'Meat'], ['Diaper', 'Meat', 'Bread', 'Pencil', 'Wine', 'Cheese', 'Milk'], ['Eggs', 'Wine', 'Milk', 'Cheese', 'Pencil', 'Bagel', 'Bread'], ['Diaper', 'Bread', 'Bagel', 'Eggs', 'Wine', 'Milk', 'Cheese'], ['Cheese', 'Eggs', 'Meat', 'Diaper', 'Wine', 'Milk', 'Bread'], ['Wine', 'Cheese', 'Bagel', 'Pencil', 'Bread', 'Meat', 'Diaper'], ['Bread', 'Wine', 'Eggs', 'Bagel', 'Cheese', 'Pencil', 'Diaper'], ['Milk', 'Cheese', 'Wine', 'Bagel', 'Meat', 'Pencil', 'Bread'], ['Cheese', 'Diaper', 'Pencil', 'Bagel', 'Wine', 'Meat', 'Eggs'], ['Eggs', 'Meat', 'Wine', 'Bagel', 'Milk', 'Cheese', 'Diaper'], ['Bagel', 'Bread', 'Eggs', 'Milk', 'Pencil', 'Meat', 'Wine'], ['Milk', 'Cheese', 'Wine', 'Meat', 'Bagel', 'Diaper', 'Bread'], ['Bread', 'Cheese', 'Eggs', 'Meat', 'Pencil', 'Diaper', 'Wine'], ['Bread', 'Meat', 'Milk', 'Cheese', 'Wine', 'Eggs', 'Pencil'], ['Cheese', 'Pencil', 'Meat', 'Eggs', 'Milk', 'Bagel', 'Wine'], ['Milk', 'Eggs', 'Meat', 'Cheese', 'Bread', 'Wine', 'Pencil'], ['Bread', 'Eggs', 'Bagel', 'Diaper', 'Milk', 'Meat', 'Pencil'], ['Cheese', 'Eggs', 'Meat', 'Wine', 'Bagel', 'Diaper', 'Bread'], ['Eggs', 'Bagel', 'Meat', 'Diaper', 'Pencil', 'Milk', 'Bread'], ['Bagel', 'Cheese', 'Eggs', 'Milk', 'Meat', 'Pencil', 'Bread'], ['Bread', 'Meat', 'Pencil', 'Eggs', 'Cheese', 'Milk', 'Wine'], ['Bagel', 'Wine', 'Diaper', 'Meat', 'Pencil', 'Eggs', 'Cheese'], ['Bagel', 'Eggs', 'Meat', 'Bread', 'Diaper', 'Wine', 'Milk'], ['Cheese', 'Eggs', 'Wine', 'Bread', 'Milk', 'Pencil', 'Meat'], ['Diaper', 'Meat', 'Bread', 'Pencil', 'Wine', 'Cheese', 'Milk'], ['Eggs', 'Wine', 'Milk', 'Cheese', 'Pencil', 'Bagel', 'Bread'], ['Diaper', 'Bread', 'Bagel', 'Eggs', 'Wine', 'Milk', 'Cheese'], ['Cheese', 'Eggs', 'Meat', 'Diaper', 'Wine', 'Milk', 'Bread'], ['Wine', 'Cheese', 'Bagel', 'Pencil', 'Bread', 'Meat', 'Diaper'], ['Bread', 'Wine', 'Eggs', 'Bagel', 'Cheese', 'Pencil', 'Diaper'], ['Milk', 'Cheese', 'Wine', 'Bagel', 'Meat', 'Pencil', 'Bread'], ['Cheese', 'Diaper', 'Pencil', 'Bagel', 'Wine', 'Meat', 'Eggs'], ['Eggs', 'Meat', 'Wine', 'Bagel', 'Milk', 'Cheese', 'Diaper'], ['Bagel', 'Bread', 'Eggs', 'Milk', 'Pencil', 'Meat', 'Wine'], ['Milk', 'Cheese', 'Wine', 'Meat', 'Bagel', 'Diaper', 'Bread'], ['Bread', 'Cheese', 'Eggs', 'Meat', 'Pencil', 'Diaper', 'Wine']]\n"
     ]
    },
    {
     "name": "stderr",
     "output_type": "stream",
     "text": [
      "/var/folders/78/6y5fpy1j5hlbymrj4fxqkkz40000gn/T/ipykernel_67034/3459539243.py:4: FutureWarning: In a future version of pandas all arguments of DataFrame.any and Series.any will be keyword-only.\n",
      "  indices_to_keep = ~df.isin([np.nan, np.inf, -np.inf]).any(1)\n"
     ]
    }
   ]
  },
  {
   "cell_type": "code",
   "metadata": {
    "id": "xBa7zGdN9ryq",
    "pycharm": {
     "name": "#%%\n"
    }
   },
   "source": [
    "te = TransactionEncoder()\n",
    "te_ary = te.fit(data_list).transform(data_list)\n",
    "df = pd.DataFrame(te_ary, columns=te.columns_)\n",
    "\n",
    "frequent_itemsets = fpgrowth(df, min_support=0.5, use_colnames=True)"
   ],
   "execution_count": 16,
   "outputs": []
  },
  {
   "cell_type": "code",
   "metadata": {
    "id": "znMD7Q5n99XV",
    "pycharm": {
     "name": "#%%\n"
    }
   },
   "source": [
    "frequent_itemsets"
   ],
   "execution_count": 17,
   "outputs": [
    {
     "data": {
      "text/plain": "    support                itemsets\n0     0.925                  (Wine)\n1     0.825                  (Meat)\n2     0.825                (Cheese)\n3     0.825                 (Bread)\n4     0.725                (Pencil)\n5     0.725                  (Milk)\n6     0.675                (Diaper)\n7     0.775                  (Eggs)\n8     0.700                 (Bagel)\n9     0.750            (Meat, Wine)\n10    0.800          (Wine, Cheese)\n11    0.675          (Meat, Cheese)\n12    0.650    (Meat, Wine, Cheese)\n13    0.750           (Bread, Wine)\n14    0.650         (Bread, Cheese)\n15    0.650           (Bread, Meat)\n16    0.625   (Bread, Wine, Cheese)\n17    0.575     (Bread, Meat, Wine)\n18    0.500   (Bread, Meat, Cheese)\n19    0.650          (Pencil, Wine)\n20    0.600         (Bread, Pencil)\n21    0.600        (Pencil, Cheese)\n22    0.600          (Meat, Pencil)\n23    0.550          (Pencil, Eggs)\n24    0.525   (Bread, Pencil, Wine)\n25    0.575  (Pencil, Wine, Cheese)\n26    0.525    (Meat, Pencil, Wine)\n27    0.500  (Meat, Pencil, Cheese)\n28    0.650           (Bread, Milk)\n29    0.650            (Milk, Wine)\n30    0.600            (Milk, Meat)\n31    0.550          (Milk, Cheese)\n32    0.550            (Milk, Eggs)\n33    0.575     (Bread, Milk, Wine)\n34    0.525      (Milk, Meat, Wine)\n35    0.525     (Bread, Meat, Milk)\n36    0.525    (Milk, Wine, Cheese)\n37    0.625          (Diaper, Wine)\n38    0.550        (Diaper, Cheese)\n39    0.550          (Meat, Diaper)\n40    0.525         (Bread, Diaper)\n41    0.500         (Diaper, Bagel)\n42    0.500          (Diaper, Eggs)\n43    0.550  (Diaper, Wine, Cheese)\n44    0.500    (Meat, Diaper, Wine)\n45    0.700            (Eggs, Wine)\n46    0.600           (Bread, Eggs)\n47    0.600          (Eggs, Cheese)\n48    0.600            (Meat, Eggs)\n49    0.525     (Bread, Eggs, Wine)\n50    0.575    (Eggs, Wine, Cheese)\n51    0.525      (Meat, Eggs, Wine)\n52    0.625           (Wine, Bagel)\n53    0.550           (Eggs, Bagel)\n54    0.525          (Bread, Bagel)\n55    0.525         (Cheese, Bagel)\n56    0.525           (Meat, Bagel)\n57    0.500   (Cheese, Wine, Bagel)",
      "text/html": "<div>\n<style scoped>\n    .dataframe tbody tr th:only-of-type {\n        vertical-align: middle;\n    }\n\n    .dataframe tbody tr th {\n        vertical-align: top;\n    }\n\n    .dataframe thead th {\n        text-align: right;\n    }\n</style>\n<table border=\"1\" class=\"dataframe\">\n  <thead>\n    <tr style=\"text-align: right;\">\n      <th></th>\n      <th>support</th>\n      <th>itemsets</th>\n    </tr>\n  </thead>\n  <tbody>\n    <tr>\n      <th>0</th>\n      <td>0.925</td>\n      <td>(Wine)</td>\n    </tr>\n    <tr>\n      <th>1</th>\n      <td>0.825</td>\n      <td>(Meat)</td>\n    </tr>\n    <tr>\n      <th>2</th>\n      <td>0.825</td>\n      <td>(Cheese)</td>\n    </tr>\n    <tr>\n      <th>3</th>\n      <td>0.825</td>\n      <td>(Bread)</td>\n    </tr>\n    <tr>\n      <th>4</th>\n      <td>0.725</td>\n      <td>(Pencil)</td>\n    </tr>\n    <tr>\n      <th>5</th>\n      <td>0.725</td>\n      <td>(Milk)</td>\n    </tr>\n    <tr>\n      <th>6</th>\n      <td>0.675</td>\n      <td>(Diaper)</td>\n    </tr>\n    <tr>\n      <th>7</th>\n      <td>0.775</td>\n      <td>(Eggs)</td>\n    </tr>\n    <tr>\n      <th>8</th>\n      <td>0.700</td>\n      <td>(Bagel)</td>\n    </tr>\n    <tr>\n      <th>9</th>\n      <td>0.750</td>\n      <td>(Meat, Wine)</td>\n    </tr>\n    <tr>\n      <th>10</th>\n      <td>0.800</td>\n      <td>(Wine, Cheese)</td>\n    </tr>\n    <tr>\n      <th>11</th>\n      <td>0.675</td>\n      <td>(Meat, Cheese)</td>\n    </tr>\n    <tr>\n      <th>12</th>\n      <td>0.650</td>\n      <td>(Meat, Wine, Cheese)</td>\n    </tr>\n    <tr>\n      <th>13</th>\n      <td>0.750</td>\n      <td>(Bread, Wine)</td>\n    </tr>\n    <tr>\n      <th>14</th>\n      <td>0.650</td>\n      <td>(Bread, Cheese)</td>\n    </tr>\n    <tr>\n      <th>15</th>\n      <td>0.650</td>\n      <td>(Bread, Meat)</td>\n    </tr>\n    <tr>\n      <th>16</th>\n      <td>0.625</td>\n      <td>(Bread, Wine, Cheese)</td>\n    </tr>\n    <tr>\n      <th>17</th>\n      <td>0.575</td>\n      <td>(Bread, Meat, Wine)</td>\n    </tr>\n    <tr>\n      <th>18</th>\n      <td>0.500</td>\n      <td>(Bread, Meat, Cheese)</td>\n    </tr>\n    <tr>\n      <th>19</th>\n      <td>0.650</td>\n      <td>(Pencil, Wine)</td>\n    </tr>\n    <tr>\n      <th>20</th>\n      <td>0.600</td>\n      <td>(Bread, Pencil)</td>\n    </tr>\n    <tr>\n      <th>21</th>\n      <td>0.600</td>\n      <td>(Pencil, Cheese)</td>\n    </tr>\n    <tr>\n      <th>22</th>\n      <td>0.600</td>\n      <td>(Meat, Pencil)</td>\n    </tr>\n    <tr>\n      <th>23</th>\n      <td>0.550</td>\n      <td>(Pencil, Eggs)</td>\n    </tr>\n    <tr>\n      <th>24</th>\n      <td>0.525</td>\n      <td>(Bread, Pencil, Wine)</td>\n    </tr>\n    <tr>\n      <th>25</th>\n      <td>0.575</td>\n      <td>(Pencil, Wine, Cheese)</td>\n    </tr>\n    <tr>\n      <th>26</th>\n      <td>0.525</td>\n      <td>(Meat, Pencil, Wine)</td>\n    </tr>\n    <tr>\n      <th>27</th>\n      <td>0.500</td>\n      <td>(Meat, Pencil, Cheese)</td>\n    </tr>\n    <tr>\n      <th>28</th>\n      <td>0.650</td>\n      <td>(Bread, Milk)</td>\n    </tr>\n    <tr>\n      <th>29</th>\n      <td>0.650</td>\n      <td>(Milk, Wine)</td>\n    </tr>\n    <tr>\n      <th>30</th>\n      <td>0.600</td>\n      <td>(Milk, Meat)</td>\n    </tr>\n    <tr>\n      <th>31</th>\n      <td>0.550</td>\n      <td>(Milk, Cheese)</td>\n    </tr>\n    <tr>\n      <th>32</th>\n      <td>0.550</td>\n      <td>(Milk, Eggs)</td>\n    </tr>\n    <tr>\n      <th>33</th>\n      <td>0.575</td>\n      <td>(Bread, Milk, Wine)</td>\n    </tr>\n    <tr>\n      <th>34</th>\n      <td>0.525</td>\n      <td>(Milk, Meat, Wine)</td>\n    </tr>\n    <tr>\n      <th>35</th>\n      <td>0.525</td>\n      <td>(Bread, Meat, Milk)</td>\n    </tr>\n    <tr>\n      <th>36</th>\n      <td>0.525</td>\n      <td>(Milk, Wine, Cheese)</td>\n    </tr>\n    <tr>\n      <th>37</th>\n      <td>0.625</td>\n      <td>(Diaper, Wine)</td>\n    </tr>\n    <tr>\n      <th>38</th>\n      <td>0.550</td>\n      <td>(Diaper, Cheese)</td>\n    </tr>\n    <tr>\n      <th>39</th>\n      <td>0.550</td>\n      <td>(Meat, Diaper)</td>\n    </tr>\n    <tr>\n      <th>40</th>\n      <td>0.525</td>\n      <td>(Bread, Diaper)</td>\n    </tr>\n    <tr>\n      <th>41</th>\n      <td>0.500</td>\n      <td>(Diaper, Bagel)</td>\n    </tr>\n    <tr>\n      <th>42</th>\n      <td>0.500</td>\n      <td>(Diaper, Eggs)</td>\n    </tr>\n    <tr>\n      <th>43</th>\n      <td>0.550</td>\n      <td>(Diaper, Wine, Cheese)</td>\n    </tr>\n    <tr>\n      <th>44</th>\n      <td>0.500</td>\n      <td>(Meat, Diaper, Wine)</td>\n    </tr>\n    <tr>\n      <th>45</th>\n      <td>0.700</td>\n      <td>(Eggs, Wine)</td>\n    </tr>\n    <tr>\n      <th>46</th>\n      <td>0.600</td>\n      <td>(Bread, Eggs)</td>\n    </tr>\n    <tr>\n      <th>47</th>\n      <td>0.600</td>\n      <td>(Eggs, Cheese)</td>\n    </tr>\n    <tr>\n      <th>48</th>\n      <td>0.600</td>\n      <td>(Meat, Eggs)</td>\n    </tr>\n    <tr>\n      <th>49</th>\n      <td>0.525</td>\n      <td>(Bread, Eggs, Wine)</td>\n    </tr>\n    <tr>\n      <th>50</th>\n      <td>0.575</td>\n      <td>(Eggs, Wine, Cheese)</td>\n    </tr>\n    <tr>\n      <th>51</th>\n      <td>0.525</td>\n      <td>(Meat, Eggs, Wine)</td>\n    </tr>\n    <tr>\n      <th>52</th>\n      <td>0.625</td>\n      <td>(Wine, Bagel)</td>\n    </tr>\n    <tr>\n      <th>53</th>\n      <td>0.550</td>\n      <td>(Eggs, Bagel)</td>\n    </tr>\n    <tr>\n      <th>54</th>\n      <td>0.525</td>\n      <td>(Bread, Bagel)</td>\n    </tr>\n    <tr>\n      <th>55</th>\n      <td>0.525</td>\n      <td>(Cheese, Bagel)</td>\n    </tr>\n    <tr>\n      <th>56</th>\n      <td>0.525</td>\n      <td>(Meat, Bagel)</td>\n    </tr>\n    <tr>\n      <th>57</th>\n      <td>0.500</td>\n      <td>(Cheese, Wine, Bagel)</td>\n    </tr>\n  </tbody>\n</table>\n</div>"
     },
     "execution_count": 17,
     "metadata": {},
     "output_type": "execute_result"
    }
   ]
  },
  {
   "cell_type": "code",
   "metadata": {
    "colab": {
     "base_uri": "https://localhost:8080/",
     "height": 419
    },
    "id": "f4YJVUzaE21j",
    "executionInfo": {
     "status": "ok",
     "timestamp": 1633363916980,
     "user_tz": 240,
     "elapsed": 140,
     "user": {
      "displayName": "Jack Mayr",
      "photoUrl": "https://lh3.googleusercontent.com/a/default-user=s64",
      "userId": "14391554172767483827"
     }
    },
    "outputId": "40056bee-6e94-4fc7-9054-fe5b74d6a9d4",
    "pycharm": {
     "name": "#%%\n"
    }
   },
   "source": [
    "from mlxtend.frequent_patterns import association_rules\n",
    "\n",
    "association_rules(frequent_itemsets, metric=\"confidence\", min_threshold=0.7)"
   ],
   "execution_count": 18,
   "outputs": [
    {
     "data": {
      "text/plain": "         antecedents     consequents  antecedent support  consequent support  \\\n0             (Meat)          (Wine)               0.825               0.925   \n1             (Wine)          (Meat)               0.925               0.825   \n2             (Wine)        (Cheese)               0.925               0.825   \n3           (Cheese)          (Wine)               0.825               0.925   \n4             (Meat)        (Cheese)               0.825               0.825   \n..               ...             ...                 ...                 ...   \n113          (Bagel)        (Cheese)               0.700               0.825   \n114          (Bagel)          (Meat)               0.700               0.825   \n115  (Bagel, Cheese)          (Wine)               0.525               0.925   \n116    (Wine, Bagel)        (Cheese)               0.625               0.825   \n117          (Bagel)  (Wine, Cheese)               0.700               0.800   \n\n     support  confidence      lift  leverage  conviction  \n0      0.750    0.909091  0.982801 -0.013125      0.8250  \n1      0.750    0.810811  0.982801 -0.013125      0.9250  \n2      0.800    0.864865  1.048321  0.036875      1.2950  \n3      0.800    0.969697  1.048321  0.036875      2.4750  \n4      0.675    0.818182  0.991736 -0.005625      0.9625  \n..       ...         ...       ...       ...         ...  \n113    0.525    0.750000  0.909091 -0.052500      0.7000  \n114    0.525    0.750000  0.909091 -0.052500      0.7000  \n115    0.500    0.952381  1.029601  0.014375      1.5750  \n116    0.500    0.800000  0.969697 -0.015625      0.8750  \n117    0.500    0.714286  0.892857 -0.060000      0.7000  \n\n[118 rows x 9 columns]",
      "text/html": "<div>\n<style scoped>\n    .dataframe tbody tr th:only-of-type {\n        vertical-align: middle;\n    }\n\n    .dataframe tbody tr th {\n        vertical-align: top;\n    }\n\n    .dataframe thead th {\n        text-align: right;\n    }\n</style>\n<table border=\"1\" class=\"dataframe\">\n  <thead>\n    <tr style=\"text-align: right;\">\n      <th></th>\n      <th>antecedents</th>\n      <th>consequents</th>\n      <th>antecedent support</th>\n      <th>consequent support</th>\n      <th>support</th>\n      <th>confidence</th>\n      <th>lift</th>\n      <th>leverage</th>\n      <th>conviction</th>\n    </tr>\n  </thead>\n  <tbody>\n    <tr>\n      <th>0</th>\n      <td>(Meat)</td>\n      <td>(Wine)</td>\n      <td>0.825</td>\n      <td>0.925</td>\n      <td>0.750</td>\n      <td>0.909091</td>\n      <td>0.982801</td>\n      <td>-0.013125</td>\n      <td>0.8250</td>\n    </tr>\n    <tr>\n      <th>1</th>\n      <td>(Wine)</td>\n      <td>(Meat)</td>\n      <td>0.925</td>\n      <td>0.825</td>\n      <td>0.750</td>\n      <td>0.810811</td>\n      <td>0.982801</td>\n      <td>-0.013125</td>\n      <td>0.9250</td>\n    </tr>\n    <tr>\n      <th>2</th>\n      <td>(Wine)</td>\n      <td>(Cheese)</td>\n      <td>0.925</td>\n      <td>0.825</td>\n      <td>0.800</td>\n      <td>0.864865</td>\n      <td>1.048321</td>\n      <td>0.036875</td>\n      <td>1.2950</td>\n    </tr>\n    <tr>\n      <th>3</th>\n      <td>(Cheese)</td>\n      <td>(Wine)</td>\n      <td>0.825</td>\n      <td>0.925</td>\n      <td>0.800</td>\n      <td>0.969697</td>\n      <td>1.048321</td>\n      <td>0.036875</td>\n      <td>2.4750</td>\n    </tr>\n    <tr>\n      <th>4</th>\n      <td>(Meat)</td>\n      <td>(Cheese)</td>\n      <td>0.825</td>\n      <td>0.825</td>\n      <td>0.675</td>\n      <td>0.818182</td>\n      <td>0.991736</td>\n      <td>-0.005625</td>\n      <td>0.9625</td>\n    </tr>\n    <tr>\n      <th>...</th>\n      <td>...</td>\n      <td>...</td>\n      <td>...</td>\n      <td>...</td>\n      <td>...</td>\n      <td>...</td>\n      <td>...</td>\n      <td>...</td>\n      <td>...</td>\n    </tr>\n    <tr>\n      <th>113</th>\n      <td>(Bagel)</td>\n      <td>(Cheese)</td>\n      <td>0.700</td>\n      <td>0.825</td>\n      <td>0.525</td>\n      <td>0.750000</td>\n      <td>0.909091</td>\n      <td>-0.052500</td>\n      <td>0.7000</td>\n    </tr>\n    <tr>\n      <th>114</th>\n      <td>(Bagel)</td>\n      <td>(Meat)</td>\n      <td>0.700</td>\n      <td>0.825</td>\n      <td>0.525</td>\n      <td>0.750000</td>\n      <td>0.909091</td>\n      <td>-0.052500</td>\n      <td>0.7000</td>\n    </tr>\n    <tr>\n      <th>115</th>\n      <td>(Bagel, Cheese)</td>\n      <td>(Wine)</td>\n      <td>0.525</td>\n      <td>0.925</td>\n      <td>0.500</td>\n      <td>0.952381</td>\n      <td>1.029601</td>\n      <td>0.014375</td>\n      <td>1.5750</td>\n    </tr>\n    <tr>\n      <th>116</th>\n      <td>(Wine, Bagel)</td>\n      <td>(Cheese)</td>\n      <td>0.625</td>\n      <td>0.825</td>\n      <td>0.500</td>\n      <td>0.800000</td>\n      <td>0.969697</td>\n      <td>-0.015625</td>\n      <td>0.8750</td>\n    </tr>\n    <tr>\n      <th>117</th>\n      <td>(Bagel)</td>\n      <td>(Wine, Cheese)</td>\n      <td>0.700</td>\n      <td>0.800</td>\n      <td>0.500</td>\n      <td>0.714286</td>\n      <td>0.892857</td>\n      <td>-0.060000</td>\n      <td>0.7000</td>\n    </tr>\n  </tbody>\n</table>\n<p>118 rows × 9 columns</p>\n</div>"
     },
     "execution_count": 18,
     "metadata": {},
     "output_type": "execute_result"
    }
   ]
  },
  {
   "cell_type": "markdown",
   "source": [
    "Some output - I think it is correct, but if you find problems, let me know\n",
    "\n",
    "```\n",
    "Transaction file: /content/drive/MyDrive/CS Classes/CSC_373_Data_Mining/CSC_373_Student_Files/Data/Table_5_1.txt\n",
    "\n",
    "min_sup 2\n",
    "\n",
    "Number of transactions: 5\n",
    "\n",
    "Candidate 1-itemset has 6 items.\n",
    "{'Bread': 4, 'Milk': 4, 'Beer': 3, 'Diapers': 4, 'Eggs': 1, 'Cola': 2}\n",
    "\n",
    "Pruned 1-itemset is the same as the eliminated 1-itemset.\n",
    "\n",
    "Eliminated 1-itemset has 5 items.\n",
    "{'Bread': 4, 'Milk': 4, 'Beer': 3, 'Diapers': 4, 'Cola': 2}\n",
    "\n",
    "Candidate 2-itemset has 10 items.\n",
    "{'Bread,Milk': 0, 'Beer,Bread': 0, 'Bread,Diapers': 0, 'Bread,Cola': 0, 'Beer,Milk': 0, 'Diapers,Milk': 0, 'Cola,Milk': 0, 'Beer,Diapers': 0, 'Beer,Cola': 0, 'Cola,Diapers': 0}\n",
    "\n",
    "Pruned 2-itemset has 10 items.\n",
    "{'Bread,Milk': 0, 'Beer,Bread': 0, 'Bread,Diapers': 0, 'Bread,Cola': 0, 'Beer,Milk': 0, 'Diapers,Milk': 0, 'Cola,Milk': 0, 'Beer,Diapers': 0, 'Beer,Cola': 0, 'Cola,Diapers': 0}\n",
    "\n",
    "Eliminated 2-itemset has 8 items.\n",
    "{'Bread,Milk': 3, 'Beer,Bread': 2, 'Bread,Diapers': 3, 'Beer,Milk': 2, 'Diapers,Milk': 3, 'Cola,Milk': 2, 'Beer,Diapers': 3, 'Cola,Diapers': 2}\n",
    "\n",
    "Candidate 3-itemset has 10 items.\n",
    "{'Beer,Bread,Milk': 0, 'Bread,Diapers,Milk': 0, 'Bread,Cola,Milk': 0, 'Beer,Bread,Diapers': 0, 'Bread,Cola,Diapers': 0, 'Beer,Diapers,Milk': 0, 'Cola,Diapers,Milk': 0, 'Beer,Cola,Milk': 0, 'Beer,Cola,Diapers': 0, 'Beer,Bread,Cola': 0}\n",
    "\n",
    "Pruned 3-itemset has 5 items.\n",
    "{'Beer,Bread,Milk': 0, 'Bread,Diapers,Milk': 0, 'Beer,Bread,Diapers': 0, 'Beer,Diapers,Milk': 0, 'Cola,Diapers,Milk': 0}\n",
    "\n",
    "Eliminated 3-itemset has 4 items.\n",
    "{'Bread,Diapers,Milk': 2, 'Beer,Bread,Diapers': 2, 'Beer,Diapers,Milk': 2, 'Cola,Diapers,Milk': 2}\n",
    "\n",
    "Candidate 4-itemset has 4 items.\n",
    "{'Beer,Bread,Diapers,Milk': 0, 'Bread,Cola,Diapers,Milk': 0, 'Beer,Cola,Diapers,Milk': 0, 'Beer,Bread,Cola,Diapers': 0}\n",
    "\n",
    "Pruned 4-itemset has 0 items.\n",
    "{}\n",
    "\n",
    "Eliminated 4-itemset has 0 items.\n",
    "{}\n",
    "END\n",
    "\n",
    "```"
   ],
   "metadata": {
    "collapsed": false,
    "pycharm": {
     "name": "#%% md\n"
    }
   }
  },
  {
   "cell_type": "code",
   "execution_count": null,
   "outputs": [],
   "source": [],
   "metadata": {
    "collapsed": false,
    "pycharm": {
     "name": "#%%\n"
    }
   }
  }
 ]
}