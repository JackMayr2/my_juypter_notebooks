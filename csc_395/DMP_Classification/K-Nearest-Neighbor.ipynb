{
 "nbformat": 4,
 "nbformat_minor": 0,
 "metadata": {
  "colab": {
   "name": "K-Nearest-Neighbor.ipynb",
   "provenance": [],
   "authorship_tag": "ABX9TyPB8VPxwRr3wZlEBxdSzJ9z"
  },
  "kernelspec": {
   "name": "python3",
   "display_name": "Python 3"
  },
  "language_info": {
   "name": "python"
  }
 },
 "cells": [
  {
   "cell_type": "code",
   "metadata": {
    "id": "m5MZWteNywI7",
    "pycharm": {
     "name": "#%%\n"
    }
   },
   "source": [],
   "execution_count": null,
   "outputs": []
  }
 ]
}