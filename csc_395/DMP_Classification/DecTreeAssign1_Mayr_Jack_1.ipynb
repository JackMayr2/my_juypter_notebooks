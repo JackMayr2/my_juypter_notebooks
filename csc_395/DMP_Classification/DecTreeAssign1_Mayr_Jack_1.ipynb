{
 "nbformat": 4,
 "nbformat_minor": 0,
 "metadata": {
  "colab": {
   "name": "DecTreeAssign1_Mayr_Jack_1.ipynb",
   "provenance": [],
   "authorship_tag": "ABX9TyPfTWZTtAeiqL9wxJyTgPRh"
  },
  "kernelspec": {
   "name": "python3",
   "display_name": "Python 3"
  },
  "language_info": {
   "name": "python"
  }
 },
 "cells": [
  {
   "cell_type": "markdown",
   "metadata": {
    "id": "N112preN_n9K",
    "pycharm": {
     "name": "#%% md\n"
    }
   },
   "source": [
    "Imports"
   ]
  },
  {
   "cell_type": "code",
   "metadata": {
    "colab": {
     "base_uri": "https://localhost:8080/"
    },
    "id": "fq31pKX4xqwM",
    "executionInfo": {
     "status": "ok",
     "timestamp": 1634927539821,
     "user_tz": 240,
     "elapsed": 157,
     "user": {
      "displayName": "Jack Mayr",
      "photoUrl": "https://lh3.googleusercontent.com/a/default-user=s64",
      "userId": "14391554172767483827"
     }
    },
    "outputId": "0dbc8532-16ff-4b73-b81b-6a0e41112e47",
    "pycharm": {
     "name": "#%%\n"
    }
   },
   "source": [
    "import math\n",
    "import pandas as pd\n",
    "import numpy as np\n",
    "#from google.colab import drive\n",
    "#drive.mount('/content/drive')"
   ],
   "execution_count": 1,
   "outputs": []
  },
  {
   "cell_type": "markdown",
   "metadata": {
    "id": "C6fOMRgp_rMi",
    "pycharm": {
     "name": "#%% md\n"
    }
   },
   "source": [
    "read in data as pandas dataframe, this makes separating data and identifying class values easy and vectorizable"
   ]
  },
  {
   "cell_type": "code",
   "metadata": {
    "colab": {
     "base_uri": "https://localhost:8080/",
     "height": 439
    },
    "id": "9R0zMDE2x_3q",
    "executionInfo": {
     "status": "ok",
     "timestamp": 1634926087032,
     "user_tz": 240,
     "elapsed": 486,
     "user": {
      "displayName": "Jack Mayr",
      "photoUrl": "https://lh3.googleusercontent.com/a/default-user=s64",
      "userId": "14391554172767483827"
     }
    },
    "outputId": "42141734-42f2-4096-9649-b482e2a9740f",
    "pycharm": {
     "name": "#%%\n"
    }
   },
   "source": [
    "data_matrix = pd.read_csv('/Users/jackmayr/PycharmProjects/my_juypter_notebooks/csc_395/data/DecTreeAssign1.dat')\n",
    "data_matrix"
   ],
   "execution_count": 3,
   "outputs": [
    {
     "data": {
      "text/plain": "    Class    F00    F01     F02     F03      F04      F05      F06      F07  \\\n0       M  17.99  10.38  122.80  1001.0  0.11840  0.27760  0.30010  0.14710   \n1       M  20.57  17.77  132.90  1326.0  0.08474  0.07864  0.08690  0.07017   \n2       M  19.69  21.25  130.00  1203.0  0.10960  0.15990  0.19740  0.12790   \n3       M  11.42  20.38   77.58   386.1  0.14250  0.28390  0.24140  0.10520   \n4       M  20.29  14.34  135.10  1297.0  0.10030  0.13280  0.19800  0.10430   \n..    ...    ...    ...     ...     ...      ...      ...      ...      ...   \n564     M  21.56  22.39  142.00  1479.0  0.11100  0.11590  0.24390  0.13890   \n565     M  20.13  28.25  131.20  1261.0  0.09780  0.10340  0.14400  0.09791   \n566     M  16.60  28.08  108.30   858.1  0.08455  0.10230  0.09251  0.05302   \n567     M  20.60  29.33  140.10  1265.0  0.11780  0.27700  0.35140  0.15200   \n568     B   7.76  24.54   47.92   181.0  0.05263  0.04362  0.00000  0.00000   \n\n        F08  ...     F20    F21     F22     F23      F24      F25     F26  \\\n0    0.2419  ...  25.380  17.33  184.60  2019.0  0.16220  0.66560  0.7119   \n1    0.1812  ...  24.990  23.41  158.80  1956.0  0.12380  0.18660  0.2416   \n2    0.2069  ...  23.570  25.53  152.50  1709.0  0.14440  0.42450  0.4504   \n3    0.2597  ...  14.910  26.50   98.87   567.7  0.20980  0.86630  0.6869   \n4    0.1809  ...  22.540  16.67  152.20  1575.0  0.13740  0.20500  0.4000   \n..      ...  ...     ...    ...     ...     ...      ...      ...     ...   \n564  0.1726  ...  25.450  26.40  166.10  2027.0  0.14100  0.21130  0.4107   \n565  0.1752  ...  23.690  38.25  155.00  1731.0  0.11660  0.19220  0.3215   \n566  0.1590  ...  18.980  34.12  126.70  1124.0  0.11390  0.30940  0.3403   \n567  0.2397  ...  25.740  39.42  184.60  1821.0  0.16500  0.86810  0.9387   \n568  0.1587  ...   9.456  30.37   59.16   268.6  0.08996  0.06444  0.0000   \n\n        F27     F28      F29  \n0    0.2654  0.4601  0.11890  \n1    0.1860  0.2750  0.08902  \n2    0.2430  0.3613  0.08758  \n3    0.2575  0.6638  0.17300  \n4    0.1625  0.2364  0.07678  \n..      ...     ...      ...  \n564  0.2216  0.2060  0.07115  \n565  0.1628  0.2572  0.06637  \n566  0.1418  0.2218  0.07820  \n567  0.2650  0.4087  0.12400  \n568  0.0000  0.2871  0.07039  \n\n[569 rows x 31 columns]",
      "text/html": "<div>\n<style scoped>\n    .dataframe tbody tr th:only-of-type {\n        vertical-align: middle;\n    }\n\n    .dataframe tbody tr th {\n        vertical-align: top;\n    }\n\n    .dataframe thead th {\n        text-align: right;\n    }\n</style>\n<table border=\"1\" class=\"dataframe\">\n  <thead>\n    <tr style=\"text-align: right;\">\n      <th></th>\n      <th>Class</th>\n      <th>F00</th>\n      <th>F01</th>\n      <th>F02</th>\n      <th>F03</th>\n      <th>F04</th>\n      <th>F05</th>\n      <th>F06</th>\n      <th>F07</th>\n      <th>F08</th>\n      <th>...</th>\n      <th>F20</th>\n      <th>F21</th>\n      <th>F22</th>\n      <th>F23</th>\n      <th>F24</th>\n      <th>F25</th>\n      <th>F26</th>\n      <th>F27</th>\n      <th>F28</th>\n      <th>F29</th>\n    </tr>\n  </thead>\n  <tbody>\n    <tr>\n      <th>0</th>\n      <td>M</td>\n      <td>17.99</td>\n      <td>10.38</td>\n      <td>122.80</td>\n      <td>1001.0</td>\n      <td>0.11840</td>\n      <td>0.27760</td>\n      <td>0.30010</td>\n      <td>0.14710</td>\n      <td>0.2419</td>\n      <td>...</td>\n      <td>25.380</td>\n      <td>17.33</td>\n      <td>184.60</td>\n      <td>2019.0</td>\n      <td>0.16220</td>\n      <td>0.66560</td>\n      <td>0.7119</td>\n      <td>0.2654</td>\n      <td>0.4601</td>\n      <td>0.11890</td>\n    </tr>\n    <tr>\n      <th>1</th>\n      <td>M</td>\n      <td>20.57</td>\n      <td>17.77</td>\n      <td>132.90</td>\n      <td>1326.0</td>\n      <td>0.08474</td>\n      <td>0.07864</td>\n      <td>0.08690</td>\n      <td>0.07017</td>\n      <td>0.1812</td>\n      <td>...</td>\n      <td>24.990</td>\n      <td>23.41</td>\n      <td>158.80</td>\n      <td>1956.0</td>\n      <td>0.12380</td>\n      <td>0.18660</td>\n      <td>0.2416</td>\n      <td>0.1860</td>\n      <td>0.2750</td>\n      <td>0.08902</td>\n    </tr>\n    <tr>\n      <th>2</th>\n      <td>M</td>\n      <td>19.69</td>\n      <td>21.25</td>\n      <td>130.00</td>\n      <td>1203.0</td>\n      <td>0.10960</td>\n      <td>0.15990</td>\n      <td>0.19740</td>\n      <td>0.12790</td>\n      <td>0.2069</td>\n      <td>...</td>\n      <td>23.570</td>\n      <td>25.53</td>\n      <td>152.50</td>\n      <td>1709.0</td>\n      <td>0.14440</td>\n      <td>0.42450</td>\n      <td>0.4504</td>\n      <td>0.2430</td>\n      <td>0.3613</td>\n      <td>0.08758</td>\n    </tr>\n    <tr>\n      <th>3</th>\n      <td>M</td>\n      <td>11.42</td>\n      <td>20.38</td>\n      <td>77.58</td>\n      <td>386.1</td>\n      <td>0.14250</td>\n      <td>0.28390</td>\n      <td>0.24140</td>\n      <td>0.10520</td>\n      <td>0.2597</td>\n      <td>...</td>\n      <td>14.910</td>\n      <td>26.50</td>\n      <td>98.87</td>\n      <td>567.7</td>\n      <td>0.20980</td>\n      <td>0.86630</td>\n      <td>0.6869</td>\n      <td>0.2575</td>\n      <td>0.6638</td>\n      <td>0.17300</td>\n    </tr>\n    <tr>\n      <th>4</th>\n      <td>M</td>\n      <td>20.29</td>\n      <td>14.34</td>\n      <td>135.10</td>\n      <td>1297.0</td>\n      <td>0.10030</td>\n      <td>0.13280</td>\n      <td>0.19800</td>\n      <td>0.10430</td>\n      <td>0.1809</td>\n      <td>...</td>\n      <td>22.540</td>\n      <td>16.67</td>\n      <td>152.20</td>\n      <td>1575.0</td>\n      <td>0.13740</td>\n      <td>0.20500</td>\n      <td>0.4000</td>\n      <td>0.1625</td>\n      <td>0.2364</td>\n      <td>0.07678</td>\n    </tr>\n    <tr>\n      <th>...</th>\n      <td>...</td>\n      <td>...</td>\n      <td>...</td>\n      <td>...</td>\n      <td>...</td>\n      <td>...</td>\n      <td>...</td>\n      <td>...</td>\n      <td>...</td>\n      <td>...</td>\n      <td>...</td>\n      <td>...</td>\n      <td>...</td>\n      <td>...</td>\n      <td>...</td>\n      <td>...</td>\n      <td>...</td>\n      <td>...</td>\n      <td>...</td>\n      <td>...</td>\n      <td>...</td>\n    </tr>\n    <tr>\n      <th>564</th>\n      <td>M</td>\n      <td>21.56</td>\n      <td>22.39</td>\n      <td>142.00</td>\n      <td>1479.0</td>\n      <td>0.11100</td>\n      <td>0.11590</td>\n      <td>0.24390</td>\n      <td>0.13890</td>\n      <td>0.1726</td>\n      <td>...</td>\n      <td>25.450</td>\n      <td>26.40</td>\n      <td>166.10</td>\n      <td>2027.0</td>\n      <td>0.14100</td>\n      <td>0.21130</td>\n      <td>0.4107</td>\n      <td>0.2216</td>\n      <td>0.2060</td>\n      <td>0.07115</td>\n    </tr>\n    <tr>\n      <th>565</th>\n      <td>M</td>\n      <td>20.13</td>\n      <td>28.25</td>\n      <td>131.20</td>\n      <td>1261.0</td>\n      <td>0.09780</td>\n      <td>0.10340</td>\n      <td>0.14400</td>\n      <td>0.09791</td>\n      <td>0.1752</td>\n      <td>...</td>\n      <td>23.690</td>\n      <td>38.25</td>\n      <td>155.00</td>\n      <td>1731.0</td>\n      <td>0.11660</td>\n      <td>0.19220</td>\n      <td>0.3215</td>\n      <td>0.1628</td>\n      <td>0.2572</td>\n      <td>0.06637</td>\n    </tr>\n    <tr>\n      <th>566</th>\n      <td>M</td>\n      <td>16.60</td>\n      <td>28.08</td>\n      <td>108.30</td>\n      <td>858.1</td>\n      <td>0.08455</td>\n      <td>0.10230</td>\n      <td>0.09251</td>\n      <td>0.05302</td>\n      <td>0.1590</td>\n      <td>...</td>\n      <td>18.980</td>\n      <td>34.12</td>\n      <td>126.70</td>\n      <td>1124.0</td>\n      <td>0.11390</td>\n      <td>0.30940</td>\n      <td>0.3403</td>\n      <td>0.1418</td>\n      <td>0.2218</td>\n      <td>0.07820</td>\n    </tr>\n    <tr>\n      <th>567</th>\n      <td>M</td>\n      <td>20.60</td>\n      <td>29.33</td>\n      <td>140.10</td>\n      <td>1265.0</td>\n      <td>0.11780</td>\n      <td>0.27700</td>\n      <td>0.35140</td>\n      <td>0.15200</td>\n      <td>0.2397</td>\n      <td>...</td>\n      <td>25.740</td>\n      <td>39.42</td>\n      <td>184.60</td>\n      <td>1821.0</td>\n      <td>0.16500</td>\n      <td>0.86810</td>\n      <td>0.9387</td>\n      <td>0.2650</td>\n      <td>0.4087</td>\n      <td>0.12400</td>\n    </tr>\n    <tr>\n      <th>568</th>\n      <td>B</td>\n      <td>7.76</td>\n      <td>24.54</td>\n      <td>47.92</td>\n      <td>181.0</td>\n      <td>0.05263</td>\n      <td>0.04362</td>\n      <td>0.00000</td>\n      <td>0.00000</td>\n      <td>0.1587</td>\n      <td>...</td>\n      <td>9.456</td>\n      <td>30.37</td>\n      <td>59.16</td>\n      <td>268.6</td>\n      <td>0.08996</td>\n      <td>0.06444</td>\n      <td>0.0000</td>\n      <td>0.0000</td>\n      <td>0.2871</td>\n      <td>0.07039</td>\n    </tr>\n  </tbody>\n</table>\n<p>569 rows × 31 columns</p>\n</div>"
     },
     "execution_count": 3,
     "metadata": {},
     "output_type": "execute_result"
    }
   ]
  },
  {
   "cell_type": "markdown",
   "metadata": {
    "id": "PmPSMu9d_3Fi",
    "pycharm": {
     "name": "#%% md\n"
    }
   },
   "source": [
    "initial output of total M and B observations"
   ]
  },
  {
   "cell_type": "code",
   "metadata": {
    "colab": {
     "base_uri": "https://localhost:8080/"
    },
    "id": "3KcAZFi3yMpJ",
    "executionInfo": {
     "status": "ok",
     "timestamp": 1634926090926,
     "user_tz": 240,
     "elapsed": 267,
     "user": {
      "displayName": "Jack Mayr",
      "photoUrl": "https://lh3.googleusercontent.com/a/default-user=s64",
      "userId": "14391554172767483827"
     }
    },
    "outputId": "ee79c8a1-eef1-4154-88d8-73792e167132",
    "pycharm": {
     "name": "#%%\n"
    }
   },
   "source": [
    "tot_count = len(data_matrix)\n",
    "m_count = len(data_matrix[data_matrix['Class'] == 'M'])\n",
    "b_count = len(data_matrix[data_matrix['Class'] == 'B'])\n",
    "print('Total Observations: ', tot_count)\n",
    "print('Class M Observations: ', m_count)\n",
    "print('Class B Observations: ', b_count)"
   ],
   "execution_count": 4,
   "outputs": [
    {
     "name": "stdout",
     "output_type": "stream",
     "text": [
      "Total Observations:  569\n",
      "Class M Observations:  212\n",
      "Class B Observations:  357\n"
     ]
    }
   ]
  },
  {
   "cell_type": "code",
   "metadata": {
    "id": "8ZKumA9u5r4d",
    "executionInfo": {
     "status": "ok",
     "timestamp": 1634931545893,
     "user_tz": 240,
     "elapsed": 305,
     "user": {
      "displayName": "Jack Mayr",
      "photoUrl": "https://lh3.googleusercontent.com/a/default-user=s64",
      "userId": "14391554172767483827"
     }
    },
    "pycharm": {
     "name": "#%%\n"
    }
   },
   "source": [
    "def gini_and_entropy(data, col, avg):\n",
    "  below_avg = data[data[col] < avg]\n",
    "  num_M_below_avg = len(below_avg[below_avg['Class'] == 'M'])\n",
    "  num_B_below_avg = len(below_avg[below_avg['Class'] == 'B'])\n",
    "  total_below_count = num_M_below_avg + num_B_below_avg\n",
    "  \n",
    "  M_div_T = num_M_below_avg / total_below_count\n",
    "  B_div_T = num_B_below_avg / total_below_count\n",
    "  M_div_T2 = M_div_T**2\n",
    "  B_div_T2 = B_div_T**2\n",
    "  M_div_T_log = math.log2(M_div_T)\n",
    "  B_div_T_log = math.log2(B_div_T)\n",
    "\n",
    "  gini_calc = 1 - M_div_T2 - B_div_T2\n",
    "  entropy_calc = -1*(M_div_T*M_div_T_log) + -1*(B_div_T*B_div_T_log)\n",
    "  gini_calc = round(gini_calc, 4)\n",
    "  entropy_calc = round(entropy_calc, 4)\n",
    "  return gini_calc, entropy_calc"
   ],
   "execution_count": 5,
   "outputs": []
  },
  {
   "cell_type": "code",
   "metadata": {
    "colab": {
     "base_uri": "https://localhost:8080/",
     "height": 996
    },
    "id": "UXbe5uWxOPxn",
    "executionInfo": {
     "status": "ok",
     "timestamp": 1634931548146,
     "user_tz": 240,
     "elapsed": 345,
     "user": {
      "displayName": "Jack Mayr",
      "photoUrl": "https://lh3.googleusercontent.com/a/default-user=s64",
      "userId": "14391554172767483827"
     }
    },
    "outputId": "1882fa71-7276-4d88-8e4b-b7a1cd7a18e6",
    "pycharm": {
     "name": "#%%\n"
    }
   },
   "source": [
    "root_gini_entropy = pd.DataFrame(columns = ['feature', 'gini', 'entropy'])\n",
    "index = 0\n",
    "for (colname,colval) in data_matrix.iteritems():\n",
    "  try: \n",
    "    g, e = gini_and_entropy(data_matrix, colname, colval.values.mean())\n",
    "    root_gini_entropy.loc[index] = [colname, g, e]\n",
    "    index += 1\n",
    "  except:\n",
    "    print('it dont work')\n",
    "root_gini_entropy"
   ],
   "execution_count": 6,
   "outputs": [
    {
     "name": "stdout",
     "output_type": "stream",
     "text": [
      "it dont work\n"
     ]
    },
    {
     "name": "stderr",
     "output_type": "stream",
     "text": [
      "/var/folders/78/6y5fpy1j5hlbymrj4fxqkkz40000gn/T/ipykernel_69188/1765884607.py:3: FutureWarning: iteritems is deprecated and will be removed in a future version. Use .items instead.\n",
      "  for (colname,colval) in data_matrix.iteritems():\n"
     ]
    },
    {
     "data": {
      "text/plain": "   feature    gini  entropy\n0      F00  0.1692   0.4474\n1      F01  0.2821   0.6576\n2      F02  0.1596   0.4279\n3      F03  0.1994   0.5069\n4      F04  0.3562   0.7812\n5      F05  0.2335   0.5709\n6      F06  0.1484   0.4046\n7      F07  0.0994   0.2968\n8      F08  0.3807   0.8202\n9      F09  0.4688   0.9544\n10     F10  0.2730   0.6417\n11     F11  0.4733   0.9611\n12     F12  0.2694   0.6353\n13     F13  0.2588   0.6166\n14     F14  0.4820   0.9739\n15     F15  0.3685   0.8010\n16     F16  0.3546   0.7786\n17     F17  0.2993   0.6871\n18     F18  0.4798   0.9706\n19     F19  0.4259   0.8902\n20     F20  0.1313   0.3682\n21     F21  0.2858   0.6640\n22     F22  0.1122   0.3261\n23     F23  0.1737   0.4565\n24     F24  0.3257   0.7314\n25     F25  0.2700   0.6365\n26     F26  0.1693   0.4476\n27     F27  0.0928   0.2812\n28     F28  0.3573   0.7831\n29     F29  0.3882   0.8321",
      "text/html": "<div>\n<style scoped>\n    .dataframe tbody tr th:only-of-type {\n        vertical-align: middle;\n    }\n\n    .dataframe tbody tr th {\n        vertical-align: top;\n    }\n\n    .dataframe thead th {\n        text-align: right;\n    }\n</style>\n<table border=\"1\" class=\"dataframe\">\n  <thead>\n    <tr style=\"text-align: right;\">\n      <th></th>\n      <th>feature</th>\n      <th>gini</th>\n      <th>entropy</th>\n    </tr>\n  </thead>\n  <tbody>\n    <tr>\n      <th>0</th>\n      <td>F00</td>\n      <td>0.1692</td>\n      <td>0.4474</td>\n    </tr>\n    <tr>\n      <th>1</th>\n      <td>F01</td>\n      <td>0.2821</td>\n      <td>0.6576</td>\n    </tr>\n    <tr>\n      <th>2</th>\n      <td>F02</td>\n      <td>0.1596</td>\n      <td>0.4279</td>\n    </tr>\n    <tr>\n      <th>3</th>\n      <td>F03</td>\n      <td>0.1994</td>\n      <td>0.5069</td>\n    </tr>\n    <tr>\n      <th>4</th>\n      <td>F04</td>\n      <td>0.3562</td>\n      <td>0.7812</td>\n    </tr>\n    <tr>\n      <th>5</th>\n      <td>F05</td>\n      <td>0.2335</td>\n      <td>0.5709</td>\n    </tr>\n    <tr>\n      <th>6</th>\n      <td>F06</td>\n      <td>0.1484</td>\n      <td>0.4046</td>\n    </tr>\n    <tr>\n      <th>7</th>\n      <td>F07</td>\n      <td>0.0994</td>\n      <td>0.2968</td>\n    </tr>\n    <tr>\n      <th>8</th>\n      <td>F08</td>\n      <td>0.3807</td>\n      <td>0.8202</td>\n    </tr>\n    <tr>\n      <th>9</th>\n      <td>F09</td>\n      <td>0.4688</td>\n      <td>0.9544</td>\n    </tr>\n    <tr>\n      <th>10</th>\n      <td>F10</td>\n      <td>0.2730</td>\n      <td>0.6417</td>\n    </tr>\n    <tr>\n      <th>11</th>\n      <td>F11</td>\n      <td>0.4733</td>\n      <td>0.9611</td>\n    </tr>\n    <tr>\n      <th>12</th>\n      <td>F12</td>\n      <td>0.2694</td>\n      <td>0.6353</td>\n    </tr>\n    <tr>\n      <th>13</th>\n      <td>F13</td>\n      <td>0.2588</td>\n      <td>0.6166</td>\n    </tr>\n    <tr>\n      <th>14</th>\n      <td>F14</td>\n      <td>0.4820</td>\n      <td>0.9739</td>\n    </tr>\n    <tr>\n      <th>15</th>\n      <td>F15</td>\n      <td>0.3685</td>\n      <td>0.8010</td>\n    </tr>\n    <tr>\n      <th>16</th>\n      <td>F16</td>\n      <td>0.3546</td>\n      <td>0.7786</td>\n    </tr>\n    <tr>\n      <th>17</th>\n      <td>F17</td>\n      <td>0.2993</td>\n      <td>0.6871</td>\n    </tr>\n    <tr>\n      <th>18</th>\n      <td>F18</td>\n      <td>0.4798</td>\n      <td>0.9706</td>\n    </tr>\n    <tr>\n      <th>19</th>\n      <td>F19</td>\n      <td>0.4259</td>\n      <td>0.8902</td>\n    </tr>\n    <tr>\n      <th>20</th>\n      <td>F20</td>\n      <td>0.1313</td>\n      <td>0.3682</td>\n    </tr>\n    <tr>\n      <th>21</th>\n      <td>F21</td>\n      <td>0.2858</td>\n      <td>0.6640</td>\n    </tr>\n    <tr>\n      <th>22</th>\n      <td>F22</td>\n      <td>0.1122</td>\n      <td>0.3261</td>\n    </tr>\n    <tr>\n      <th>23</th>\n      <td>F23</td>\n      <td>0.1737</td>\n      <td>0.4565</td>\n    </tr>\n    <tr>\n      <th>24</th>\n      <td>F24</td>\n      <td>0.3257</td>\n      <td>0.7314</td>\n    </tr>\n    <tr>\n      <th>25</th>\n      <td>F25</td>\n      <td>0.2700</td>\n      <td>0.6365</td>\n    </tr>\n    <tr>\n      <th>26</th>\n      <td>F26</td>\n      <td>0.1693</td>\n      <td>0.4476</td>\n    </tr>\n    <tr>\n      <th>27</th>\n      <td>F27</td>\n      <td>0.0928</td>\n      <td>0.2812</td>\n    </tr>\n    <tr>\n      <th>28</th>\n      <td>F28</td>\n      <td>0.3573</td>\n      <td>0.7831</td>\n    </tr>\n    <tr>\n      <th>29</th>\n      <td>F29</td>\n      <td>0.3882</td>\n      <td>0.8321</td>\n    </tr>\n  </tbody>\n</table>\n</div>"
     },
     "execution_count": 6,
     "metadata": {},
     "output_type": "execute_result"
    }
   ]
  },
  {
   "cell_type": "code",
   "metadata": {
    "id": "w-f8dzk-UkJF",
    "executionInfo": {
     "status": "ok",
     "timestamp": 1634931561867,
     "user_tz": 240,
     "elapsed": 157,
     "user": {
      "displayName": "Jack Mayr",
      "photoUrl": "https://lh3.googleusercontent.com/a/default-user=s64",
      "userId": "14391554172767483827"
     }
    },
    "pycharm": {
     "name": "#%%\n"
    }
   },
   "source": [
    "max_entropy = root_gini_entropy.loc[root_gini_entropy['entropy'].idxmax()]\n",
    "sp_above = data_matrix[data_matrix[max_entropy['feature']] < data_matrix[max_entropy['feature']].mean()]\n",
    "sp_below = data_matrix[data_matrix[max_entropy['feature']] > data_matrix[max_entropy['feature']].mean()]\n",
    "sp_above = sp_above\n",
    "sp_below = sp_below"
   ],
   "execution_count": 7,
   "outputs": []
  },
  {
   "cell_type": "code",
   "metadata": {
    "colab": {
     "base_uri": "https://localhost:8080/"
    },
    "id": "t-psL1omaa-O",
    "executionInfo": {
     "status": "ok",
     "timestamp": 1634939086028,
     "user_tz": 240,
     "elapsed": 154,
     "user": {
      "displayName": "Jack Mayr",
      "photoUrl": "https://lh3.googleusercontent.com/a/default-user=s64",
      "userId": "14391554172767483827"
     }
    },
    "outputId": "70162b2f-e2fe-4988-bad1-c4d6c0b9dc90",
    "pycharm": {
     "name": "#%%\n"
    }
   },
   "source": [
    "sp_above\n",
    "sp_below\n",
    "above_count = len(sp_above)\n",
    "below_count = len(sp_above)\n",
    "\n",
    "m_above_count = len(sp_above[sp_above['Class'] == 'M'])\n",
    "b_above_count = len(sp_above[sp_above['Class'] == 'B'])\n",
    "m_below_count = len(sp_below[sp_below['Class'] == 'M'])\n",
    "b_below_count = len(sp_below[sp_below['Class'] == 'B'])\n",
    "above_total = m_above_count + b_above_count\n",
    "below_total = m_below_count + b_below_count\n",
    "\n",
    "M_bel_div_T = m_below_count / below_total\n",
    "B_bel_div_T = b_below_count / below_total\n",
    "M_bel_div_T2 = M_bel_div_T**2\n",
    "B_bel_div_T2 = B_bel_div_T**2\n",
    "M_bel_div_T_log = math.log2(M_bel_div_T)\n",
    "B_bel_div_T_log = math.log2(B_bel_div_T)\n",
    "\n",
    "bel_gini_calc = 1 - M_bel_div_T2 - B_bel_div_T2\n",
    "bel_entropy_calc = -1*(M_bel_div_T*M_bel_div_T_log) + -1*(B_bel_div_T*B_bel_div_T_log)\n",
    "bel_gini_calc = round(bel_gini_calc, 4)\n",
    "bel_entropy_calc = round(bel_entropy_calc, 4)\n",
    "\n",
    "\n",
    "M_abv_div_T = m_above_count / above_total\n",
    "B_abv_div_T = b_above_count / above_total\n",
    "M_abv_div_T2 = M_abv_div_T**2\n",
    "B_abv_div_T2 = B_abv_div_T**2\n",
    "M_abv_div_T_log = math.log2(M_abv_div_T)\n",
    "B_abv_div_T_log = math.log2(B_abv_div_T)\n",
    "\n",
    "abv_gini_calc = 1 - M_abv_div_T2 - B_abv_div_T2\n",
    "abv_entropy_calc = -1*((M_abv_div_T*M_abv_div_T_log) + (B_abv_div_T*B_abv_div_T_log))\n",
    "abv_gini_calc = round(abv_gini_calc, 4)\n",
    "abv_entropy_calc = round(abv_entropy_calc, 4)\n",
    "print(M_bel_div_T)\n",
    "print(B_bel_div_T)\n",
    "\n",
    "print(M_abv_div_T)\n",
    "print(B_abv_div_T)\n",
    "print('Below Node gini: ', bel_gini_calc, ' | entropy: ', bel_entropy_calc)\n",
    "print('Above Node gini: ', abv_gini_calc, ' | entropy: ', abv_entropy_calc)\n",
    "\n",
    "print('Total Observations: ', tot_count)\n",
    "print('Class M Observations: ', m_count)\n",
    "print('Class B Observations: ', b_count)"
   ],
   "execution_count": 8,
   "outputs": [
    {
     "name": "stdout",
     "output_type": "stream",
     "text": [
      "0.3212669683257919\n",
      "0.6787330316742082\n",
      "0.4051724137931034\n",
      "0.5948275862068966\n",
      "Below Node gini:  0.4361  | entropy:  0.9058\n",
      "Above Node gini:  0.482  | entropy:  0.9739\n",
      "Total Observations:  569\n",
      "Class M Observations:  212\n",
      "Class B Observations:  357\n"
     ]
    }
   ]
  },
  {
   "cell_type": "code",
   "metadata": {
    "colab": {
     "base_uri": "https://localhost:8080/",
     "height": 1000
    },
    "id": "IaBxxs1FYx-T",
    "executionInfo": {
     "status": "ok",
     "timestamp": 1634931750909,
     "user_tz": 240,
     "elapsed": 370,
     "user": {
      "displayName": "Jack Mayr",
      "photoUrl": "https://lh3.googleusercontent.com/a/default-user=s64",
      "userId": "14391554172767483827"
     }
    },
    "outputId": "c3aee149-a4d4-4ca8-a76e-93a0f4a449e3",
    "pycharm": {
     "name": "#%%\n"
    }
   },
   "source": [
    "ch1_gini_entropy = pd.DataFrame(columns = ['feature', 'gini', 'entropy'])\n",
    "\n",
    "id = 0\n",
    "for (colname,colval) in sp_above.iteritems():\n",
    "  \n",
    "  try: \n",
    "    print(colname, colval.values.mean())\n",
    "    g1, e1 = gini_and_entropy(sp_above, colname, colval.values.mean())\n",
    "    print(g1, e1)\n",
    "    ch1_gini_entropy.loc[id] = [colname, g1, e1]\n",
    "    id += 1\n",
    "  except:\n",
    "    print('it dont work')\n",
    "ch1_gini_entropy\n",
    "\n"
   ],
   "execution_count": 9,
   "outputs": [
    {
     "name": "stdout",
     "output_type": "stream",
     "text": [
      "it dont work\n",
      "F00 14.806155172413792\n",
      "0.2196 0.5452\n",
      "F01 19.196063218390805\n",
      "0.3225 0.7261\n",
      "F02 96.33135057471266\n",
      "0.2047 0.517\n",
      "F03 709.8287356321839\n",
      "0.2387 0.5804\n",
      "F04 0.09350675287356323\n",
      "0.3358 0.7481\n",
      "F05 0.10094129310344827\n",
      "0.247 0.5955\n",
      "F06 0.08576867155172413\n",
      "0.1926 0.4938\n",
      "F07 0.04954365229885058\n",
      "0.1426 0.3926\n",
      "F08 0.17723649425287355\n",
      "0.3653 0.7958\n",
      "F09 0.06085126436781609\n",
      "0.4688 0.9544\n",
      "F10 0.382132183908046\n",
      "0.2846 0.6618\n",
      "F11 1.0639577586206896\n",
      "0.4705 0.9571\n",
      "F12 2.708359195402299\n",
      "0.2965 0.6823\n",
      "F13 39.332830459770115\n",
      "0.2778 0.65\n",
      "F14 0.005305442528735632\n",
      "0.468 0.9533\n",
      "F15 0.022227344827586207\n",
      "0.392 0.838\n",
      "F16 0.027165116666666666\n",
      "0.3638 0.7934\n",
      "F17 0.010514574712643679\n",
      "0.3213 0.724\n",
      "F18 0.018149045977011495\n",
      "0.4888 0.9837\n",
      "F19 0.0031273485632183906\n",
      "0.4255 0.8897\n",
      "F20 17.21084195402299\n",
      "0.1713 0.4516\n",
      "F21 25.86385057471264\n",
      "0.2969 0.683\n",
      "F22 113.58882183908047\n",
      "0.1591 0.4269\n",
      "F23 973.439367816092\n",
      "0.2171 0.5406\n",
      "F24 0.12730706896551724\n",
      "0.3386 0.7526\n",
      "F25 0.26155281609195397\n",
      "0.2914 0.6735\n",
      "F26 0.28200421551724136\n",
      "0.213 0.5328\n",
      "F27 0.12015120977011497\n",
      "0.1407 0.3884\n",
      "F28 0.29326580459770113\n",
      "0.3763 0.8133\n",
      "F29 0.08251471264367816\n",
      "0.392 0.838\n"
     ]
    },
    {
     "name": "stderr",
     "output_type": "stream",
     "text": [
      "/var/folders/78/6y5fpy1j5hlbymrj4fxqkkz40000gn/T/ipykernel_69188/2978105223.py:4: FutureWarning: iteritems is deprecated and will be removed in a future version. Use .items instead.\n",
      "  for (colname,colval) in sp_above.iteritems():\n"
     ]
    },
    {
     "data": {
      "text/plain": "   feature    gini  entropy\n0      F00  0.2196   0.5452\n1      F01  0.3225   0.7261\n2      F02  0.2047   0.5170\n3      F03  0.2387   0.5804\n4      F04  0.3358   0.7481\n5      F05  0.2470   0.5955\n6      F06  0.1926   0.4938\n7      F07  0.1426   0.3926\n8      F08  0.3653   0.7958\n9      F09  0.4688   0.9544\n10     F10  0.2846   0.6618\n11     F11  0.4705   0.9571\n12     F12  0.2965   0.6823\n13     F13  0.2778   0.6500\n14     F14  0.4680   0.9533\n15     F15  0.3920   0.8380\n16     F16  0.3638   0.7934\n17     F17  0.3213   0.7240\n18     F18  0.4888   0.9837\n19     F19  0.4255   0.8897\n20     F20  0.1713   0.4516\n21     F21  0.2969   0.6830\n22     F22  0.1591   0.4269\n23     F23  0.2171   0.5406\n24     F24  0.3386   0.7526\n25     F25  0.2914   0.6735\n26     F26  0.2130   0.5328\n27     F27  0.1407   0.3884\n28     F28  0.3763   0.8133\n29     F29  0.3920   0.8380",
      "text/html": "<div>\n<style scoped>\n    .dataframe tbody tr th:only-of-type {\n        vertical-align: middle;\n    }\n\n    .dataframe tbody tr th {\n        vertical-align: top;\n    }\n\n    .dataframe thead th {\n        text-align: right;\n    }\n</style>\n<table border=\"1\" class=\"dataframe\">\n  <thead>\n    <tr style=\"text-align: right;\">\n      <th></th>\n      <th>feature</th>\n      <th>gini</th>\n      <th>entropy</th>\n    </tr>\n  </thead>\n  <tbody>\n    <tr>\n      <th>0</th>\n      <td>F00</td>\n      <td>0.2196</td>\n      <td>0.5452</td>\n    </tr>\n    <tr>\n      <th>1</th>\n      <td>F01</td>\n      <td>0.3225</td>\n      <td>0.7261</td>\n    </tr>\n    <tr>\n      <th>2</th>\n      <td>F02</td>\n      <td>0.2047</td>\n      <td>0.5170</td>\n    </tr>\n    <tr>\n      <th>3</th>\n      <td>F03</td>\n      <td>0.2387</td>\n      <td>0.5804</td>\n    </tr>\n    <tr>\n      <th>4</th>\n      <td>F04</td>\n      <td>0.3358</td>\n      <td>0.7481</td>\n    </tr>\n    <tr>\n      <th>5</th>\n      <td>F05</td>\n      <td>0.2470</td>\n      <td>0.5955</td>\n    </tr>\n    <tr>\n      <th>6</th>\n      <td>F06</td>\n      <td>0.1926</td>\n      <td>0.4938</td>\n    </tr>\n    <tr>\n      <th>7</th>\n      <td>F07</td>\n      <td>0.1426</td>\n      <td>0.3926</td>\n    </tr>\n    <tr>\n      <th>8</th>\n      <td>F08</td>\n      <td>0.3653</td>\n      <td>0.7958</td>\n    </tr>\n    <tr>\n      <th>9</th>\n      <td>F09</td>\n      <td>0.4688</td>\n      <td>0.9544</td>\n    </tr>\n    <tr>\n      <th>10</th>\n      <td>F10</td>\n      <td>0.2846</td>\n      <td>0.6618</td>\n    </tr>\n    <tr>\n      <th>11</th>\n      <td>F11</td>\n      <td>0.4705</td>\n      <td>0.9571</td>\n    </tr>\n    <tr>\n      <th>12</th>\n      <td>F12</td>\n      <td>0.2965</td>\n      <td>0.6823</td>\n    </tr>\n    <tr>\n      <th>13</th>\n      <td>F13</td>\n      <td>0.2778</td>\n      <td>0.6500</td>\n    </tr>\n    <tr>\n      <th>14</th>\n      <td>F14</td>\n      <td>0.4680</td>\n      <td>0.9533</td>\n    </tr>\n    <tr>\n      <th>15</th>\n      <td>F15</td>\n      <td>0.3920</td>\n      <td>0.8380</td>\n    </tr>\n    <tr>\n      <th>16</th>\n      <td>F16</td>\n      <td>0.3638</td>\n      <td>0.7934</td>\n    </tr>\n    <tr>\n      <th>17</th>\n      <td>F17</td>\n      <td>0.3213</td>\n      <td>0.7240</td>\n    </tr>\n    <tr>\n      <th>18</th>\n      <td>F18</td>\n      <td>0.4888</td>\n      <td>0.9837</td>\n    </tr>\n    <tr>\n      <th>19</th>\n      <td>F19</td>\n      <td>0.4255</td>\n      <td>0.8897</td>\n    </tr>\n    <tr>\n      <th>20</th>\n      <td>F20</td>\n      <td>0.1713</td>\n      <td>0.4516</td>\n    </tr>\n    <tr>\n      <th>21</th>\n      <td>F21</td>\n      <td>0.2969</td>\n      <td>0.6830</td>\n    </tr>\n    <tr>\n      <th>22</th>\n      <td>F22</td>\n      <td>0.1591</td>\n      <td>0.4269</td>\n    </tr>\n    <tr>\n      <th>23</th>\n      <td>F23</td>\n      <td>0.2171</td>\n      <td>0.5406</td>\n    </tr>\n    <tr>\n      <th>24</th>\n      <td>F24</td>\n      <td>0.3386</td>\n      <td>0.7526</td>\n    </tr>\n    <tr>\n      <th>25</th>\n      <td>F25</td>\n      <td>0.2914</td>\n      <td>0.6735</td>\n    </tr>\n    <tr>\n      <th>26</th>\n      <td>F26</td>\n      <td>0.2130</td>\n      <td>0.5328</td>\n    </tr>\n    <tr>\n      <th>27</th>\n      <td>F27</td>\n      <td>0.1407</td>\n      <td>0.3884</td>\n    </tr>\n    <tr>\n      <th>28</th>\n      <td>F28</td>\n      <td>0.3763</td>\n      <td>0.8133</td>\n    </tr>\n    <tr>\n      <th>29</th>\n      <td>F29</td>\n      <td>0.3920</td>\n      <td>0.8380</td>\n    </tr>\n  </tbody>\n</table>\n</div>"
     },
     "execution_count": 9,
     "metadata": {},
     "output_type": "execute_result"
    }
   ]
  },
  {
   "cell_type": "code",
   "execution_count": 11,
   "outputs": [
    {
     "name": "stdout",
     "output_type": "stream",
     "text": [
      "\n",
      "it dont work\n",
      "\n",
      "\n",
      "\n",
      "\n",
      "\n",
      "\n",
      "\n",
      "\n",
      "\n",
      "\n",
      "\n",
      "\n",
      "\n",
      "\n",
      "\n",
      "\n",
      "\n",
      "\n",
      "\n",
      "\n",
      "\n",
      "\n",
      "\n",
      "\n",
      "\n",
      "\n",
      "\n",
      "\n",
      "\n",
      "\n"
     ]
    },
    {
     "name": "stderr",
     "output_type": "stream",
     "text": [
      "/var/folders/78/6y5fpy1j5hlbymrj4fxqkkz40000gn/T/ipykernel_69188/1863067303.py:4: FutureWarning: iteritems is deprecated and will be removed in a future version. Use .items instead.\n",
      "  for (colname,colval) in sp_below.iteritems():\n"
     ]
    },
    {
     "data": {
      "text/plain": "   feature    gini  entropy\n0      F00  0.1063   0.3127\n1      F01  0.1990   0.5061\n2      F02  0.1056   0.3111\n3      F03  0.1142   0.3307\n4      F04  0.2834   0.6599\n5      F05  0.1605   0.4298\n6      F06  0.0588   0.1959\n7      F07  0.0294   0.1119\n8      F08  0.3706   0.8043\n9      F09  0.4256   0.8898\n10     F10  0.2395   0.5818\n11     F11  0.4426   0.9156\n12     F12  0.2422   0.5867\n13     F13  0.2323   0.5687\n14     F14  0.4628   0.9457\n15     F15  0.3070   0.7002\n16     F16  0.2659   0.6292\n17     F17  0.1665   0.4420\n18     F18  0.4554   0.9347\n19     F19  0.3885   0.8326\n20     F20  0.0416   0.1485\n21     F21  0.2873   0.6666\n22     F22  0.0422   0.1502\n23     F23  0.0657   0.2141\n24     F24  0.2985   0.6858\n25     F25  0.2550   0.6098\n26     F26  0.0868   0.2668\n27     F27  0.0308   0.1161\n28     F28  0.3529   0.7759\n29     F29  0.3617   0.7901",
      "text/html": "<div>\n<style scoped>\n    .dataframe tbody tr th:only-of-type {\n        vertical-align: middle;\n    }\n\n    .dataframe tbody tr th {\n        vertical-align: top;\n    }\n\n    .dataframe thead th {\n        text-align: right;\n    }\n</style>\n<table border=\"1\" class=\"dataframe\">\n  <thead>\n    <tr style=\"text-align: right;\">\n      <th></th>\n      <th>feature</th>\n      <th>gini</th>\n      <th>entropy</th>\n    </tr>\n  </thead>\n  <tbody>\n    <tr>\n      <th>0</th>\n      <td>F00</td>\n      <td>0.1063</td>\n      <td>0.3127</td>\n    </tr>\n    <tr>\n      <th>1</th>\n      <td>F01</td>\n      <td>0.1990</td>\n      <td>0.5061</td>\n    </tr>\n    <tr>\n      <th>2</th>\n      <td>F02</td>\n      <td>0.1056</td>\n      <td>0.3111</td>\n    </tr>\n    <tr>\n      <th>3</th>\n      <td>F03</td>\n      <td>0.1142</td>\n      <td>0.3307</td>\n    </tr>\n    <tr>\n      <th>4</th>\n      <td>F04</td>\n      <td>0.2834</td>\n      <td>0.6599</td>\n    </tr>\n    <tr>\n      <th>5</th>\n      <td>F05</td>\n      <td>0.1605</td>\n      <td>0.4298</td>\n    </tr>\n    <tr>\n      <th>6</th>\n      <td>F06</td>\n      <td>0.0588</td>\n      <td>0.1959</td>\n    </tr>\n    <tr>\n      <th>7</th>\n      <td>F07</td>\n      <td>0.0294</td>\n      <td>0.1119</td>\n    </tr>\n    <tr>\n      <th>8</th>\n      <td>F08</td>\n      <td>0.3706</td>\n      <td>0.8043</td>\n    </tr>\n    <tr>\n      <th>9</th>\n      <td>F09</td>\n      <td>0.4256</td>\n      <td>0.8898</td>\n    </tr>\n    <tr>\n      <th>10</th>\n      <td>F10</td>\n      <td>0.2395</td>\n      <td>0.5818</td>\n    </tr>\n    <tr>\n      <th>11</th>\n      <td>F11</td>\n      <td>0.4426</td>\n      <td>0.9156</td>\n    </tr>\n    <tr>\n      <th>12</th>\n      <td>F12</td>\n      <td>0.2422</td>\n      <td>0.5867</td>\n    </tr>\n    <tr>\n      <th>13</th>\n      <td>F13</td>\n      <td>0.2323</td>\n      <td>0.5687</td>\n    </tr>\n    <tr>\n      <th>14</th>\n      <td>F14</td>\n      <td>0.4628</td>\n      <td>0.9457</td>\n    </tr>\n    <tr>\n      <th>15</th>\n      <td>F15</td>\n      <td>0.3070</td>\n      <td>0.7002</td>\n    </tr>\n    <tr>\n      <th>16</th>\n      <td>F16</td>\n      <td>0.2659</td>\n      <td>0.6292</td>\n    </tr>\n    <tr>\n      <th>17</th>\n      <td>F17</td>\n      <td>0.1665</td>\n      <td>0.4420</td>\n    </tr>\n    <tr>\n      <th>18</th>\n      <td>F18</td>\n      <td>0.4554</td>\n      <td>0.9347</td>\n    </tr>\n    <tr>\n      <th>19</th>\n      <td>F19</td>\n      <td>0.3885</td>\n      <td>0.8326</td>\n    </tr>\n    <tr>\n      <th>20</th>\n      <td>F20</td>\n      <td>0.0416</td>\n      <td>0.1485</td>\n    </tr>\n    <tr>\n      <th>21</th>\n      <td>F21</td>\n      <td>0.2873</td>\n      <td>0.6666</td>\n    </tr>\n    <tr>\n      <th>22</th>\n      <td>F22</td>\n      <td>0.0422</td>\n      <td>0.1502</td>\n    </tr>\n    <tr>\n      <th>23</th>\n      <td>F23</td>\n      <td>0.0657</td>\n      <td>0.2141</td>\n    </tr>\n    <tr>\n      <th>24</th>\n      <td>F24</td>\n      <td>0.2985</td>\n      <td>0.6858</td>\n    </tr>\n    <tr>\n      <th>25</th>\n      <td>F25</td>\n      <td>0.2550</td>\n      <td>0.6098</td>\n    </tr>\n    <tr>\n      <th>26</th>\n      <td>F26</td>\n      <td>0.0868</td>\n      <td>0.2668</td>\n    </tr>\n    <tr>\n      <th>27</th>\n      <td>F27</td>\n      <td>0.0308</td>\n      <td>0.1161</td>\n    </tr>\n    <tr>\n      <th>28</th>\n      <td>F28</td>\n      <td>0.3529</td>\n      <td>0.7759</td>\n    </tr>\n    <tr>\n      <th>29</th>\n      <td>F29</td>\n      <td>0.3617</td>\n      <td>0.7901</td>\n    </tr>\n  </tbody>\n</table>\n</div>"
     },
     "execution_count": 11,
     "metadata": {},
     "output_type": "execute_result"
    }
   ],
   "source": [
    "ch2_gini_entropy = pd.DataFrame(columns = ['feature', 'gini', 'entropy'])\n",
    "\n",
    "id = 0\n",
    "for (colname,colval) in sp_below.iteritems():\n",
    "  try: \n",
    "    print()\n",
    "    g2, e2 = gini_and_entropy(sp_below, colname, colval.values.mean())\n",
    "    ch2_gini_entropy.loc[id] = [colname, g2, e2]\n",
    "    id += 1\n",
    "  except:\n",
    "    print('it dont work')\n",
    "ch2_gini_entropy"
   ],
   "metadata": {
    "collapsed": false,
    "pycharm": {
     "name": "#%%\n"
    }
   }
  },
  {
   "cell_type": "code",
   "execution_count": null,
   "outputs": [],
   "source": [],
   "metadata": {
    "collapsed": false,
    "pycharm": {
     "name": "#%%\n"
    }
   }
  }
 ]
}