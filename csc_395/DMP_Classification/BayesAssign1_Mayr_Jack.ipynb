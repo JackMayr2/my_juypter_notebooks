{
 "nbformat": 4,
 "nbformat_minor": 0,
 "metadata": {
  "colab": {
   "name": "BayesAssign1_Mayr_Jack.ipynb",
   "provenance": [
    {
     "file_id": "1M95TddP1ounvo4lrn8FKkhnecz02VVMj",
     "timestamp": 1632323789971
    }
   ]
  },
  "kernelspec": {
   "name": "python3",
   "display_name": "Python 3"
  },
  "language_info": {
   "name": "python"
  }
 },
 "cells": [
  {
   "cell_type": "markdown",
   "metadata": {
    "id": "wwuV5csnWk4b",
    "pycharm": {
     "name": "#%% md\n"
    }
   },
   "source": [
    "For this program, you will be coding some of the ideas around Bayes classification.\n",
    "\n",
    "**For most of this coding assignment, you may not use packages or \"canned\" code in your program other than simple function calls to needed math functions or file I/O. I.e., do not use a Bayes classifier that you did not write. However, for making histograms, plotting, or visualization, you may use other software. You may want to make this part of your package use.**\n",
    "\n",
    "The input file is a csv file named *BayesAssign1_??.dat* and is located in the Data folder on Google. Note: ?? is a number. Look in the folder for possibly more than 1 data file. They were built with different parameters.\n",
    "\n",
    "Each  line is an observation that has the class indicator, \"NEG\" or \"POS\", followed by numeric values for one feature. NEG indicates the absence of a disease or other characteristic. POS indicates the presence.\n",
    "\n",
    "The values for each class come from Gaussian distributions. \n",
    "\n",
    "Split the data into train and test sets. Determine the statistics for each distribution (mean and variance), NEG and POS, from the training data. Using this information, classify the data in the test set.\n",
    "\n",
    "Print to the console the following values:\n",
    "* estimated mean and standard deviation for each class.\n",
    "* estimated prior probability of each class\n",
    "* percentage of the data used for training\n",
    "* prevalence\n",
    "* accuracy\n",
    "* sensitivity\n",
    "* specificity\n",
    "* precision (positive predicitive value)\n",
    "* a confusion matrix (does not have to be in matrix form - just label the numbers)\n",
    "\n",
    "You may want to output your classified test data. If so, perhaps on each line would be: actual class, predicted class, value.\n",
    "\n",
    "You could read this data into other programs for analysis, ...\n",
    "\n",
    "**Other ideas**\n",
    "\n",
    "* Make plots, on the same graph, of two Gaussians using the mean and variance you calculated.\n",
    "* Plot histograms of the original data.\n",
    "* How do your estimated parameters and performance vary with training fraction?\n",
    "* Discuss how this might work if one or both of the distributions were uniform in the interval [a, b] instead of both Gaussian.\n",
    "* Discuss how this might work for more than one class.\n",
    "* Discuss how this might work for multi-dimensional (more than one feature) observations. E.g., 2-D Gaussians.\n",
    "\n",
    "\n",
    "\n",
    "\n"
   ]
  },
  {
   "cell_type": "code",
   "metadata": {
    "id": "lncsyL5QWiOX",
    "pycharm": {
     "name": "#%%\n"
    }
   },
   "source": [
    "'''\n",
    "Functions and imports for Bayes Assignment #1\n",
    "'''\n",
    "import math\n",
    "import random\n",
    "import matplotlib.pyplot as plt\n",
    "import numpy as np\n",
    "from matplotlib import colors\n",
    "from matplotlib.ticker import PercentFormatter\n",
    "\n",
    "#Return the Gaussian probability density function for x given mean = m and sigma = s\n",
    "def gauss_val(x, m, s):\n",
    "  val = math.exp(-math.pow((x-m)/s,2)/2.0)/(s*math.sqrt(math.pi*2))\n",
    "  return(val)\n",
    "\n",
    "#Generate Gaussian values for each class\n",
    "#  Add uniform noise\n",
    "def gen_gauss_list(stats, cl_names, num, noise_fact):\n",
    "  g_vals = []\n",
    "  for i in range(num):\n",
    "    c = random.random()\n",
    "    #Is the sample from class 0 or from class 1?\n",
    "    if (c < stats[2]):\n",
    "      new_val = random.gauss(stats[0], stats[1])\n",
    "      noise_val = random.uniform(-noise_fact*stats[1], noise_fact*stats[1])\n",
    "      new_val += noise_val\n",
    "      g_vals.append([cl_names[0], new_val])\n",
    "    else:\n",
    "      new_val = random.gauss(stats[3], stats[4])\n",
    "      noise_val = random.uniform(-noise_fact*stats[4], noise_fact*stats[4])\n",
    "      new_val += noise_val      \n",
    "      g_vals.append([cl_names[1], new_val])\n",
    "  return(g_vals)"
   ],
   "execution_count": 1,
   "outputs": []
  },
  {
   "cell_type": "code",
   "metadata": {
    "id": "Nac7BozcYYhi",
    "colab": {
     "base_uri": "https://localhost:8080/"
    },
    "executionInfo": {
     "status": "ok",
     "timestamp": 1633643837272,
     "user_tz": 240,
     "elapsed": 153,
     "user": {
      "displayName": "Jack Mayr",
      "photoUrl": "https://lh3.googleusercontent.com/a/default-user=s64",
      "userId": "14391554172767483827"
     }
    },
    "outputId": "99215cfb-e914-45f5-8366-78ac1d886766",
    "pycharm": {
     "name": "#%%\n"
    }
   },
   "source": [
    "'''\n",
    "Generate data for Bayes Assignment #1. Assume 2 Gaussians for now\n",
    "\n",
    "Students do not need this code, and it is only here in case of interest\n",
    "  of if they want to make their own data to check their code.\n",
    "  If so, change the output file name below.\n",
    "Note: parameters given below are not those used for data provided.\n",
    "\n",
    "'''\n",
    "\n",
    "if __name__ == \"__main__\":\n",
    "\n",
    "  #Class conditional parameters for two Gaussians.\n",
    "  MEAN_0 = 0.0\n",
    "  SIG_0  = 1.0\n",
    "  PROB_0 = 0.5\n",
    "  MEAN_1 = 1.0\n",
    "  SIG_1  = 2.0\n",
    "  PROB_1 = 1 - PROB_0\n",
    "\n",
    "  STATS = [MEAN_0, SIG_0, PROB_0, MEAN_1, SIG_1, PROB_1]\n",
    "  CLASS_NAMES = [\"NEG\", \"POS\"]\n",
    "\n",
    "  SEED = 977894657\n",
    "  random.seed(SEED)\n",
    "\n",
    "  #Noise can be added as a fraction of the sigma for each class.\n",
    "  NOISE_FACT = 0.0\n",
    "\n",
    "  NUM_VALUES = 10000\n",
    "\n",
    "  #Print parameters\n",
    "  print(\"Actual parameters: {:.4f} {:.4f} {:.4f} {:.4f} {:.4f} {:.4f}\".format(MEAN_0, SIG_0, PROB_0, \\\n",
    "                                                                              MEAN_1, SIG_1, PROB_1))\n",
    "  print(\"Noise factor: {:.4f}\".format(NOISE_FACT))\n",
    "  print()\n",
    "\n",
    "  val_list = gen_gauss_list(STATS, CLASS_NAMES, NUM_VALUES, NOISE_FACT)\n",
    "\n",
    "  #Output file name. Students should use their folder and name.\n",
    "  out_file_name = 'MY OUTPUT FILE NAME'\n",
    "\n",
    "  #Write output csv file\n",
    "  with open(out_file_name, 'w') as out_file_ptr:\n",
    "    for i in range(len(val_list)):\n",
    "      pass\n",
    "      out_str = \"{:s}, {:7.4f}\\n\".format(val_list[i][0], val_list[i][1])\n",
    "      out_file_ptr.write(out_str)\n",
    "\n",
    "\n",
    "  print(\"END\")\n"
   ],
   "execution_count": 2,
   "outputs": [
    {
     "name": "stdout",
     "output_type": "stream",
     "text": [
      "Actual parameters: 0.0000 1.0000 0.5000 1.0000 2.0000 0.5000\n",
      "Noise factor: 0.0000\n",
      "\n",
      "END\n"
     ]
    }
   ]
  },
  {
   "cell_type": "markdown",
   "metadata": {
    "id": "NvQbRVnobG80",
    "pycharm": {
     "name": "#%% md\n"
    }
   },
   "source": [
    "**Sample output from running  the data generation code.**\n",
    "\n",
    "Actual parameters: 0.0000 1.0000 0.5000 1.0000 2.0000 0.5000\n",
    "\n",
    "Noise factor: 0.0000\n",
    "\n",
    "END\n"
   ]
  },
  {
   "cell_type": "markdown",
   "metadata": {
    "id": "KkEH7uYUzyFf",
    "pycharm": {
     "name": "#%% md\n"
    }
   },
   "source": [
    "Imports"
   ]
  },
  {
   "cell_type": "code",
   "metadata": {
    "id": "EMtMAJndzu5d",
    "executionInfo": {
     "status": "ok",
     "timestamp": 1633965573402,
     "user_tz": 240,
     "elapsed": 188,
     "user": {
      "displayName": "Jack Mayr",
      "photoUrl": "https://lh3.googleusercontent.com/a/default-user=s64",
      "userId": "14391554172767483827"
     }
    },
    "pycharm": {
     "name": "#%%\n"
    }
   },
   "source": [
    "import math\n",
    "import csv\n"
   ],
   "execution_count": 3,
   "outputs": []
  },
  {
   "cell_type": "code",
   "metadata": {
    "id": "FignsW5uCuKJ",
    "executionInfo": {
     "status": "ok",
     "timestamp": 1633965576566,
     "user_tz": 240,
     "elapsed": 160,
     "user": {
      "displayName": "Jack Mayr",
      "photoUrl": "https://lh3.googleusercontent.com/a/default-user=s64",
      "userId": "14391554172767483827"
     }
    },
    "pycharm": {
     "name": "#%%\n"
    }
   },
   "source": [
    "class bayes:\n",
    "  # splits data into positive and negate to calculate stats\n",
    "  def split_classes(data):\n",
    "    neg_data = []\n",
    "    pos_data = []\n",
    "    for i in range(len(data)):\n",
    "      cl, num = data[i][0], float(data[i][1])\n",
    "      if cl == 'NEG':\n",
    "        neg_data.append([cl ,num])\n",
    "      if cl == 'POS':\n",
    "        pos_data.append([cl ,num])\n",
    "    return neg_data, pos_data\n",
    " \n",
    "  # calculates mean of a dataset\n",
    "  def find_mean(data):\n",
    "    sum = 0\n",
    "    for i in range(len(data)):\n",
    "      sum += data[i][1]\n",
    "    m = sum / len(data)\n",
    "    return m\n",
    "  \n",
    "  # calculates standard deviation or sigma of a dataset\n",
    "  def find_std_dev(data,m):\n",
    "    sq_sub_sum = 0\n",
    "    for i in range(len(data)):\n",
    "      sq_sub_sum += (data[i][1] - m)**2\n",
    "    std_dev = math.sqrt(sq_sub_sum / len(data))\n",
    "    return std_dev\n",
    "  \n",
    "  # finds how common an outcome is\n",
    "  def find_prevalence(feat_data,all_data):\n",
    "    prev = len(feat_data) / len(all_data)\n",
    "    return prev\n",
    "\n",
    "  # finds a favored splitpoint, more for checking  \n",
    "  def split_point(d1_mean, d1_std_dev, d2_mean, d2_std_dev):\n",
    "    sp = 1000\n",
    "    diff = 1000\n",
    "    for x in range(int(d1_mean), int(d2_mean*100), 1):\n",
    "      x_it = x/100\n",
    "      if abs(abs(x_it - d1_mean) / d1_std_dev - abs(x_it - d2_mean) / d2_std_dev) < diff:\n",
    "        diff = abs(abs(x_it - d1_mean) / d1_std_dev - abs(x_it - d2_mean) / d2_std_dev)\n",
    "        sp = x_it\n",
    "    return sp\n",
    "  \n",
    "  # calculates gaussian value\n",
    "  def gauss_val(x, m, s):\n",
    "    val = math.exp(-math.pow((x-m)/s,2)/2.0)/(s*math.sqrt(math.pi*2))\n",
    "    return(val)\n",
    "\n",
    "  # makes predicitons on a class given gaussian values for positive and negative probabilities\n",
    "  def find_predictions(data, neg_mean, neg_std_dev, pos_mean, pos_std_dev):\n",
    "    predictions = []\n",
    "    for i in range(len(data)):\n",
    "      real_class, val = data[i][0], float(data[i][1])\n",
    "      neg_gauss_val = bayes.gauss_val(val, neg_mean, neg_std_dev)\n",
    "      pos_gauss_val = bayes.gauss_val(val, pos_mean, pos_std_dev)\n",
    "      if neg_gauss_val > pos_gauss_val:\n",
    "        predicted_class = 'NEG'\n",
    "      else:\n",
    "        predicted_class = 'POS'\n",
    "      predictions.append([real_class, val, predicted_class])\n",
    "    return predictions\n",
    "\n",
    "  # returns the count of TP, TN, FP, FN for a given dataset\n",
    "  def confusion_matrix(data):\n",
    "    true_positives, true_negatives, false_positives, false_negatives = 0, 0, 0, 0\n",
    "    for i in range(len(data)):\n",
    "      if data[i][0] == 'POS' and data[i][2] == 'POS':\n",
    "        true_positives +=1\n",
    "      elif data[i][0] == 'NEG' and data[i][2] == 'NEG':\n",
    "        true_negatives +=1\n",
    "      elif data[i][0] == 'POS' and data[i][2] == 'NEG':\n",
    "        false_negatives +=1\n",
    "      elif data[i][0] == 'NEG' and data[i][2] == 'POS':\n",
    "        false_positives +=1\n",
    "    return true_positives, true_negatives, false_positives, false_negatives\n",
    "\n",
    "  \n",
    "  #following functions calculate various measures of performance\n",
    "  def find_precision(TP, FP):\n",
    "    return TP / (TP+FP)\n",
    "\n",
    "  def find_sensitivity(TP, FN):\n",
    "    return TP / (TP+FN)\n",
    "\n",
    "  def find_specificity(TN, FP):\n",
    "    return TN / (TN+FP)\n",
    "\n",
    "  def find_accuracy(TP, TN, FP, FN):\n",
    "    return (TP + TN) / (TP + TN + FP + FN)\n",
    "\n",
    "\n",
    "  \n",
    "\n"
   ],
   "execution_count": 4,
   "outputs": []
  },
  {
   "cell_type": "code",
   "metadata": {
    "colab": {
     "base_uri": "https://localhost:8080/"
    },
    "id": "q2I-1PWBzSqs",
    "executionInfo": {
     "status": "ok",
     "timestamp": 1633965604147,
     "user_tz": 240,
     "elapsed": 23260,
     "user": {
      "displayName": "Jack Mayr",
      "photoUrl": "https://lh3.googleusercontent.com/a/default-user=s64",
      "userId": "14391554172767483827"
     }
    },
    "outputId": "1f4443d6-4898-4a1f-a2c6-18f757332950",
    "pycharm": {
     "name": "#%%\n"
    }
   },
   "source": [
    "# Get data from drive\n",
    "# from google.colab import drive\n",
    "# drive.mount('/content/drive')"
   ],
   "execution_count": 5,
   "outputs": []
  },
  {
   "cell_type": "code",
   "metadata": {
    "colab": {
     "base_uri": "https://localhost:8080/"
    },
    "id": "qDi-AOMa0NN4",
    "executionInfo": {
     "status": "ok",
     "timestamp": 1633966252260,
     "user_tz": 240,
     "elapsed": 122,
     "user": {
      "displayName": "Jack Mayr",
      "photoUrl": "https://lh3.googleusercontent.com/a/default-user=s64",
      "userId": "14391554172767483827"
     }
    },
    "outputId": "3c819498-096c-48a4-cc8e-f4a1ca1c80fe",
    "pycharm": {
     "name": "#%%\n"
    }
   },
   "source": [
    "data = []\n",
    "\n",
    "#pick file to use\n",
    "with open('/Users/jackmayr/PycharmProjects/my_juypter_notebooks/csc_395/data/BayesAssign1_01.csv') as csvfile:\n",
    "\tcsvReader = csv.reader(csvfile)    \n",
    "\tfor row in csvReader:        \n",
    "\t\tdata.append(row)        \n",
    "#print(data)\n",
    "data_length = len(data)\n",
    "train_percent = 0.7\n",
    "\n",
    "# make our train and test sets\n",
    "train, test = data[:int(data_length * train_percent)], data[int(data_length * train_percent):]\n",
    "\n",
    "# split data by class\n",
    "neg_data, pos_data = bayes.split_classes(train)\n",
    "\n",
    "# find mean of each class\n",
    "neg_mean = bayes.find_mean(neg_data)\n",
    "pos_mean = bayes.find_mean(pos_data)\n",
    "\n",
    "# find standard deviation of each class\n",
    "neg_std_dev = bayes.find_std_dev(neg_data, neg_mean)\n",
    "pos_std_dev = bayes.find_std_dev(pos_data, pos_mean)\n",
    "\n",
    "\n",
    "pos_prevalence = bayes.find_prevalence(pos_data, train)\n",
    "\n",
    "# Run predictive model on test set\n",
    "test_predictions = bayes.find_predictions(test, neg_mean, neg_std_dev, pos_mean, pos_std_dev)\n",
    "\n",
    "# Confusion Matrix quartiles\n",
    "true_positives, true_negatives, false_positives, false_negatives = bayes.confusion_matrix(test_predictions)\n",
    "\n",
    "# Performance stats\n",
    "test_precision = bayes.find_precision(true_positives, false_positives)\n",
    "test_sensitivity = bayes.find_sensitivity(true_positives, false_negatives)\n",
    "test_specificity = bayes.find_specificity(true_negatives, false_positives)\n",
    "test_accuracy = bayes.find_accuracy(true_positives, true_negatives, false_positives, false_negatives)\n",
    "\n",
    "# printed outputs\n",
    "print('Training Fraction: ', train_percent, data_length, len(train), len(test))\n",
    "print('Estimated parameters (mean0, sig0, prob0, mean1,, sig1, prob1): ', round(neg_mean,2), round(neg_std_dev,2), round(1-pos_prevalence,2), round(pos_mean,2), round(pos_std_dev,2), round(pos_prevalence,2))\n",
    "print('True POS: ', true_positives)\n",
    "print('True NEG: ', true_negatives)\n",
    "print('False POS: ', false_positives)\n",
    "print('False NEG: ', false_negatives)\n",
    "print('Prevalence: ', round(pos_prevalence,2))\n",
    "print('Accuracy: ', round(test_accuracy,2))\n",
    "print('Sensitivity: ', round(test_sensitivity,2))\n",
    "print('Specificity: ', round(test_specificity,2))\n",
    "print('Precsion: ', round(test_precision,2))\n",
    "print('PPV: ', round(test_precision,2))"
   ],
   "execution_count": 6,
   "outputs": [
    {
     "name": "stdout",
     "output_type": "stream",
     "text": [
      "Training Fraction:  0.7 1000 700 300\n",
      "Estimated parameters (mean0, sig0, prob0, mean1,, sig1, prob1):  0.05 1.04 0.77 3.03 0.95 0.23\n",
      "True POS:  66\n",
      "True NEG:  223\n",
      "False POS:  9\n",
      "False NEG:  2\n",
      "Prevalence:  0.23\n",
      "Accuracy:  0.96\n",
      "Sensitivity:  0.97\n",
      "Specificity:  0.96\n",
      "Precsion:  0.88\n",
      "PPV:  0.88\n"
     ]
    }
   ]
  },
  {
   "cell_type": "markdown",
   "metadata": {
    "id": "S-x429DBYvYU",
    "pycharm": {
     "name": "#%% md\n"
    }
   },
   "source": [
    "**Sample output from running the classification code.**\n",
    "\n",
    "Training fraction: 0.7 10000 7000 3000\n",
    "\n",
    "Estimated parameters (mean0, sig0, prob0, mean1, sig1, prob1): 0.0046 1.0103 0.4917 1.0268 2.0142 0.4917\n",
    "\n",
    "True POS:  785\n",
    "\n",
    "False POS: 217\n",
    "\n",
    "True NEG:  1294\n",
    "\n",
    "False NEG: 704\n",
    "\n",
    "\n",
    "Prevalence:    0.496\n",
    "\n",
    "Accuracy:      0.693\n",
    "\n",
    "Sensitivity:   0.527\n",
    "\n",
    "Specificity:   0.856\n",
    "\n",
    "Precision:     0.783\n",
    "\n",
    "PPV:           0.783\n"
   ]
  },
  {
   "cell_type": "code",
   "metadata": {
    "id": "Ls9cITrOYklL",
    "pycharm": {
     "name": "#%%\n"
    }
   },
   "source": [
    "'''\n",
    "Histogram plotting - or other analysis students may like to do.\n",
    "\n",
    "I used information from the links below to code histogram plots.\n",
    "\n",
    "https://matplotlib.org/stable/gallery/statistics/hist.html\n",
    "https://stackoverflow.com/questions/33203645/how-to-plot-a-histogram-using-matplotlib-in-python-with-a-list-of-data\n",
    "\n",
    "\n",
    "'''"
   ],
   "execution_count": null,
   "outputs": []
  }
 ]
}