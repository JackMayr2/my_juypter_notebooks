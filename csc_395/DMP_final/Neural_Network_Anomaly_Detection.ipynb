{
 "nbformat": 4,
 "nbformat_minor": 0,
 "metadata": {
  "colab": {
   "provenance": []
  },
  "kernelspec": {
   "name": "python3",
   "display_name": "Python 3"
  },
  "language_info": {
   "name": "python"
  }
 },
 "cells": [
  {
   "cell_type": "code",
   "metadata": {
    "id": "lHbVlxwD-V9P",
    "pycharm": {
     "name": "#%%\n"
    }
   },
   "source": [
    "import pandas as pd \n",
    "import numpy as np\n",
    "import matplotlib.pyplot as plt\n",
    "import tensorflow as tf\n",
    "from sklearn.model_selection import train_test_split\n",
    "from sklearn.preprocessing import StandardScaler\n"
   ],
   "execution_count": null,
   "outputs": []
  },
  {
   "cell_type": "code",
   "metadata": {
    "colab": {
     "base_uri": "https://localhost:8080/"
    },
    "id": "hp72dD0i_PF-",
    "outputId": "0f13acdf-1ed6-4fca-c430-87052770ff2d",
    "pycharm": {
     "name": "#%%\n"
    }
   },
   "source": [
    "from google.colab import drive\n",
    "drive.mount('/content/drive')\n",
    "\n",
    "data_matrix = pd.read_csv('/content/drive/My Drive/CSC373_DMP_Mayr_Jack/CSC373_DMP_Mayr_Jack/DMP_Final/nasa.csv')\n",
    "data_matrix\n",
    "data_matrix = data_matrix.drop(columns = ['Miss Dist.(kilometers)', 'Orbit ID', 'Neo Reference ID', 'Name', 'Orbit Determination Date', 'Close Approach Date',  'Epoch Date Close Approach' ,'Est Dia in KM(min)', 'Est Dia in KM(max)', 'Est Dia in M(min)', 'Est Dia in M(max)', 'Est Dia in Miles(min)', 'Est Dia in Miles(max)', 'Orbiting Body', 'Epoch Osculation','Equinox'])\n",
    "data_matrix.loc[data_matrix['Hazardous']== True, 'Hazardous'] = 1 \n",
    "data_matrix.loc[data_matrix['Hazardous']== False, 'Hazardous'] = 0 \n",
    "data_matrix\n",
    "print(len(data_matrix.columns))"
   ],
   "execution_count": null,
   "outputs": [
    {
     "output_type": "stream",
     "name": "stdout",
     "text": [
      "Drive already mounted at /content/drive; to attempt to forcibly remount, call drive.mount(\"/content/drive\", force_remount=True).\n",
      "24\n"
     ]
    }
   ]
  },
  {
   "cell_type": "code",
   "source": [
    "def clean_dataset(df):\n",
    "    assert isinstance(df, pd.DataFrame), \"df needs to be a pd.DataFrame\"\n",
    "    df.dropna(inplace=True)\n",
    "    indices_to_keep = ~df.isin([np.nan, np.inf, -np.inf]).any(1)\n",
    "    return df[indices_to_keep].astype(np.float32)"
   ],
   "metadata": {
    "id": "9Ao0rQAWMDSB",
    "pycharm": {
     "name": "#%%\n"
    }
   },
   "execution_count": null,
   "outputs": []
  },
  {
   "cell_type": "code",
   "source": [
    "data_matrix = clean_dataset(data_matrix)\n",
    "data_matrix\n",
    "print(len(data_matrix[data_matrix['Hazardous'] >0]))"
   ],
   "metadata": {
    "colab": {
     "base_uri": "https://localhost:8080/"
    },
    "id": "NMHANCgeMD5c",
    "outputId": "6359b2ec-4b16-4841-8f90-71ac7ab8dc6d",
    "pycharm": {
     "name": "#%%\n"
    }
   },
   "execution_count": null,
   "outputs": [
    {
     "output_type": "stream",
     "name": "stdout",
     "text": [
      "755\n"
     ]
    }
   ]
  },
  {
   "cell_type": "code",
   "metadata": {
    "colab": {
     "base_uri": "https://localhost:8080/"
    },
    "id": "DgmT7lcL_fql",
    "outputId": "c270ea91-81cf-4423-d572-f1b6ff2e6f78",
    "pycharm": {
     "name": "#%%\n"
    }
   },
   "source": [
    "\n",
    "X = data_matrix.drop(columns = ['Hazardous'])\n",
    "y = data_matrix['Hazardous']\n",
    "X_train, X_test, y_train, y_test = train_test_split(X, y, test_size=0.2)\n",
    "\n",
    "\n",
    "X_train = np.array(X_train)\n",
    "X_test = np.array(X_test)\n",
    "y_train = np.array(y_train)\n",
    "y_test = np.array(y_test)\n",
    "\n",
    "\n",
    "scaler = StandardScaler()\n",
    "X_train = scaler.fit_transform(X_train)\n",
    "X_test = scaler.transform(X_test)\n",
    "\n",
    "\n",
    "\n",
    "model = tf.keras.models.Sequential([tf.keras.layers.Flatten(),\n",
    "                                    tf.keras.layers.Dense(18, input_shape = (23,)),\n",
    "                                   tf.keras.layers.Dense(32),\n",
    "                                   tf.keras.layers.Dense(64),\n",
    "                                   tf.keras.layers.Dense(64),\n",
    "                                   tf.keras.layers.Dense(32),\n",
    "                                   tf.keras.layers.Dense(16),\n",
    "                                    \n",
    "                                   tf.keras.layers.Dense(1, activation = 'relu')])\n",
    "model.compile(optimizer='adam', loss = 'binary_crossentropy', metrics = ['accuracy'])\n",
    "\n",
    "history = model.fit(X_train, y_train, epochs = 100, batch_size = 32, verbose = 1)\n",
    "print(history.epoch, history.history['accuracy'][-1])"
   ],
   "execution_count": null,
   "outputs": [
    {
     "output_type": "stream",
     "name": "stdout",
     "text": [
      "Epoch 1/100\n",
      "118/118 [==============================] - 3s 5ms/step - loss: 1.3736 - accuracy: 0.8325\n",
      "Epoch 2/100\n",
      "118/118 [==============================] - 1s 5ms/step - loss: 1.4735 - accuracy: 0.8464\n",
      "Epoch 3/100\n",
      "118/118 [==============================] - 1s 5ms/step - loss: 0.6654 - accuracy: 0.9050\n",
      "Epoch 4/100\n",
      "118/118 [==============================] - 1s 5ms/step - loss: 0.2642 - accuracy: 0.9328\n",
      "Epoch 5/100\n",
      "118/118 [==============================] - 1s 4ms/step - loss: 0.4420 - accuracy: 0.9122\n",
      "Epoch 6/100\n",
      "118/118 [==============================] - 1s 4ms/step - loss: 0.3788 - accuracy: 0.9178\n",
      "Epoch 7/100\n",
      "118/118 [==============================] - 1s 5ms/step - loss: 0.1428 - accuracy: 0.9493\n",
      "Epoch 8/100\n",
      "118/118 [==============================] - 0s 3ms/step - loss: 0.1228 - accuracy: 0.9525\n",
      "Epoch 9/100\n",
      "118/118 [==============================] - 0s 3ms/step - loss: 0.1389 - accuracy: 0.9477\n",
      "Epoch 10/100\n",
      "118/118 [==============================] - 0s 3ms/step - loss: 1.7246 - accuracy: 0.8333\n",
      "Epoch 11/100\n",
      "118/118 [==============================] - 0s 3ms/step - loss: 0.4097 - accuracy: 0.9253\n",
      "Epoch 12/100\n",
      "118/118 [==============================] - 0s 3ms/step - loss: 0.5609 - accuracy: 0.9072\n",
      "Epoch 13/100\n",
      "118/118 [==============================] - 0s 3ms/step - loss: 0.3923 - accuracy: 0.9181\n",
      "Epoch 14/100\n",
      "118/118 [==============================] - 0s 3ms/step - loss: 0.1264 - accuracy: 0.9507\n",
      "Epoch 15/100\n",
      "118/118 [==============================] - 0s 3ms/step - loss: 0.1161 - accuracy: 0.9539\n",
      "Epoch 16/100\n",
      "118/118 [==============================] - 0s 3ms/step - loss: 0.1101 - accuracy: 0.9549\n",
      "Epoch 17/100\n",
      "118/118 [==============================] - 0s 3ms/step - loss: 0.1098 - accuracy: 0.9528\n",
      "Epoch 18/100\n",
      "118/118 [==============================] - 0s 3ms/step - loss: 0.3804 - accuracy: 0.9314\n",
      "Epoch 19/100\n",
      "118/118 [==============================] - 0s 3ms/step - loss: 1.3358 - accuracy: 0.8573\n",
      "Epoch 20/100\n",
      "118/118 [==============================] - 0s 3ms/step - loss: 0.2366 - accuracy: 0.9325\n",
      "Epoch 21/100\n",
      "118/118 [==============================] - 0s 3ms/step - loss: 0.1248 - accuracy: 0.9517\n",
      "Epoch 22/100\n",
      "118/118 [==============================] - 0s 3ms/step - loss: 0.6567 - accuracy: 0.9114\n",
      "Epoch 23/100\n",
      "118/118 [==============================] - 0s 3ms/step - loss: 2.9079 - accuracy: 0.7738\n",
      "Epoch 24/100\n",
      "118/118 [==============================] - 0s 3ms/step - loss: 2.6680 - accuracy: 0.7991\n",
      "Epoch 25/100\n",
      "118/118 [==============================] - 0s 4ms/step - loss: 2.2325 - accuracy: 0.8277\n",
      "Epoch 26/100\n",
      "118/118 [==============================] - 0s 3ms/step - loss: 1.8497 - accuracy: 0.8565\n",
      "Epoch 27/100\n",
      "118/118 [==============================] - 0s 3ms/step - loss: 2.3096 - accuracy: 0.8192\n",
      "Epoch 28/100\n",
      "118/118 [==============================] - 0s 3ms/step - loss: 1.6419 - accuracy: 0.8669\n",
      "Epoch 29/100\n",
      "118/118 [==============================] - 0s 3ms/step - loss: 1.1360 - accuracy: 0.8952\n",
      "Epoch 30/100\n",
      "118/118 [==============================] - 0s 3ms/step - loss: 2.5938 - accuracy: 0.8087\n",
      "Epoch 31/100\n",
      "118/118 [==============================] - 0s 3ms/step - loss: 2.5203 - accuracy: 0.8144\n",
      "Epoch 32/100\n",
      "118/118 [==============================] - 0s 3ms/step - loss: 2.3777 - accuracy: 0.8357\n",
      "Epoch 33/100\n",
      "118/118 [==============================] - 0s 3ms/step - loss: 2.5519 - accuracy: 0.8170\n",
      "Epoch 34/100\n",
      "118/118 [==============================] - 0s 3ms/step - loss: 2.5009 - accuracy: 0.8181\n",
      "Epoch 35/100\n",
      "118/118 [==============================] - 0s 4ms/step - loss: 2.1443 - accuracy: 0.8426\n",
      "Epoch 36/100\n",
      "118/118 [==============================] - 1s 5ms/step - loss: 1.8460 - accuracy: 0.8637\n",
      "Epoch 37/100\n",
      "118/118 [==============================] - 1s 5ms/step - loss: 1.3411 - accuracy: 0.8837\n",
      "Epoch 38/100\n",
      "118/118 [==============================] - 0s 4ms/step - loss: 1.0669 - accuracy: 0.8981\n",
      "Epoch 39/100\n",
      "118/118 [==============================] - 0s 4ms/step - loss: 0.7652 - accuracy: 0.9205\n",
      "Epoch 40/100\n",
      "118/118 [==============================] - 1s 4ms/step - loss: 0.5751 - accuracy: 0.9264\n",
      "Epoch 41/100\n",
      "118/118 [==============================] - 1s 4ms/step - loss: 0.4744 - accuracy: 0.9309\n",
      "Epoch 42/100\n",
      "118/118 [==============================] - 1s 5ms/step - loss: 0.8885 - accuracy: 0.8928\n",
      "Epoch 43/100\n",
      "118/118 [==============================] - 1s 5ms/step - loss: 1.7363 - accuracy: 0.8714\n",
      "Epoch 44/100\n",
      "118/118 [==============================] - 1s 4ms/step - loss: 2.3035 - accuracy: 0.8248\n",
      "Epoch 45/100\n",
      "118/118 [==============================] - 0s 3ms/step - loss: 2.0976 - accuracy: 0.8448\n",
      "Epoch 46/100\n",
      "118/118 [==============================] - 0s 3ms/step - loss: 1.8176 - accuracy: 0.8576\n",
      "Epoch 47/100\n",
      "118/118 [==============================] - 0s 3ms/step - loss: 1.7112 - accuracy: 0.8546\n",
      "Epoch 48/100\n",
      "118/118 [==============================] - 0s 3ms/step - loss: 1.5745 - accuracy: 0.8642\n",
      "Epoch 49/100\n",
      "118/118 [==============================] - 0s 3ms/step - loss: 1.6755 - accuracy: 0.8578\n",
      "Epoch 50/100\n",
      "118/118 [==============================] - 0s 3ms/step - loss: 1.7545 - accuracy: 0.8469\n",
      "Epoch 51/100\n",
      "118/118 [==============================] - 0s 4ms/step - loss: 1.1207 - accuracy: 0.8762\n",
      "Epoch 52/100\n",
      "118/118 [==============================] - 0s 3ms/step - loss: 1.7979 - accuracy: 0.8258\n",
      "Epoch 53/100\n",
      "118/118 [==============================] - 0s 3ms/step - loss: 0.9628 - accuracy: 0.9008\n",
      "Epoch 54/100\n",
      "118/118 [==============================] - 0s 3ms/step - loss: 0.7984 - accuracy: 0.9061\n",
      "Epoch 55/100\n",
      "118/118 [==============================] - 0s 3ms/step - loss: 0.6328 - accuracy: 0.9130\n",
      "Epoch 56/100\n",
      "118/118 [==============================] - 0s 3ms/step - loss: 2.9350 - accuracy: 0.7671\n",
      "Epoch 57/100\n",
      "118/118 [==============================] - 0s 3ms/step - loss: 1.3864 - accuracy: 0.8570\n",
      "Epoch 58/100\n",
      "118/118 [==============================] - 0s 3ms/step - loss: 1.0744 - accuracy: 0.8877\n",
      "Epoch 59/100\n",
      "118/118 [==============================] - 0s 3ms/step - loss: 1.2202 - accuracy: 0.8818\n",
      "Epoch 60/100\n",
      "118/118 [==============================] - 0s 3ms/step - loss: 0.4057 - accuracy: 0.9330\n",
      "Epoch 61/100\n",
      "118/118 [==============================] - 0s 3ms/step - loss: 1.0651 - accuracy: 0.8632\n",
      "Epoch 62/100\n",
      "118/118 [==============================] - 0s 3ms/step - loss: 0.3615 - accuracy: 0.9024\n",
      "Epoch 63/100\n",
      "118/118 [==============================] - 0s 3ms/step - loss: 0.2568 - accuracy: 0.9216\n",
      "Epoch 64/100\n",
      "118/118 [==============================] - 0s 3ms/step - loss: 0.2183 - accuracy: 0.9301\n",
      "Epoch 65/100\n",
      "118/118 [==============================] - 0s 3ms/step - loss: 0.1896 - accuracy: 0.9368\n",
      "Epoch 66/100\n",
      "118/118 [==============================] - 0s 3ms/step - loss: 0.1731 - accuracy: 0.9405\n",
      "Epoch 67/100\n",
      "118/118 [==============================] - 0s 3ms/step - loss: 0.1385 - accuracy: 0.9496\n",
      "Epoch 68/100\n",
      "118/118 [==============================] - 0s 3ms/step - loss: 0.1320 - accuracy: 0.9539\n",
      "Epoch 69/100\n",
      "118/118 [==============================] - 0s 4ms/step - loss: 0.1273 - accuracy: 0.9539\n",
      "Epoch 70/100\n",
      "118/118 [==============================] - 0s 3ms/step - loss: 0.1234 - accuracy: 0.9536\n",
      "Epoch 71/100\n",
      "118/118 [==============================] - 0s 3ms/step - loss: 0.1280 - accuracy: 0.9493\n",
      "Epoch 72/100\n",
      "118/118 [==============================] - 1s 5ms/step - loss: 0.1201 - accuracy: 0.9563\n",
      "Epoch 73/100\n",
      "118/118 [==============================] - 1s 5ms/step - loss: 0.1085 - accuracy: 0.9539\n",
      "Epoch 74/100\n",
      "118/118 [==============================] - 1s 6ms/step - loss: 0.1106 - accuracy: 0.9549\n",
      "Epoch 75/100\n",
      "118/118 [==============================] - 1s 6ms/step - loss: 0.1057 - accuracy: 0.9547\n",
      "Epoch 76/100\n",
      "118/118 [==============================] - 1s 6ms/step - loss: 0.1045 - accuracy: 0.9552\n",
      "Epoch 77/100\n",
      "118/118 [==============================] - 1s 5ms/step - loss: 0.1087 - accuracy: 0.9571\n",
      "Epoch 78/100\n",
      "118/118 [==============================] - 1s 5ms/step - loss: 0.2442 - accuracy: 0.9387\n",
      "Epoch 79/100\n",
      "118/118 [==============================] - 1s 5ms/step - loss: 0.1515 - accuracy: 0.9475\n",
      "Epoch 80/100\n",
      "118/118 [==============================] - 0s 3ms/step - loss: 0.1165 - accuracy: 0.9531\n",
      "Epoch 81/100\n",
      "118/118 [==============================] - 0s 3ms/step - loss: 0.1039 - accuracy: 0.9549\n",
      "Epoch 82/100\n",
      "118/118 [==============================] - 0s 3ms/step - loss: 0.2960 - accuracy: 0.9453\n",
      "Epoch 83/100\n",
      "118/118 [==============================] - 0s 3ms/step - loss: 2.5280 - accuracy: 0.8362\n",
      "Epoch 84/100\n",
      "118/118 [==============================] - 0s 3ms/step - loss: 2.5263 - accuracy: 0.8362\n",
      "Epoch 85/100\n",
      "118/118 [==============================] - 0s 3ms/step - loss: 2.5263 - accuracy: 0.8362\n",
      "Epoch 86/100\n",
      "118/118 [==============================] - 0s 3ms/step - loss: 2.5263 - accuracy: 0.8362\n",
      "Epoch 87/100\n",
      "118/118 [==============================] - 0s 3ms/step - loss: 2.5263 - accuracy: 0.8362\n",
      "Epoch 88/100\n",
      "118/118 [==============================] - 0s 3ms/step - loss: 2.5263 - accuracy: 0.8362\n",
      "Epoch 89/100\n",
      "118/118 [==============================] - 0s 3ms/step - loss: 2.5263 - accuracy: 0.8362\n",
      "Epoch 90/100\n",
      "118/118 [==============================] - 0s 3ms/step - loss: 2.5263 - accuracy: 0.8362\n",
      "Epoch 91/100\n",
      "118/118 [==============================] - 0s 3ms/step - loss: 2.5263 - accuracy: 0.8362\n",
      "Epoch 92/100\n",
      "118/118 [==============================] - 0s 3ms/step - loss: 2.5263 - accuracy: 0.8362\n",
      "Epoch 93/100\n",
      "118/118 [==============================] - 0s 3ms/step - loss: 2.5263 - accuracy: 0.8362\n",
      "Epoch 94/100\n",
      "118/118 [==============================] - 0s 3ms/step - loss: 2.5263 - accuracy: 0.8362\n",
      "Epoch 95/100\n",
      "118/118 [==============================] - 0s 3ms/step - loss: 2.5263 - accuracy: 0.8362\n",
      "Epoch 96/100\n",
      "118/118 [==============================] - 0s 3ms/step - loss: 2.5263 - accuracy: 0.8362\n",
      "Epoch 97/100\n",
      "118/118 [==============================] - 0s 3ms/step - loss: 2.5263 - accuracy: 0.8362\n",
      "Epoch 98/100\n",
      "118/118 [==============================] - 0s 3ms/step - loss: 2.5263 - accuracy: 0.8362\n",
      "Epoch 99/100\n",
      "118/118 [==============================] - 0s 3ms/step - loss: 2.5263 - accuracy: 0.8362\n",
      "Epoch 100/100\n",
      "118/118 [==============================] - 0s 3ms/step - loss: 2.5263 - accuracy: 0.8362\n",
      "[0, 1, 2, 3, 4, 5, 6, 7, 8, 9, 10, 11, 12, 13, 14, 15, 16, 17, 18, 19, 20, 21, 22, 23, 24, 25, 26, 27, 28, 29, 30, 31, 32, 33, 34, 35, 36, 37, 38, 39, 40, 41, 42, 43, 44, 45, 46, 47, 48, 49, 50, 51, 52, 53, 54, 55, 56, 57, 58, 59, 60, 61, 62, 63, 64, 65, 66, 67, 68, 69, 70, 71, 72, 73, 74, 75, 76, 77, 78, 79, 80, 81, 82, 83, 84, 85, 86, 87, 88, 89, 90, 91, 92, 93, 94, 95, 96, 97, 98, 99] 0.8362230062484741\n"
     ]
    }
   ]
  },
  {
   "cell_type": "code",
   "metadata": {
    "id": "zaRO_ejZLgTB",
    "colab": {
     "base_uri": "https://localhost:8080/"
    },
    "outputId": "79cb7ed5-315d-41e1-aa35-a8f0db21659a",
    "pycharm": {
     "name": "#%%\n"
    }
   },
   "source": [
    "print(model.evaluate(X_test, y_test))\n",
    "#print(model.predict(X_test))\n",
    "print(tf.math.confusion_matrix(y_test, model.predict(X_test)))"
   ],
   "execution_count": null,
   "outputs": [
    {
     "output_type": "stream",
     "name": "stdout",
     "text": [
      "30/30 [==============================] - 0s 3ms/step - loss: 2.3187 - accuracy: 0.8497\n",
      "[2.3186755180358887, 0.8496801853179932]\n",
      "30/30 [==============================] - 0s 3ms/step\n",
      "tf.Tensor(\n",
      "[[797   0]\n",
      " [141   0]], shape=(2, 2), dtype=int32)\n"
     ]
    }
   ]
  }
 ]
}