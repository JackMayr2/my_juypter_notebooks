{
 "cells": [
  {
   "cell_type": "code",
   "execution_count": 1,
   "metadata": {
    "collapsed": true,
    "pycharm": {
     "name": "#%%\n"
    }
   },
   "outputs": [],
   "source": [
    "import pandas as pd\n",
    "from IPython.display import display"
   ]
  },
  {
   "cell_type": "code",
   "execution_count": 2,
   "outputs": [
    {
     "data": {
      "text/plain": "       type  fixed acidity  volatile acidity  citric acid  residual sugar  \\\n0     white            7.0             0.270         0.36            20.7   \n1     white            6.3             0.300         0.34             1.6   \n2     white            8.1             0.280         0.40             6.9   \n3     white            7.2             0.230         0.32             8.5   \n4     white            7.2             0.230         0.32             8.5   \n...     ...            ...               ...          ...             ...   \n6492    red            6.2             0.600         0.08             2.0   \n6493    red            5.9             0.550         0.10             2.2   \n6494    red            6.3             0.510         0.13             2.3   \n6495    red            5.9             0.645         0.12             2.0   \n6496    red            6.0             0.310         0.47             3.6   \n\n      chlorides  free sulfur dioxide  total sulfur dioxide  density    pH  \\\n0         0.045                 45.0                 170.0  1.00100  3.00   \n1         0.049                 14.0                 132.0  0.99400  3.30   \n2         0.050                 30.0                  97.0  0.99510  3.26   \n3         0.058                 47.0                 186.0  0.99560  3.19   \n4         0.058                 47.0                 186.0  0.99560  3.19   \n...         ...                  ...                   ...      ...   ...   \n6492      0.090                 32.0                  44.0  0.99490  3.45   \n6493      0.062                 39.0                  51.0  0.99512  3.52   \n6494      0.076                 29.0                  40.0  0.99574  3.42   \n6495      0.075                 32.0                  44.0  0.99547  3.57   \n6496      0.067                 18.0                  42.0  0.99549  3.39   \n\n      sulphates  alcohol  quality  \n0          0.45      8.8        6  \n1          0.49      9.5        6  \n2          0.44     10.1        6  \n3          0.40      9.9        6  \n4          0.40      9.9        6  \n...         ...      ...      ...  \n6492       0.58     10.5        5  \n6493        NaN     11.2        6  \n6494       0.75     11.0        6  \n6495       0.71     10.2        5  \n6496       0.66     11.0        6  \n\n[6497 rows x 13 columns]",
      "text/html": "<div>\n<style scoped>\n    .dataframe tbody tr th:only-of-type {\n        vertical-align: middle;\n    }\n\n    .dataframe tbody tr th {\n        vertical-align: top;\n    }\n\n    .dataframe thead th {\n        text-align: right;\n    }\n</style>\n<table border=\"1\" class=\"dataframe\">\n  <thead>\n    <tr style=\"text-align: right;\">\n      <th></th>\n      <th>type</th>\n      <th>fixed acidity</th>\n      <th>volatile acidity</th>\n      <th>citric acid</th>\n      <th>residual sugar</th>\n      <th>chlorides</th>\n      <th>free sulfur dioxide</th>\n      <th>total sulfur dioxide</th>\n      <th>density</th>\n      <th>pH</th>\n      <th>sulphates</th>\n      <th>alcohol</th>\n      <th>quality</th>\n    </tr>\n  </thead>\n  <tbody>\n    <tr>\n      <th>0</th>\n      <td>white</td>\n      <td>7.0</td>\n      <td>0.270</td>\n      <td>0.36</td>\n      <td>20.7</td>\n      <td>0.045</td>\n      <td>45.0</td>\n      <td>170.0</td>\n      <td>1.00100</td>\n      <td>3.00</td>\n      <td>0.45</td>\n      <td>8.8</td>\n      <td>6</td>\n    </tr>\n    <tr>\n      <th>1</th>\n      <td>white</td>\n      <td>6.3</td>\n      <td>0.300</td>\n      <td>0.34</td>\n      <td>1.6</td>\n      <td>0.049</td>\n      <td>14.0</td>\n      <td>132.0</td>\n      <td>0.99400</td>\n      <td>3.30</td>\n      <td>0.49</td>\n      <td>9.5</td>\n      <td>6</td>\n    </tr>\n    <tr>\n      <th>2</th>\n      <td>white</td>\n      <td>8.1</td>\n      <td>0.280</td>\n      <td>0.40</td>\n      <td>6.9</td>\n      <td>0.050</td>\n      <td>30.0</td>\n      <td>97.0</td>\n      <td>0.99510</td>\n      <td>3.26</td>\n      <td>0.44</td>\n      <td>10.1</td>\n      <td>6</td>\n    </tr>\n    <tr>\n      <th>3</th>\n      <td>white</td>\n      <td>7.2</td>\n      <td>0.230</td>\n      <td>0.32</td>\n      <td>8.5</td>\n      <td>0.058</td>\n      <td>47.0</td>\n      <td>186.0</td>\n      <td>0.99560</td>\n      <td>3.19</td>\n      <td>0.40</td>\n      <td>9.9</td>\n      <td>6</td>\n    </tr>\n    <tr>\n      <th>4</th>\n      <td>white</td>\n      <td>7.2</td>\n      <td>0.230</td>\n      <td>0.32</td>\n      <td>8.5</td>\n      <td>0.058</td>\n      <td>47.0</td>\n      <td>186.0</td>\n      <td>0.99560</td>\n      <td>3.19</td>\n      <td>0.40</td>\n      <td>9.9</td>\n      <td>6</td>\n    </tr>\n    <tr>\n      <th>...</th>\n      <td>...</td>\n      <td>...</td>\n      <td>...</td>\n      <td>...</td>\n      <td>...</td>\n      <td>...</td>\n      <td>...</td>\n      <td>...</td>\n      <td>...</td>\n      <td>...</td>\n      <td>...</td>\n      <td>...</td>\n      <td>...</td>\n    </tr>\n    <tr>\n      <th>6492</th>\n      <td>red</td>\n      <td>6.2</td>\n      <td>0.600</td>\n      <td>0.08</td>\n      <td>2.0</td>\n      <td>0.090</td>\n      <td>32.0</td>\n      <td>44.0</td>\n      <td>0.99490</td>\n      <td>3.45</td>\n      <td>0.58</td>\n      <td>10.5</td>\n      <td>5</td>\n    </tr>\n    <tr>\n      <th>6493</th>\n      <td>red</td>\n      <td>5.9</td>\n      <td>0.550</td>\n      <td>0.10</td>\n      <td>2.2</td>\n      <td>0.062</td>\n      <td>39.0</td>\n      <td>51.0</td>\n      <td>0.99512</td>\n      <td>3.52</td>\n      <td>NaN</td>\n      <td>11.2</td>\n      <td>6</td>\n    </tr>\n    <tr>\n      <th>6494</th>\n      <td>red</td>\n      <td>6.3</td>\n      <td>0.510</td>\n      <td>0.13</td>\n      <td>2.3</td>\n      <td>0.076</td>\n      <td>29.0</td>\n      <td>40.0</td>\n      <td>0.99574</td>\n      <td>3.42</td>\n      <td>0.75</td>\n      <td>11.0</td>\n      <td>6</td>\n    </tr>\n    <tr>\n      <th>6495</th>\n      <td>red</td>\n      <td>5.9</td>\n      <td>0.645</td>\n      <td>0.12</td>\n      <td>2.0</td>\n      <td>0.075</td>\n      <td>32.0</td>\n      <td>44.0</td>\n      <td>0.99547</td>\n      <td>3.57</td>\n      <td>0.71</td>\n      <td>10.2</td>\n      <td>5</td>\n    </tr>\n    <tr>\n      <th>6496</th>\n      <td>red</td>\n      <td>6.0</td>\n      <td>0.310</td>\n      <td>0.47</td>\n      <td>3.6</td>\n      <td>0.067</td>\n      <td>18.0</td>\n      <td>42.0</td>\n      <td>0.99549</td>\n      <td>3.39</td>\n      <td>0.66</td>\n      <td>11.0</td>\n      <td>6</td>\n    </tr>\n  </tbody>\n</table>\n<p>6497 rows × 13 columns</p>\n</div>"
     },
     "metadata": {},
     "output_type": "display_data"
    },
    {
     "data": {
      "text/plain": "type                     object\nfixed acidity           float64\nvolatile acidity        float64\ncitric acid             float64\nresidual sugar          float64\nchlorides               float64\nfree sulfur dioxide     float64\ntotal sulfur dioxide    float64\ndensity                 float64\npH                      float64\nsulphates               float64\nalcohol                 float64\nquality                   int64\ndtype: object"
     },
     "metadata": {},
     "output_type": "display_data"
    }
   ],
   "source": [
    "df = pd.read_csv('/Users/jackmayr/PycharmProjects/my_juypter_notebooks/csc_395/data/wine_data.csv')\n",
    "display(df)\n",
    "display(df.dtypes)"
   ],
   "metadata": {
    "collapsed": false,
    "pycharm": {
     "name": "#%%\n"
    }
   }
  },
  {
   "cell_type": "code",
   "execution_count": 3,
   "outputs": [
    {
     "data": {
      "text/plain": "       type    pH  alcohol\n0     white  3.00      8.8\n1     white  3.30      9.5\n2     white  3.26     10.1\n3     white  3.19      9.9\n4     white  3.19      9.9\n...     ...   ...      ...\n6492    red  3.45     10.5\n6493    red  3.52     11.2\n6494    red  3.42     11.0\n6495    red  3.57     10.2\n6496    red  3.39     11.0\n\n[6497 rows x 3 columns]",
      "text/html": "<div>\n<style scoped>\n    .dataframe tbody tr th:only-of-type {\n        vertical-align: middle;\n    }\n\n    .dataframe tbody tr th {\n        vertical-align: top;\n    }\n\n    .dataframe thead th {\n        text-align: right;\n    }\n</style>\n<table border=\"1\" class=\"dataframe\">\n  <thead>\n    <tr style=\"text-align: right;\">\n      <th></th>\n      <th>type</th>\n      <th>pH</th>\n      <th>alcohol</th>\n    </tr>\n  </thead>\n  <tbody>\n    <tr>\n      <th>0</th>\n      <td>white</td>\n      <td>3.00</td>\n      <td>8.8</td>\n    </tr>\n    <tr>\n      <th>1</th>\n      <td>white</td>\n      <td>3.30</td>\n      <td>9.5</td>\n    </tr>\n    <tr>\n      <th>2</th>\n      <td>white</td>\n      <td>3.26</td>\n      <td>10.1</td>\n    </tr>\n    <tr>\n      <th>3</th>\n      <td>white</td>\n      <td>3.19</td>\n      <td>9.9</td>\n    </tr>\n    <tr>\n      <th>4</th>\n      <td>white</td>\n      <td>3.19</td>\n      <td>9.9</td>\n    </tr>\n    <tr>\n      <th>...</th>\n      <td>...</td>\n      <td>...</td>\n      <td>...</td>\n    </tr>\n    <tr>\n      <th>6492</th>\n      <td>red</td>\n      <td>3.45</td>\n      <td>10.5</td>\n    </tr>\n    <tr>\n      <th>6493</th>\n      <td>red</td>\n      <td>3.52</td>\n      <td>11.2</td>\n    </tr>\n    <tr>\n      <th>6494</th>\n      <td>red</td>\n      <td>3.42</td>\n      <td>11.0</td>\n    </tr>\n    <tr>\n      <th>6495</th>\n      <td>red</td>\n      <td>3.57</td>\n      <td>10.2</td>\n    </tr>\n    <tr>\n      <th>6496</th>\n      <td>red</td>\n      <td>3.39</td>\n      <td>11.0</td>\n    </tr>\n  </tbody>\n</table>\n<p>6497 rows × 3 columns</p>\n</div>"
     },
     "metadata": {},
     "output_type": "display_data"
    }
   ],
   "source": [
    "df1 = df[['type', 'pH', 'alcohol']]\n",
    "display(df1)"
   ],
   "metadata": {
    "collapsed": false,
    "pycharm": {
     "name": "#%%\n"
    }
   }
  },
  {
   "cell_type": "code",
   "execution_count": 4,
   "outputs": [
    {
     "data": {
      "text/plain": "       type    pH  alcohol\n0     white  3.00      8.8\n1     white  3.30      9.5\n2     white  3.26     10.1\n3     white  3.19      9.9\n4     white  3.19      9.9\n...     ...   ...      ...\n6492    red  3.45     10.5\n6493    red  3.52     11.2\n6494    red  3.42     11.0\n6495    red  3.57     10.2\n6496    red  3.39     11.0\n\n[6497 rows x 3 columns]",
      "text/html": "<div>\n<style scoped>\n    .dataframe tbody tr th:only-of-type {\n        vertical-align: middle;\n    }\n\n    .dataframe tbody tr th {\n        vertical-align: top;\n    }\n\n    .dataframe thead th {\n        text-align: right;\n    }\n</style>\n<table border=\"1\" class=\"dataframe\">\n  <thead>\n    <tr style=\"text-align: right;\">\n      <th></th>\n      <th>type</th>\n      <th>pH</th>\n      <th>alcohol</th>\n    </tr>\n  </thead>\n  <tbody>\n    <tr>\n      <th>0</th>\n      <td>white</td>\n      <td>3.00</td>\n      <td>8.8</td>\n    </tr>\n    <tr>\n      <th>1</th>\n      <td>white</td>\n      <td>3.30</td>\n      <td>9.5</td>\n    </tr>\n    <tr>\n      <th>2</th>\n      <td>white</td>\n      <td>3.26</td>\n      <td>10.1</td>\n    </tr>\n    <tr>\n      <th>3</th>\n      <td>white</td>\n      <td>3.19</td>\n      <td>9.9</td>\n    </tr>\n    <tr>\n      <th>4</th>\n      <td>white</td>\n      <td>3.19</td>\n      <td>9.9</td>\n    </tr>\n    <tr>\n      <th>...</th>\n      <td>...</td>\n      <td>...</td>\n      <td>...</td>\n    </tr>\n    <tr>\n      <th>6492</th>\n      <td>red</td>\n      <td>3.45</td>\n      <td>10.5</td>\n    </tr>\n    <tr>\n      <th>6493</th>\n      <td>red</td>\n      <td>3.52</td>\n      <td>11.2</td>\n    </tr>\n    <tr>\n      <th>6494</th>\n      <td>red</td>\n      <td>3.42</td>\n      <td>11.0</td>\n    </tr>\n    <tr>\n      <th>6495</th>\n      <td>red</td>\n      <td>3.57</td>\n      <td>10.2</td>\n    </tr>\n    <tr>\n      <th>6496</th>\n      <td>red</td>\n      <td>3.39</td>\n      <td>11.0</td>\n    </tr>\n  </tbody>\n</table>\n<p>6497 rows × 3 columns</p>\n</div>"
     },
     "metadata": {},
     "output_type": "display_data"
    }
   ],
   "source": [
    "df1.dropna()\n",
    "display(df1)"
   ],
   "metadata": {
    "collapsed": false,
    "pycharm": {
     "name": "#%%\n"
    }
   }
  },
  {
   "cell_type": "code",
   "execution_count": 5,
   "outputs": [
    {
     "name": "stderr",
     "output_type": "stream",
     "text": [
      "/var/folders/78/6y5fpy1j5hlbymrj4fxqkkz40000gn/T/ipykernel_32633/2086178244.py:1: UserWarning: Boolean Series key will be reindexed to match DataFrame index.\n",
      "  dfwhite = df2 = df1[df1['type']=='white'][df1['alcohol']>10.0]\n"
     ]
    },
    {
     "data": {
      "text/plain": "       type    pH  alcohol\n2     white  3.26     10.1\n5     white  3.26     10.1\n9     white  3.22     11.0\n10    white  2.99     12.0\n12    white  3.18     10.8\n...     ...   ...      ...\n4890  white  3.06     11.8\n4891  white  3.24     10.6\n4893  white  3.27     11.2\n4896  white  3.34     12.8\n4897  white  3.26     11.8\n\n[2813 rows x 3 columns]",
      "text/html": "<div>\n<style scoped>\n    .dataframe tbody tr th:only-of-type {\n        vertical-align: middle;\n    }\n\n    .dataframe tbody tr th {\n        vertical-align: top;\n    }\n\n    .dataframe thead th {\n        text-align: right;\n    }\n</style>\n<table border=\"1\" class=\"dataframe\">\n  <thead>\n    <tr style=\"text-align: right;\">\n      <th></th>\n      <th>type</th>\n      <th>pH</th>\n      <th>alcohol</th>\n    </tr>\n  </thead>\n  <tbody>\n    <tr>\n      <th>2</th>\n      <td>white</td>\n      <td>3.26</td>\n      <td>10.1</td>\n    </tr>\n    <tr>\n      <th>5</th>\n      <td>white</td>\n      <td>3.26</td>\n      <td>10.1</td>\n    </tr>\n    <tr>\n      <th>9</th>\n      <td>white</td>\n      <td>3.22</td>\n      <td>11.0</td>\n    </tr>\n    <tr>\n      <th>10</th>\n      <td>white</td>\n      <td>2.99</td>\n      <td>12.0</td>\n    </tr>\n    <tr>\n      <th>12</th>\n      <td>white</td>\n      <td>3.18</td>\n      <td>10.8</td>\n    </tr>\n    <tr>\n      <th>...</th>\n      <td>...</td>\n      <td>...</td>\n      <td>...</td>\n    </tr>\n    <tr>\n      <th>4890</th>\n      <td>white</td>\n      <td>3.06</td>\n      <td>11.8</td>\n    </tr>\n    <tr>\n      <th>4891</th>\n      <td>white</td>\n      <td>3.24</td>\n      <td>10.6</td>\n    </tr>\n    <tr>\n      <th>4893</th>\n      <td>white</td>\n      <td>3.27</td>\n      <td>11.2</td>\n    </tr>\n    <tr>\n      <th>4896</th>\n      <td>white</td>\n      <td>3.34</td>\n      <td>12.8</td>\n    </tr>\n    <tr>\n      <th>4897</th>\n      <td>white</td>\n      <td>3.26</td>\n      <td>11.8</td>\n    </tr>\n  </tbody>\n</table>\n<p>2813 rows × 3 columns</p>\n</div>"
     },
     "metadata": {},
     "output_type": "display_data"
    }
   ],
   "source": [
    "dfwhite = df2 = df1[df1['type']=='white'][df1['alcohol']>10.0]\n",
    "display(dfwhite)"
   ],
   "metadata": {
    "collapsed": false,
    "pycharm": {
     "name": "#%%\n"
    }
   }
  },
  {
   "cell_type": "code",
   "execution_count": 6,
   "outputs": [
    {
     "data": {
      "text/plain": "     type    pH  alcohol\n2     red  3.26     10.1\n5     red  3.26     10.1\n9     red  3.22     11.0\n10    red  2.99     12.0\n12    red  3.18     10.8\n...   ...   ...      ...\n4890  red  3.06     11.8\n4891  red  3.24     10.6\n4893  red  3.27     11.2\n4896  red  3.34     12.8\n4897  red  3.26     11.8\n\n[2813 rows x 3 columns]",
      "text/html": "<div>\n<style scoped>\n    .dataframe tbody tr th:only-of-type {\n        vertical-align: middle;\n    }\n\n    .dataframe tbody tr th {\n        vertical-align: top;\n    }\n\n    .dataframe thead th {\n        text-align: right;\n    }\n</style>\n<table border=\"1\" class=\"dataframe\">\n  <thead>\n    <tr style=\"text-align: right;\">\n      <th></th>\n      <th>type</th>\n      <th>pH</th>\n      <th>alcohol</th>\n    </tr>\n  </thead>\n  <tbody>\n    <tr>\n      <th>2</th>\n      <td>red</td>\n      <td>3.26</td>\n      <td>10.1</td>\n    </tr>\n    <tr>\n      <th>5</th>\n      <td>red</td>\n      <td>3.26</td>\n      <td>10.1</td>\n    </tr>\n    <tr>\n      <th>9</th>\n      <td>red</td>\n      <td>3.22</td>\n      <td>11.0</td>\n    </tr>\n    <tr>\n      <th>10</th>\n      <td>red</td>\n      <td>2.99</td>\n      <td>12.0</td>\n    </tr>\n    <tr>\n      <th>12</th>\n      <td>red</td>\n      <td>3.18</td>\n      <td>10.8</td>\n    </tr>\n    <tr>\n      <th>...</th>\n      <td>...</td>\n      <td>...</td>\n      <td>...</td>\n    </tr>\n    <tr>\n      <th>4890</th>\n      <td>red</td>\n      <td>3.06</td>\n      <td>11.8</td>\n    </tr>\n    <tr>\n      <th>4891</th>\n      <td>red</td>\n      <td>3.24</td>\n      <td>10.6</td>\n    </tr>\n    <tr>\n      <th>4893</th>\n      <td>red</td>\n      <td>3.27</td>\n      <td>11.2</td>\n    </tr>\n    <tr>\n      <th>4896</th>\n      <td>red</td>\n      <td>3.34</td>\n      <td>12.8</td>\n    </tr>\n    <tr>\n      <th>4897</th>\n      <td>red</td>\n      <td>3.26</td>\n      <td>11.8</td>\n    </tr>\n  </tbody>\n</table>\n<p>2813 rows × 3 columns</p>\n</div>"
     },
     "metadata": {},
     "output_type": "display_data"
    }
   ],
   "source": [
    "dfwhite['type'].iloc[dfwhite['type']=='white'] = 'red'\n",
    "display(dfwhite)"
   ],
   "metadata": {
    "collapsed": false,
    "pycharm": {
     "name": "#%%\n"
    }
   }
  },
  {
   "cell_type": "code",
   "execution_count": 7,
   "outputs": [
    {
     "data": {
      "text/plain": "      alcohol  pH type\n2         NaN NaN  NaN\n5         NaN NaN  NaN\n9         NaN NaN  NaN\n10        NaN NaN  NaN\n12        NaN NaN  NaN\n...       ...  ..  ...\n4890      NaN NaN  NaN\n4891      NaN NaN  NaN\n4893      NaN NaN  NaN\n4896      NaN NaN  NaN\n4897      NaN NaN  NaN\n\n[2813 rows x 3 columns]",
      "text/html": "<div>\n<style scoped>\n    .dataframe tbody tr th:only-of-type {\n        vertical-align: middle;\n    }\n\n    .dataframe tbody tr th {\n        vertical-align: top;\n    }\n\n    .dataframe thead th {\n        text-align: right;\n    }\n</style>\n<table border=\"1\" class=\"dataframe\">\n  <thead>\n    <tr style=\"text-align: right;\">\n      <th></th>\n      <th>alcohol</th>\n      <th>pH</th>\n      <th>type</th>\n    </tr>\n  </thead>\n  <tbody>\n    <tr>\n      <th>2</th>\n      <td>NaN</td>\n      <td>NaN</td>\n      <td>NaN</td>\n    </tr>\n    <tr>\n      <th>5</th>\n      <td>NaN</td>\n      <td>NaN</td>\n      <td>NaN</td>\n    </tr>\n    <tr>\n      <th>9</th>\n      <td>NaN</td>\n      <td>NaN</td>\n      <td>NaN</td>\n    </tr>\n    <tr>\n      <th>10</th>\n      <td>NaN</td>\n      <td>NaN</td>\n      <td>NaN</td>\n    </tr>\n    <tr>\n      <th>12</th>\n      <td>NaN</td>\n      <td>NaN</td>\n      <td>NaN</td>\n    </tr>\n    <tr>\n      <th>...</th>\n      <td>...</td>\n      <td>...</td>\n      <td>...</td>\n    </tr>\n    <tr>\n      <th>4890</th>\n      <td>NaN</td>\n      <td>NaN</td>\n      <td>NaN</td>\n    </tr>\n    <tr>\n      <th>4891</th>\n      <td>NaN</td>\n      <td>NaN</td>\n      <td>NaN</td>\n    </tr>\n    <tr>\n      <th>4893</th>\n      <td>NaN</td>\n      <td>NaN</td>\n      <td>NaN</td>\n    </tr>\n    <tr>\n      <th>4896</th>\n      <td>NaN</td>\n      <td>NaN</td>\n      <td>NaN</td>\n    </tr>\n    <tr>\n      <th>4897</th>\n      <td>NaN</td>\n      <td>NaN</td>\n      <td>NaN</td>\n    </tr>\n  </tbody>\n</table>\n<p>2813 rows × 3 columns</p>\n</div>"
     },
     "metadata": {},
     "output_type": "display_data"
    }
   ],
   "source": [
    "dfcombine = dfwhite[['pH', 'alcohol']] + df2[['type']]\n",
    "display(dfcombine)"
   ],
   "metadata": {
    "collapsed": false,
    "pycharm": {
     "name": "#%%\n"
    }
   }
  },
  {
   "cell_type": "code",
   "execution_count": 30,
   "outputs": [],
   "source": [],
   "metadata": {
    "collapsed": false,
    "pycharm": {
     "name": "#%%\n"
    }
   }
  },
  {
   "cell_type": "code",
   "execution_count": null,
   "outputs": [],
   "source": [],
   "metadata": {
    "collapsed": false,
    "pycharm": {
     "name": "#%%\n"
    }
   }
  }
 ],
 "metadata": {
  "kernelspec": {
   "display_name": "Python 3",
   "language": "python",
   "name": "python3"
  },
  "language_info": {
   "codemirror_mode": {
    "name": "ipython",
    "version": 2
   },
   "file_extension": ".py",
   "mimetype": "text/x-python",
   "name": "python",
   "nbconvert_exporter": "python",
   "pygments_lexer": "ipython2",
   "version": "2.7.6"
  }
 },
 "nbformat": 4,
 "nbformat_minor": 0
}